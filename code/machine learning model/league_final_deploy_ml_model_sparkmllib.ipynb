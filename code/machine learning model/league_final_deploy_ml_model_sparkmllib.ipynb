{
 "cells": [
  {
   "cell_type": "markdown",
   "metadata": {},
   "source": [
    "# Connect to Azure ML workspace"
   ]
  },
  {
   "cell_type": "code",
   "execution_count": 1,
   "metadata": {},
   "outputs": [
    {
     "data": {
      "text/html": [
       "<style scoped>\n",
       "  .ansiout {\n",
       "    display: block;\n",
       "    unicode-bidi: embed;\n",
       "    white-space: pre-wrap;\n",
       "    word-wrap: break-word;\n",
       "    word-break: break-all;\n",
       "    font-family: \"Source Code Pro\", \"Menlo\", monospace;;\n",
       "    font-size: 13px;\n",
       "    color: #555;\n",
       "    margin-left: 4px;\n",
       "    line-height: 19px;\n",
       "  }\n",
       "</style>\n",
       "<div class=\"ansiout\">Workspace name: league-ws\n",
       "Azure region: northcentralus\n",
       "Subscription id: 79451499-b2c0-4513-8dea-ef7f37173fbb\n",
       "Resource group: league\n",
       "</div>"
      ]
     },
     "metadata": {},
     "output_type": "display_data"
    }
   ],
   "source": [
    "workspace=\"league-ws\"\n",
    "subscription_id=\"79451499-b2c0-4513-8dea-ef7f37173fbb\"\n",
    "resource_grp=\"league\"\n",
    "\n",
    "experiment_name = \"league_predict_temp\"\n",
    "model_name = \"leaguepredict.mml\" # in case you want to change the name, keep the .mml extension\n",
    "ws = Workspace(workspace_name = workspace,\n",
    "               subscription_id = subscription_id,\n",
    "               resource_group = resource_grp)\n",
    "\n",
    "ws.get_details()\n",
    "\n",
    "print('Workspace name: ' + ws.name, \n",
    "      'Azure region: ' + ws.location, \n",
    "      'Subscription id: ' + ws.subscription_id, \n",
    "      'Resource group: ' + ws.resource_group, sep = '\\n')"
   ]
  },
  {
   "cell_type": "code",
   "execution_count": 2,
   "metadata": {},
   "outputs": [
    {
     "data": {
      "text/html": [
       "<style scoped>\n",
       "  .ansiout {\n",
       "    display: block;\n",
       "    unicode-bidi: embed;\n",
       "    white-space: pre-wrap;\n",
       "    word-wrap: break-word;\n",
       "    word-break: break-all;\n",
       "    font-family: \"Source Code Pro\", \"Menlo\", monospace;;\n",
       "    font-size: 13px;\n",
       "    color: #555;\n",
       "    margin-left: 4px;\n",
       "    line-height: 19px;\n",
       "  }\n",
       "</style>\n",
       "<div class=\"ansiout\">SDK version: 1.0.74\n",
       "</div>"
      ]
     },
     "metadata": {},
     "output_type": "display_data"
    }
   ],
   "source": [
    "import azureml.core\n",
    "from azureml.core import Workspace\n",
    "from azureml.core.run import Run\n",
    "from azureml.core.experiment import Experiment\n",
    "\n",
    "# Check core SDK version number\n",
    "print(\"SDK version:\", azureml.core.VERSION)"
   ]
  },
  {
   "cell_type": "code",
   "execution_count": 3,
   "metadata": {},
   "outputs": [
    {
     "data": {
      "text/html": [
       "<style scoped>\n",
       "  .ansiout {\n",
       "    display: block;\n",
       "    unicode-bidi: embed;\n",
       "    white-space: pre-wrap;\n",
       "    word-wrap: break-word;\n",
       "    word-break: break-all;\n",
       "    font-family: \"Source Code Pro\", \"Menlo\", monospace;;\n",
       "    font-size: 13px;\n",
       "    color: #555;\n",
       "    margin-left: 4px;\n",
       "    line-height: 19px;\n",
       "  }\n",
       "</style>\n",
       "<div class=\"ansiout\"></div>"
      ]
     },
     "metadata": {},
     "output_type": "display_data"
    }
   ],
   "source": [
    "import os\n",
    "import numpy as np\n",
    "from pyspark.ml.classification import LogisticRegression\n",
    "from pyspark.ml.evaluation import BinaryClassificationEvaluator"
   ]
  },
  {
   "cell_type": "markdown",
   "metadata": {},
   "source": [
    "# Read final matrix from cosmos db"
   ]
  },
  {
   "cell_type": "code",
   "execution_count": 4,
   "metadata": {},
   "outputs": [
    {
     "data": {
      "text/html": [
       "<style scoped>\n",
       "  .ansiout {\n",
       "    display: block;\n",
       "    unicode-bidi: embed;\n",
       "    white-space: pre-wrap;\n",
       "    word-wrap: break-word;\n",
       "    word-break: break-all;\n",
       "    font-family: \"Source Code Pro\", \"Menlo\", monospace;;\n",
       "    font-size: 13px;\n",
       "    color: #555;\n",
       "    margin-left: 4px;\n",
       "    line-height: 19px;\n",
       "  }\n",
       "</style>\n",
       "<div class=\"ansiout\"></div>"
      ]
     },
     "metadata": {},
     "output_type": "display_data"
    }
   ],
   "source": [
    "## Dataset\n",
    "# Champion Container\n",
    "readConfig = {\n",
    "\"Endpoint\" : \"https://lolpredict.documents.azure.com:443/\",\n",
    "\"Masterkey\" : \"lAb4WLi89cpXb7jGeMlLZtXUqvlGJip9NtKxDZMWHKUf0wasuAFknSgTxX3M7RAlK2uyFZjau7AJethdaBRDWw==\",\n",
    "\"Database\" : \"league_extraction\",\n",
    "\"Collection\" : \"FINAL_FEATURES_MATRIX_9112\", \n",
    "}\n",
    "final_features_matrix = spark.read.format(\"com.microsoft.azure.cosmosdb.spark\").options(**readConfig).load()"
   ]
  },
  {
   "cell_type": "code",
   "execution_count": 5,
   "metadata": {},
   "outputs": [
    {
     "data": {
      "text/html": [
       "<style scoped>\n",
       "  .ansiout {\n",
       "    display: block;\n",
       "    unicode-bidi: embed;\n",
       "    white-space: pre-wrap;\n",
       "    word-wrap: break-word;\n",
       "    word-break: break-all;\n",
       "    font-family: \"Source Code Pro\", \"Menlo\", monospace;;\n",
       "    font-size: 13px;\n",
       "    color: #555;\n",
       "    margin-left: 4px;\n",
       "    line-height: 19px;\n",
       "  }\n",
       "</style>\n",
       "<div class=\"ansiout\"><span class=\"ansired\">Out[</span><span class=\"ansired\">20</span><span class=\"ansired\">]: </span>[&apos;100_CARRY_armorperlevel&apos;,\n",
       " &apos;100_CARRY_attackdamageperlevel&apos;,\n",
       " &apos;100_CARRY_attackrange&apos;,\n",
       " &apos;100_CARRY_attackspeed&apos;,\n",
       " &apos;100_CARRY_avg(assists)&apos;,\n",
       " &apos;100_CARRY_avg(deaths)&apos;,\n",
       " &apos;100_CARRY_avg(gold_earned)&apos;,\n",
       " &apos;100_CARRY_avg(kills)&apos;,\n",
       " &apos;100_CARRY_avg(totalDamageDealt)&apos;,\n",
       " &apos;100_CARRY_avg(totalDamageTaken)&apos;,\n",
       " &apos;100_CARRY_avg(totalMinionsKilled)&apos;,\n",
       " &apos;100_CARRY_avg(totalTimeCrowdControlDealt)&apos;,\n",
       " &apos;100_CARRY_avg(visionScore)&apos;,\n",
       " &apos;100_CARRY_hpperlevel&apos;,\n",
       " &apos;100_CARRY_spellblockperlevel&apos;,\n",
       " &apos;100_JUNGLE_armorperlevel&apos;,\n",
       " &apos;100_JUNGLE_attackdamageperlevel&apos;,\n",
       " &apos;100_JUNGLE_attackrange&apos;,\n",
       " &apos;100_JUNGLE_attackspeed&apos;,\n",
       " &apos;100_JUNGLE_avg(assists)&apos;,\n",
       " &apos;100_JUNGLE_avg(deaths)&apos;,\n",
       " &apos;100_JUNGLE_avg(gold_earned)&apos;,\n",
       " &apos;100_JUNGLE_avg(kills)&apos;,\n",
       " &apos;100_JUNGLE_avg(totalDamageDealt)&apos;,\n",
       " &apos;100_JUNGLE_avg(totalDamageTaken)&apos;,\n",
       " &apos;100_JUNGLE_avg(totalMinionsKilled)&apos;,\n",
       " &apos;100_JUNGLE_avg(totalTimeCrowdControlDealt)&apos;,\n",
       " &apos;100_JUNGLE_avg(visionScore)&apos;,\n",
       " &apos;100_JUNGLE_hpperlevel&apos;,\n",
       " &apos;100_JUNGLE_spellblockperlevel&apos;,\n",
       " &apos;100_MIDDLE_armorperlevel&apos;,\n",
       " &apos;100_MIDDLE_attackdamageperlevel&apos;,\n",
       " &apos;100_MIDDLE_attackrange&apos;,\n",
       " &apos;100_MIDDLE_attackspeed&apos;,\n",
       " &apos;100_MIDDLE_avg(assists)&apos;,\n",
       " &apos;100_MIDDLE_avg(deaths)&apos;,\n",
       " &apos;100_MIDDLE_avg(gold_earned)&apos;,\n",
       " &apos;100_MIDDLE_avg(kills)&apos;,\n",
       " &apos;100_MIDDLE_avg(totalDamageDealt)&apos;,\n",
       " &apos;100_MIDDLE_avg(totalDamageTaken)&apos;,\n",
       " &apos;100_MIDDLE_avg(totalMinionsKilled)&apos;,\n",
       " &apos;100_MIDDLE_avg(totalTimeCrowdControlDealt)&apos;,\n",
       " &apos;100_MIDDLE_avg(visionScore)&apos;,\n",
       " &apos;100_MIDDLE_hpperlevel&apos;,\n",
       " &apos;100_MIDDLE_spellblockperlevel&apos;,\n",
       " &apos;100_SUPPORT_armorperlevel&apos;,\n",
       " &apos;100_SUPPORT_attackdamageperlevel&apos;,\n",
       " &apos;100_SUPPORT_attackrange&apos;,\n",
       " &apos;100_SUPPORT_attackspeed&apos;,\n",
       " &apos;100_SUPPORT_avg(assists)&apos;,\n",
       " &apos;100_SUPPORT_avg(deaths)&apos;,\n",
       " &apos;100_SUPPORT_avg(gold_earned)&apos;,\n",
       " &apos;100_SUPPORT_avg(kills)&apos;,\n",
       " &apos;100_SUPPORT_avg(totalDamageDealt)&apos;,\n",
       " &apos;100_SUPPORT_avg(totalDamageTaken)&apos;,\n",
       " &apos;100_SUPPORT_avg(totalMinionsKilled)&apos;,\n",
       " &apos;100_SUPPORT_avg(totalTimeCrowdControlDealt)&apos;,\n",
       " &apos;100_SUPPORT_avg(visionScore)&apos;,\n",
       " &apos;100_SUPPORT_hpperlevel&apos;,\n",
       " &apos;100_SUPPORT_spellblockperlevel&apos;,\n",
       " &apos;100_TOP_armorperlevel&apos;,\n",
       " &apos;100_TOP_attackdamageperlevel&apos;,\n",
       " &apos;100_TOP_attackrange&apos;,\n",
       " &apos;100_TOP_attackspeed&apos;,\n",
       " &apos;100_TOP_avg(assists)&apos;,\n",
       " &apos;100_TOP_avg(deaths)&apos;,\n",
       " &apos;100_TOP_avg(gold_earned)&apos;,\n",
       " &apos;100_TOP_avg(kills)&apos;,\n",
       " &apos;100_TOP_avg(totalDamageDealt)&apos;,\n",
       " &apos;100_TOP_avg(totalDamageTaken)&apos;,\n",
       " &apos;100_TOP_avg(totalMinionsKilled)&apos;,\n",
       " &apos;100_TOP_avg(totalTimeCrowdControlDealt)&apos;,\n",
       " &apos;100_TOP_avg(visionScore)&apos;,\n",
       " &apos;100_TOP_hpperlevel&apos;,\n",
       " &apos;100_TOP_spellblockperlevel&apos;,\n",
       " &apos;200_CARRY_armorperlevel&apos;,\n",
       " &apos;200_CARRY_attackdamageperlevel&apos;,\n",
       " &apos;200_CARRY_attackrange&apos;,\n",
       " &apos;200_CARRY_attackspeed&apos;,\n",
       " &apos;200_CARRY_avg(assists)&apos;,\n",
       " &apos;200_CARRY_avg(deaths)&apos;,\n",
       " &apos;200_CARRY_avg(gold_earned)&apos;,\n",
       " &apos;200_CARRY_avg(kills)&apos;,\n",
       " &apos;200_CARRY_avg(totalDamageDealt)&apos;,\n",
       " &apos;200_CARRY_avg(totalDamageTaken)&apos;,\n",
       " &apos;200_CARRY_avg(totalMinionsKilled)&apos;,\n",
       " &apos;200_CARRY_avg(totalTimeCrowdControlDealt)&apos;,\n",
       " &apos;200_CARRY_avg(visionScore)&apos;,\n",
       " &apos;200_CARRY_hpperlevel&apos;,\n",
       " &apos;200_CARRY_spellblockperlevel&apos;,\n",
       " &apos;200_JUNGLE_armorperlevel&apos;,\n",
       " &apos;200_JUNGLE_attackdamageperlevel&apos;,\n",
       " &apos;200_JUNGLE_attackrange&apos;,\n",
       " &apos;200_JUNGLE_attackspeed&apos;,\n",
       " &apos;200_JUNGLE_avg(assists)&apos;,\n",
       " &apos;200_JUNGLE_avg(deaths)&apos;,\n",
       " &apos;200_JUNGLE_avg(gold_earned)&apos;,\n",
       " &apos;200_JUNGLE_avg(kills)&apos;,\n",
       " &apos;200_JUNGLE_avg(totalDamageDealt)&apos;,\n",
       " &apos;200_JUNGLE_avg(totalDamageTaken)&apos;,\n",
       " &apos;200_JUNGLE_avg(totalMinionsKilled)&apos;,\n",
       " &apos;200_JUNGLE_avg(totalTimeCrowdControlDealt)&apos;,\n",
       " &apos;200_JUNGLE_avg(visionScore)&apos;,\n",
       " &apos;200_JUNGLE_hpperlevel&apos;,\n",
       " &apos;200_JUNGLE_spellblockperlevel&apos;,\n",
       " &apos;200_MIDDLE_armorperlevel&apos;,\n",
       " &apos;200_MIDDLE_attackdamageperlevel&apos;,\n",
       " &apos;200_MIDDLE_attackrange&apos;,\n",
       " &apos;200_MIDDLE_attackspeed&apos;,\n",
       " &apos;200_MIDDLE_avg(assists)&apos;,\n",
       " &apos;200_MIDDLE_avg(deaths)&apos;,\n",
       " &apos;200_MIDDLE_avg(gold_earned)&apos;,\n",
       " &apos;200_MIDDLE_avg(kills)&apos;,\n",
       " &apos;200_MIDDLE_avg(totalDamageDealt)&apos;,\n",
       " &apos;200_MIDDLE_avg(totalDamageTaken)&apos;,\n",
       " &apos;200_MIDDLE_avg(totalMinionsKilled)&apos;,\n",
       " &apos;200_MIDDLE_avg(totalTimeCrowdControlDealt)&apos;,\n",
       " &apos;200_MIDDLE_avg(visionScore)&apos;,\n",
       " &apos;200_MIDDLE_hpperlevel&apos;,\n",
       " &apos;200_MIDDLE_spellblockperlevel&apos;,\n",
       " &apos;200_SUPPORT_armorperlevel&apos;,\n",
       " &apos;200_SUPPORT_attackdamageperlevel&apos;,\n",
       " &apos;200_SUPPORT_attackrange&apos;,\n",
       " &apos;200_SUPPORT_attackspeed&apos;,\n",
       " &apos;200_SUPPORT_avg(assists)&apos;,\n",
       " &apos;200_SUPPORT_avg(deaths)&apos;,\n",
       " &apos;200_SUPPORT_avg(gold_earned)&apos;,\n",
       " &apos;200_SUPPORT_avg(kills)&apos;,\n",
       " &apos;200_SUPPORT_avg(totalDamageDealt)&apos;,\n",
       " &apos;200_SUPPORT_avg(totalDamageTaken)&apos;,\n",
       " &apos;200_SUPPORT_avg(totalMinionsKilled)&apos;,\n",
       " &apos;200_SUPPORT_avg(totalTimeCrowdControlDealt)&apos;,\n",
       " &apos;200_SUPPORT_avg(visionScore)&apos;,\n",
       " &apos;200_SUPPORT_hpperlevel&apos;,\n",
       " &apos;200_SUPPORT_spellblockperlevel&apos;,\n",
       " &apos;200_TOP_armorperlevel&apos;,\n",
       " &apos;200_TOP_attackdamageperlevel&apos;,\n",
       " &apos;200_TOP_attackrange&apos;,\n",
       " &apos;200_TOP_attackspeed&apos;,\n",
       " &apos;200_TOP_avg(assists)&apos;,\n",
       " &apos;200_TOP_avg(deaths)&apos;,\n",
       " &apos;200_TOP_avg(gold_earned)&apos;,\n",
       " &apos;200_TOP_avg(kills)&apos;,\n",
       " &apos;200_TOP_avg(totalDamageDealt)&apos;,\n",
       " &apos;200_TOP_avg(totalDamageTaken)&apos;,\n",
       " &apos;200_TOP_avg(totalMinionsKilled)&apos;,\n",
       " &apos;200_TOP_avg(totalTimeCrowdControlDealt)&apos;,\n",
       " &apos;200_TOP_avg(visionScore)&apos;,\n",
       " &apos;200_TOP_hpperlevel&apos;,\n",
       " &apos;200_TOP_spellblockperlevel&apos;]</div>"
      ]
     },
     "metadata": {},
     "output_type": "display_data"
    }
   ],
   "source": [
    "dropped = ['_attachments',\n",
    " '_etag',\n",
    " '_rid',\n",
    " '_self',\n",
    " '_ts',\n",
    " 'id',\n",
    " 'label',\n",
    " 'match_id',\n",
    " '100_CARRY_champion_inv',\n",
    " '100_CARRY_name',\n",
    " '100_CARRY_summonerId_inv',\n",
    " '100_JUNGLE_champion_inv',\n",
    " '100_JUNGLE_name',\n",
    " '100_JUNGLE_summonerId_inv',\n",
    " '100_MIDDLE_champion_inv',\n",
    " '100_MIDDLE_name',\n",
    " '100_MIDDLE_summonerId_inv',\n",
    " '100_SUPPORT_champion_inv',\n",
    " '100_SUPPORT_name',\n",
    " '100_SUPPORT_summonerId_inv',\n",
    " '100_TOP_champion_inv',\n",
    " '100_TOP_name',\n",
    " '100_TOP_summonerId_inv',\n",
    " '200_CARRY_champion_inv',\n",
    " '200_CARRY_name',\n",
    " '200_CARRY_summonerId_inv',\n",
    " '200_JUNGLE_champion_inv',\n",
    " '200_JUNGLE_name',\n",
    " '200_JUNGLE_summonerId_inv',\n",
    " '200_MIDDLE_champion_inv',\n",
    " '200_MIDDLE_name',\n",
    " '200_MIDDLE_summonerId_inv',\n",
    " '200_SUPPORT_champion_inv',\n",
    " '200_SUPPORT_name',\n",
    " '200_SUPPORT_summonerId_inv',\n",
    " '200_TOP_champion_inv',\n",
    " '200_TOP_name',\n",
    " '200_TOP_summonerId_inv']\n",
    "columns = final_features_matrix.schema.names \n",
    "not_col = ['id','match_id','label','_attachments', '_etag', '_rid', '_self', '_ts']\n",
    "features = [col for col in columns if col not in dropped]\n",
    "features"
   ]
  },
  {
   "cell_type": "markdown",
   "metadata": {},
   "source": [
    "## Machine learning model"
   ]
  },
  {
   "cell_type": "code",
   "execution_count": 6,
   "metadata": {},
   "outputs": [
    {
     "data": {
      "text/html": [
       "<style scoped>\n",
       "  .ansiout {\n",
       "    display: block;\n",
       "    unicode-bidi: embed;\n",
       "    white-space: pre-wrap;\n",
       "    word-wrap: break-word;\n",
       "    word-break: break-all;\n",
       "    font-family: \"Source Code Pro\", \"Menlo\", monospace;;\n",
       "    font-size: 13px;\n",
       "    color: #555;\n",
       "    margin-left: 4px;\n",
       "    line-height: 19px;\n",
       "  }\n",
       "</style>\n",
       "<div class=\"ansiout\"></div>"
      ]
     },
     "metadata": {},
     "output_type": "display_data"
    }
   ],
   "source": [
    "from pyspark.ml.feature import VectorAssembler\n",
    "vectorAssembler = VectorAssembler(inputCols = features,outputCol='features')\n",
    "class_df = vectorAssembler.transform(final_features_matrix)\n",
    "class_df = class_df.select(['features','label'])\n",
    "(train_df, test_df) = class_df.randomSplit([0.7,0.3],seed=42)"
   ]
  },
  {
   "cell_type": "code",
   "execution_count": 7,
   "metadata": {},
   "outputs": [
    {
     "data": {
      "text/html": [
       "<style scoped>\n",
       "  .ansiout {\n",
       "    display: block;\n",
       "    unicode-bidi: embed;\n",
       "    white-space: pre-wrap;\n",
       "    word-wrap: break-word;\n",
       "    word-break: break-all;\n",
       "    font-family: \"Source Code Pro\", \"Menlo\", monospace;;\n",
       "    font-size: 13px;\n",
       "    color: #555;\n",
       "    margin-left: 4px;\n",
       "    line-height: 19px;\n",
       "  }\n",
       "</style>\n",
       "<div class=\"ansiout\"><span class=\"ansired\">Out[</span><span class=\"ansired\">22</span><span class=\"ansired\">]: </span>6416</div>"
      ]
     },
     "metadata": {},
     "output_type": "display_data"
    }
   ],
   "source": [
    "train_df.count()"
   ]
  },
  {
   "cell_type": "code",
   "execution_count": 8,
   "metadata": {},
   "outputs": [
    {
     "data": {
      "text/html": [
       "<style scoped>\n",
       "  .ansiout {\n",
       "    display: block;\n",
       "    unicode-bidi: embed;\n",
       "    white-space: pre-wrap;\n",
       "    word-wrap: break-word;\n",
       "    word-break: break-all;\n",
       "    font-family: \"Source Code Pro\", \"Menlo\", monospace;;\n",
       "    font-size: 13px;\n",
       "    color: #555;\n",
       "    margin-left: 4px;\n",
       "    line-height: 19px;\n",
       "  }\n",
       "</style>\n",
       "<div class=\"ansiout\"><span class=\"ansired\">Out[</span><span class=\"ansired\">23</span><span class=\"ansired\">]: </span>2696</div>"
      ]
     },
     "metadata": {},
     "output_type": "display_data"
    }
   ],
   "source": [
    "test_df.count()"
   ]
  },
  {
   "cell_type": "code",
   "execution_count": 9,
   "metadata": {},
   "outputs": [
    {
     "data": {
      "text/html": [
       "<style scoped>\n",
       "  .ansiout {\n",
       "    display: block;\n",
       "    unicode-bidi: embed;\n",
       "    white-space: pre-wrap;\n",
       "    word-wrap: break-word;\n",
       "    word-break: break-all;\n",
       "    font-family: \"Source Code Pro\", \"Menlo\", monospace;;\n",
       "    font-size: 13px;\n",
       "    color: #555;\n",
       "    margin-left: 4px;\n",
       "    line-height: 19px;\n",
       "  }\n",
       "</style>\n",
       "<div class=\"ansiout\">Train Accuracy 0.8552057356608479\n",
       "+--------------------+--------------------+\n",
       "                 FPR|                 TPR|\n",
       "+--------------------+--------------------+\n",
       "                 0.0|                 0.0|\n",
       "                 0.0|0.019931485518530054|\n",
       "                 0.0| 0.03986297103706011|\n",
       "                 0.0| 0.05979445655559016|\n",
       "                 0.0| 0.07972594207412022|\n",
       "                 0.0| 0.09965742759265027|\n",
       "                 0.0| 0.11958891311118032|\n",
       "                 0.0| 0.13952039862971036|\n",
       "3.120124804992199...|  0.1591404546870134|\n",
       "3.120124804992199...| 0.17907194020554346|\n",
       "3.120124804992199...|  0.1990034257240735|\n",
       "3.120124804992199...| 0.21893491124260356|\n",
       "3.120124804992199...|  0.2388663967611336|\n",
       "3.120124804992199...| 0.25879788227966366|\n",
       "6.240249609984399E-4| 0.27841793833696665|\n",
       "6.240249609984399E-4| 0.29834942385549673|\n",
       "  9.3603744149766E-4|  0.3179694799127997|\n",
       "0.001248049921996...| 0.33758953597010277|\n",
       " 0.00187207488299532| 0.35689816256617873|\n",
       " 0.00218408736349454|  0.3765182186234818|\n",
       "+--------------------+--------------------+\n",
       "only showing top 20 rows\n",
       "\n",
       "Train areaUnderROC: 0.9396859275180725\n",
       "truePositive: 1181\n",
       "falsePositive: 209\n",
       "trueNegative: 1101\n",
       "falseNegative: 205\n",
       "precision: 0.8496402877697842\n",
       "recall: 0.8520923520923521\n",
       "Area under ROC: 0.9311589174184552\n",
       "Area Under PR: 0.9366853150983515\n",
       "</div>"
      ]
     },
     "metadata": {},
     "output_type": "display_data"
    }
   ],
   "source": [
    "#Train\n",
    "lr = LogisticRegression()\n",
    "model = lr.fit(train_df)\n",
    "# Print the coefficients and intercept for logistic regression\n",
    "#   print(\"Coefficients: \" + str(model.coefficients))\n",
    "#   print(\"Intercept: \" + str(model.intercept))\n",
    "#Train results\n",
    "train_sum = model.summary\n",
    "accuracy = train_sum.accuracy\n",
    "print(\"Train Accuracy {}\".format(accuracy))\n",
    "train_sum.roc.show()\n",
    "print(\"Train areaUnderROC: \" + str(train_sum.areaUnderROC))\n",
    "\n",
    "#test prediction \n",
    "predictions = model.transform(test_df)\n",
    "predictions.select(\"prediction\",\"label\")\n",
    "\n",
    "#Test evaluation\n",
    "from pyspark.ml.evaluation import BinaryClassificationEvaluator\n",
    "# evaluate. note only 2 metrics are supported out of the box by Spark ML.\n",
    "bce = BinaryClassificationEvaluator(rawPredictionCol='rawPrediction')\n",
    "au_roc = bce.setMetricName('areaUnderROC').evaluate(predictions)\n",
    "au_prc = bce.setMetricName('areaUnderPR').evaluate(predictions)\n",
    "\n",
    "truePositive = predictions.select(\"label\").filter(\"label = 1 and prediction = 1\").count()\n",
    "falsePositive = predictions.select(\"label\").filter(\"label = 0 and prediction = 1\").count()\n",
    "trueNegative = predictions.select(\"label\").filter(\"label = 0 and prediction = 0\").count()\n",
    "falseNegative = predictions.select(\"label\").filter(\"label = 1 and prediction = 0\").count()\n",
    "\n",
    "precision = truePositive/(truePositive + falsePositive)\n",
    "recall = truePositive/(truePositive + falseNegative)\n",
    "\n",
    "print(\"truePositive: \" + str(truePositive))\n",
    "print(\"falsePositive: \" + str(falsePositive))\n",
    "print(\"trueNegative: \" + str(trueNegative))\n",
    "print(\"falseNegative: \" + str(falseNegative))\n",
    "print(\"precision: \" + str(precision))\n",
    "print(\"recall: \" + str(recall))\n",
    "\n",
    "# \"Official\" statical measurement (the closer to 1, the better)\n",
    "print(\"Area under ROC: {}\".format(au_roc))\n",
    "print(\"Area Under PR: {}\".format(au_prc))\n"
   ]
  },
  {
   "cell_type": "code",
   "execution_count": 10,
   "metadata": {},
   "outputs": [],
   "source": []
  }
 ],
 "metadata": {
  "kernelspec": {
   "display_name": "Python 3",
   "language": "python",
   "name": "python3"
  },
  "language_info": {
   "codemirror_mode": {
    "name": "ipython",
    "version": 3
   },
   "file_extension": ".py",
   "mimetype": "text/x-python",
   "name": "python",
   "nbconvert_exporter": "python",
   "pygments_lexer": "ipython3",
   "version": "3.6.4"
  },
  "name": "league_final_deploy_ml_model_sparkmllib",
  "notebookId": 3553620312141991,
  "toc": {
   "base_numbering": 1,
   "nav_menu": {},
   "number_sections": true,
   "sideBar": true,
   "skip_h1_title": false,
   "title_cell": "Table of Contents",
   "title_sidebar": "Contents",
   "toc_cell": false,
   "toc_position": {},
   "toc_section_display": true,
   "toc_window_display": false
  }
 },
 "nbformat": 4,
 "nbformat_minor": 1
}
