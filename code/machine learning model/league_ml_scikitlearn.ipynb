{
 "cells": [
  {
   "cell_type": "markdown",
   "metadata": {},
   "source": [
    "# Connect to Azure ML workspace"
   ]
  },
  {
   "cell_type": "code",
   "execution_count": 1,
   "metadata": {},
   "outputs": [
    {
     "data": {
      "text/html": [
       "<style scoped>\n",
       "  .ansiout {\n",
       "    display: block;\n",
       "    unicode-bidi: embed;\n",
       "    white-space: pre-wrap;\n",
       "    word-wrap: break-word;\n",
       "    word-break: break-all;\n",
       "    font-family: \"Source Code Pro\", \"Menlo\", monospace;;\n",
       "    font-size: 13px;\n",
       "    color: #555;\n",
       "    margin-left: 4px;\n",
       "    line-height: 19px;\n",
       "  }\n",
       "</style>\n",
       "<div class=\"ansiout\">SDK version: 1.0.74\n",
       "Workspace name: league-ws\n",
       "Azure region: northcentralus\n",
       "Subscription id: 79451499-b2c0-4513-8dea-ef7f37173fbb\n",
       "Resource group: league\n",
       "</div>"
      ]
     },
     "metadata": {},
     "output_type": "display_data"
    }
   ],
   "source": [
    "import azureml.core\n",
    "from azureml.core import Workspace\n",
    "from azureml.core.run import Run\n",
    "from azureml.core.experiment import Experiment\n",
    "\n",
    "# Check core SDK version number\n",
    "print(\"SDK version:\", azureml.core.VERSION)\n",
    "workspace=\"league-ws\"\n",
    "subscription_id=\"79451499-b2c0-4513-8dea-ef7f37173fbb\"\n",
    "resource_grp=\"league\"\n",
    "\n",
    "experiment_name = \"league_predict_temp\"\n",
    "model_name = \"leaguepredict.mml\" # in case you want to change the name, keep the .mml extension\n",
    "ws = Workspace(workspace_name = workspace,\n",
    "               subscription_id = subscription_id,\n",
    "               resource_group = resource_grp)\n",
    "\n",
    "ws.get_details()\n",
    "\n",
    "print('Workspace name: ' + ws.name, \n",
    "      'Azure region: ' + ws.location, \n",
    "      'Subscription id: ' + ws.subscription_id, \n",
    "      'Resource group: ' + ws.resource_group, sep = '\\n')"
   ]
  },
  {
   "cell_type": "markdown",
   "metadata": {
    "ExecuteTime": {
     "end_time": "2019-11-24T06:57:05.171430Z",
     "start_time": "2019-11-24T06:57:05.167429Z"
    }
   },
   "source": [
    "# Read final feature table from cosmos DB"
   ]
  },
  {
   "cell_type": "code",
   "execution_count": 2,
   "metadata": {},
   "outputs": [
    {
     "data": {
      "text/html": [
       "<style scoped>\n",
       "  .ansiout {\n",
       "    display: block;\n",
       "    unicode-bidi: embed;\n",
       "    white-space: pre-wrap;\n",
       "    word-wrap: break-word;\n",
       "    word-break: break-all;\n",
       "    font-family: \"Source Code Pro\", \"Menlo\", monospace;;\n",
       "    font-size: 13px;\n",
       "    color: #555;\n",
       "    margin-left: 4px;\n",
       "    line-height: 19px;\n",
       "  }\n",
       "</style>\n",
       "<div class=\"ansiout\"></div>"
      ]
     },
     "metadata": {},
     "output_type": "display_data"
    }
   ],
   "source": [
    "import os\n",
    "import urllib\n",
    "import pprint\n",
    "import numpy as np\n",
    "import shutil\n",
    "import time"
   ]
  },
  {
   "cell_type": "code",
   "execution_count": 3,
   "metadata": {},
   "outputs": [
    {
     "data": {
      "text/html": [
       "<style scoped>\n",
       "  .ansiout {\n",
       "    display: block;\n",
       "    unicode-bidi: embed;\n",
       "    white-space: pre-wrap;\n",
       "    word-wrap: break-word;\n",
       "    word-break: break-all;\n",
       "    font-family: \"Source Code Pro\", \"Menlo\", monospace;;\n",
       "    font-size: 13px;\n",
       "    color: #555;\n",
       "    margin-left: 4px;\n",
       "    line-height: 19px;\n",
       "  }\n",
       "</style>\n",
       "<div class=\"ansiout\"></div>"
      ]
     },
     "metadata": {},
     "output_type": "display_data"
    }
   ],
   "source": [
    "## Dataset\n",
    "# Champion Container\n",
    "readConfig = {\n",
    "\"Endpoint\" : \"https://lolpredict.documents.azure.com:443/\",\n",
    "\"Masterkey\" : \"lAb4WLi89cpXb7jGeMlLZtXUqvlGJip9NtKxDZMWHKUf0wasuAFknSgTxX3M7RAlK2uyFZjau7AJethdaBRDWw==\",\n",
    "\"Database\" : \"league_extraction\",\n",
    "\"Collection\" : \"FINAL_FEATURES_MATRIX_9112\", \n",
    "}\n",
    "final_features_matrix = spark.read.format(\"com.microsoft.azure.cosmosdb.spark\").options(**readConfig).load()"
   ]
  },
  {
   "cell_type": "code",
   "execution_count": 4,
   "metadata": {},
   "outputs": [
    {
     "data": {
      "text/html": [
       "<style scoped>\n",
       "  .ansiout {\n",
       "    display: block;\n",
       "    unicode-bidi: embed;\n",
       "    white-space: pre-wrap;\n",
       "    word-wrap: break-word;\n",
       "    word-break: break-all;\n",
       "    font-family: \"Source Code Pro\", \"Menlo\", monospace;;\n",
       "    font-size: 13px;\n",
       "    color: #555;\n",
       "    margin-left: 4px;\n",
       "    line-height: 19px;\n",
       "  }\n",
       "</style>\n",
       "<div class=\"ansiout\"></div>"
      ]
     },
     "metadata": {},
     "output_type": "display_data"
    }
   ],
   "source": [
    "pfinal=final_features_matrix.toPandas()"
   ]
  },
  {
   "cell_type": "markdown",
   "metadata": {},
   "source": [
    "# Machine Learning and save model to Azure workspace"
   ]
  },
  {
   "cell_type": "code",
   "execution_count": 5,
   "metadata": {},
   "outputs": [
    {
     "data": {
      "text/html": [
       "<style scoped>\n",
       "  .ansiout {\n",
       "    display: block;\n",
       "    unicode-bidi: embed;\n",
       "    white-space: pre-wrap;\n",
       "    word-wrap: break-word;\n",
       "    word-break: break-all;\n",
       "    font-family: \"Source Code Pro\", \"Menlo\", monospace;;\n",
       "    font-size: 13px;\n",
       "    color: #555;\n",
       "    margin-left: 4px;\n",
       "    line-height: 19px;\n",
       "  }\n",
       "</style>\n",
       "<div class=\"ansiout\"></div>"
      ]
     },
     "metadata": {},
     "output_type": "display_data"
    }
   ],
   "source": [
    "from sklearn.linear_model import LogisticRegression\n",
    "from sklearn.model_selection import train_test_split"
   ]
  },
  {
   "cell_type": "code",
   "execution_count": 6,
   "metadata": {},
   "outputs": [
    {
     "data": {
      "text/html": [
       "<style scoped>\n",
       "  .ansiout {\n",
       "    display: block;\n",
       "    unicode-bidi: embed;\n",
       "    white-space: pre-wrap;\n",
       "    word-wrap: break-word;\n",
       "    word-break: break-all;\n",
       "    font-family: \"Source Code Pro\", \"Menlo\", monospace;;\n",
       "    font-size: 13px;\n",
       "    color: #555;\n",
       "    margin-left: 4px;\n",
       "    line-height: 19px;\n",
       "  }\n",
       "</style>\n",
       "<div class=\"ansiout\"><span class=\"ansired\">Out[</span><span class=\"ansired\">9</span><span class=\"ansired\">]: </span>[&apos;100_CARRY_armorperlevel&apos;,\n",
       " &apos;100_CARRY_attackdamageperlevel&apos;,\n",
       " &apos;100_CARRY_attackrange&apos;,\n",
       " &apos;100_CARRY_attackspeed&apos;,\n",
       " &apos;100_CARRY_avg(assists)&apos;,\n",
       " &apos;100_CARRY_avg(deaths)&apos;,\n",
       " &apos;100_CARRY_avg(gold_earned)&apos;,\n",
       " &apos;100_CARRY_avg(kills)&apos;,\n",
       " &apos;100_CARRY_avg(totalDamageDealt)&apos;,\n",
       " &apos;100_CARRY_avg(totalDamageTaken)&apos;,\n",
       " &apos;100_CARRY_avg(totalMinionsKilled)&apos;,\n",
       " &apos;100_CARRY_avg(totalTimeCrowdControlDealt)&apos;,\n",
       " &apos;100_CARRY_avg(visionScore)&apos;,\n",
       " &apos;100_CARRY_champion_inv&apos;,\n",
       " &apos;100_CARRY_hpperlevel&apos;,\n",
       " &apos;100_CARRY_name&apos;,\n",
       " &apos;100_CARRY_spellblockperlevel&apos;,\n",
       " &apos;100_CARRY_summonerId_inv&apos;,\n",
       " &apos;100_JUNGLE_armorperlevel&apos;,\n",
       " &apos;100_JUNGLE_attackdamageperlevel&apos;,\n",
       " &apos;100_JUNGLE_attackrange&apos;,\n",
       " &apos;100_JUNGLE_attackspeed&apos;,\n",
       " &apos;100_JUNGLE_avg(assists)&apos;,\n",
       " &apos;100_JUNGLE_avg(deaths)&apos;,\n",
       " &apos;100_JUNGLE_avg(gold_earned)&apos;,\n",
       " &apos;100_JUNGLE_avg(kills)&apos;,\n",
       " &apos;100_JUNGLE_avg(totalDamageDealt)&apos;,\n",
       " &apos;100_JUNGLE_avg(totalDamageTaken)&apos;,\n",
       " &apos;100_JUNGLE_avg(totalMinionsKilled)&apos;,\n",
       " &apos;100_JUNGLE_avg(totalTimeCrowdControlDealt)&apos;,\n",
       " &apos;100_JUNGLE_avg(visionScore)&apos;,\n",
       " &apos;100_JUNGLE_champion_inv&apos;,\n",
       " &apos;100_JUNGLE_hpperlevel&apos;,\n",
       " &apos;100_JUNGLE_name&apos;,\n",
       " &apos;100_JUNGLE_spellblockperlevel&apos;,\n",
       " &apos;100_JUNGLE_summonerId_inv&apos;,\n",
       " &apos;100_MIDDLE_armorperlevel&apos;,\n",
       " &apos;100_MIDDLE_attackdamageperlevel&apos;,\n",
       " &apos;100_MIDDLE_attackrange&apos;,\n",
       " &apos;100_MIDDLE_attackspeed&apos;,\n",
       " &apos;100_MIDDLE_avg(assists)&apos;,\n",
       " &apos;100_MIDDLE_avg(deaths)&apos;,\n",
       " &apos;100_MIDDLE_avg(gold_earned)&apos;,\n",
       " &apos;100_MIDDLE_avg(kills)&apos;,\n",
       " &apos;100_MIDDLE_avg(totalDamageDealt)&apos;,\n",
       " &apos;100_MIDDLE_avg(totalDamageTaken)&apos;,\n",
       " &apos;100_MIDDLE_avg(totalMinionsKilled)&apos;,\n",
       " &apos;100_MIDDLE_avg(totalTimeCrowdControlDealt)&apos;,\n",
       " &apos;100_MIDDLE_avg(visionScore)&apos;,\n",
       " &apos;100_MIDDLE_champion_inv&apos;,\n",
       " &apos;100_MIDDLE_hpperlevel&apos;,\n",
       " &apos;100_MIDDLE_name&apos;,\n",
       " &apos;100_MIDDLE_spellblockperlevel&apos;,\n",
       " &apos;100_MIDDLE_summonerId_inv&apos;,\n",
       " &apos;100_SUPPORT_armorperlevel&apos;,\n",
       " &apos;100_SUPPORT_attackdamageperlevel&apos;,\n",
       " &apos;100_SUPPORT_attackrange&apos;,\n",
       " &apos;100_SUPPORT_attackspeed&apos;,\n",
       " &apos;100_SUPPORT_avg(assists)&apos;,\n",
       " &apos;100_SUPPORT_avg(deaths)&apos;,\n",
       " &apos;100_SUPPORT_avg(gold_earned)&apos;,\n",
       " &apos;100_SUPPORT_avg(kills)&apos;,\n",
       " &apos;100_SUPPORT_avg(totalDamageDealt)&apos;,\n",
       " &apos;100_SUPPORT_avg(totalDamageTaken)&apos;,\n",
       " &apos;100_SUPPORT_avg(totalMinionsKilled)&apos;,\n",
       " &apos;100_SUPPORT_avg(totalTimeCrowdControlDealt)&apos;,\n",
       " &apos;100_SUPPORT_avg(visionScore)&apos;,\n",
       " &apos;100_SUPPORT_champion_inv&apos;,\n",
       " &apos;100_SUPPORT_hpperlevel&apos;,\n",
       " &apos;100_SUPPORT_name&apos;,\n",
       " &apos;100_SUPPORT_spellblockperlevel&apos;,\n",
       " &apos;100_SUPPORT_summonerId_inv&apos;,\n",
       " &apos;100_TOP_armorperlevel&apos;,\n",
       " &apos;100_TOP_attackdamageperlevel&apos;,\n",
       " &apos;100_TOP_attackrange&apos;,\n",
       " &apos;100_TOP_attackspeed&apos;,\n",
       " &apos;100_TOP_avg(assists)&apos;,\n",
       " &apos;100_TOP_avg(deaths)&apos;,\n",
       " &apos;100_TOP_avg(gold_earned)&apos;,\n",
       " &apos;100_TOP_avg(kills)&apos;,\n",
       " &apos;100_TOP_avg(totalDamageDealt)&apos;,\n",
       " &apos;100_TOP_avg(totalDamageTaken)&apos;,\n",
       " &apos;100_TOP_avg(totalMinionsKilled)&apos;,\n",
       " &apos;100_TOP_avg(totalTimeCrowdControlDealt)&apos;,\n",
       " &apos;100_TOP_avg(visionScore)&apos;,\n",
       " &apos;100_TOP_champion_inv&apos;,\n",
       " &apos;100_TOP_hpperlevel&apos;,\n",
       " &apos;100_TOP_name&apos;,\n",
       " &apos;100_TOP_spellblockperlevel&apos;,\n",
       " &apos;100_TOP_summonerId_inv&apos;,\n",
       " &apos;200_CARRY_armorperlevel&apos;,\n",
       " &apos;200_CARRY_attackdamageperlevel&apos;,\n",
       " &apos;200_CARRY_attackrange&apos;,\n",
       " &apos;200_CARRY_attackspeed&apos;,\n",
       " &apos;200_CARRY_avg(assists)&apos;,\n",
       " &apos;200_CARRY_avg(deaths)&apos;,\n",
       " &apos;200_CARRY_avg(gold_earned)&apos;,\n",
       " &apos;200_CARRY_avg(kills)&apos;,\n",
       " &apos;200_CARRY_avg(totalDamageDealt)&apos;,\n",
       " &apos;200_CARRY_avg(totalDamageTaken)&apos;,\n",
       " &apos;200_CARRY_avg(totalMinionsKilled)&apos;,\n",
       " &apos;200_CARRY_avg(totalTimeCrowdControlDealt)&apos;,\n",
       " &apos;200_CARRY_avg(visionScore)&apos;,\n",
       " &apos;200_CARRY_champion_inv&apos;,\n",
       " &apos;200_CARRY_hpperlevel&apos;,\n",
       " &apos;200_CARRY_name&apos;,\n",
       " &apos;200_CARRY_spellblockperlevel&apos;,\n",
       " &apos;200_CARRY_summonerId_inv&apos;,\n",
       " &apos;200_JUNGLE_armorperlevel&apos;,\n",
       " &apos;200_JUNGLE_attackdamageperlevel&apos;,\n",
       " &apos;200_JUNGLE_attackrange&apos;,\n",
       " &apos;200_JUNGLE_attackspeed&apos;,\n",
       " &apos;200_JUNGLE_avg(assists)&apos;,\n",
       " &apos;200_JUNGLE_avg(deaths)&apos;,\n",
       " &apos;200_JUNGLE_avg(gold_earned)&apos;,\n",
       " &apos;200_JUNGLE_avg(kills)&apos;,\n",
       " &apos;200_JUNGLE_avg(totalDamageDealt)&apos;,\n",
       " &apos;200_JUNGLE_avg(totalDamageTaken)&apos;,\n",
       " &apos;200_JUNGLE_avg(totalMinionsKilled)&apos;,\n",
       " &apos;200_JUNGLE_avg(totalTimeCrowdControlDealt)&apos;,\n",
       " &apos;200_JUNGLE_avg(visionScore)&apos;,\n",
       " &apos;200_JUNGLE_champion_inv&apos;,\n",
       " &apos;200_JUNGLE_hpperlevel&apos;,\n",
       " &apos;200_JUNGLE_name&apos;,\n",
       " &apos;200_JUNGLE_spellblockperlevel&apos;,\n",
       " &apos;200_JUNGLE_summonerId_inv&apos;,\n",
       " &apos;200_MIDDLE_armorperlevel&apos;,\n",
       " &apos;200_MIDDLE_attackdamageperlevel&apos;,\n",
       " &apos;200_MIDDLE_attackrange&apos;,\n",
       " &apos;200_MIDDLE_attackspeed&apos;,\n",
       " &apos;200_MIDDLE_avg(assists)&apos;,\n",
       " &apos;200_MIDDLE_avg(deaths)&apos;,\n",
       " &apos;200_MIDDLE_avg(gold_earned)&apos;,\n",
       " &apos;200_MIDDLE_avg(kills)&apos;,\n",
       " &apos;200_MIDDLE_avg(totalDamageDealt)&apos;,\n",
       " &apos;200_MIDDLE_avg(totalDamageTaken)&apos;,\n",
       " &apos;200_MIDDLE_avg(totalMinionsKilled)&apos;,\n",
       " &apos;200_MIDDLE_avg(totalTimeCrowdControlDealt)&apos;,\n",
       " &apos;200_MIDDLE_avg(visionScore)&apos;,\n",
       " &apos;200_MIDDLE_champion_inv&apos;,\n",
       " &apos;200_MIDDLE_hpperlevel&apos;,\n",
       " &apos;200_MIDDLE_name&apos;,\n",
       " &apos;200_MIDDLE_spellblockperlevel&apos;,\n",
       " &apos;200_MIDDLE_summonerId_inv&apos;,\n",
       " &apos;200_SUPPORT_armorperlevel&apos;,\n",
       " &apos;200_SUPPORT_attackdamageperlevel&apos;,\n",
       " &apos;200_SUPPORT_attackrange&apos;,\n",
       " &apos;200_SUPPORT_attackspeed&apos;,\n",
       " &apos;200_SUPPORT_avg(assists)&apos;,\n",
       " &apos;200_SUPPORT_avg(deaths)&apos;,\n",
       " &apos;200_SUPPORT_avg(gold_earned)&apos;,\n",
       " &apos;200_SUPPORT_avg(kills)&apos;,\n",
       " &apos;200_SUPPORT_avg(totalDamageDealt)&apos;,\n",
       " &apos;200_SUPPORT_avg(totalDamageTaken)&apos;,\n",
       " &apos;200_SUPPORT_avg(totalMinionsKilled)&apos;,\n",
       " &apos;200_SUPPORT_avg(totalTimeCrowdControlDealt)&apos;,\n",
       " &apos;200_SUPPORT_avg(visionScore)&apos;,\n",
       " &apos;200_SUPPORT_champion_inv&apos;,\n",
       " &apos;200_SUPPORT_hpperlevel&apos;,\n",
       " &apos;200_SUPPORT_name&apos;,\n",
       " &apos;200_SUPPORT_spellblockperlevel&apos;,\n",
       " &apos;200_SUPPORT_summonerId_inv&apos;,\n",
       " &apos;200_TOP_armorperlevel&apos;,\n",
       " &apos;200_TOP_attackdamageperlevel&apos;,\n",
       " &apos;200_TOP_attackrange&apos;,\n",
       " &apos;200_TOP_attackspeed&apos;,\n",
       " &apos;200_TOP_avg(assists)&apos;,\n",
       " &apos;200_TOP_avg(deaths)&apos;,\n",
       " &apos;200_TOP_avg(gold_earned)&apos;,\n",
       " &apos;200_TOP_avg(kills)&apos;,\n",
       " &apos;200_TOP_avg(totalDamageDealt)&apos;,\n",
       " &apos;200_TOP_avg(totalDamageTaken)&apos;,\n",
       " &apos;200_TOP_avg(totalMinionsKilled)&apos;,\n",
       " &apos;200_TOP_avg(totalTimeCrowdControlDealt)&apos;,\n",
       " &apos;200_TOP_avg(visionScore)&apos;,\n",
       " &apos;200_TOP_champion_inv&apos;,\n",
       " &apos;200_TOP_hpperlevel&apos;,\n",
       " &apos;200_TOP_name&apos;,\n",
       " &apos;200_TOP_spellblockperlevel&apos;,\n",
       " &apos;200_TOP_summonerId_inv&apos;,\n",
       " &apos;_attachments&apos;,\n",
       " &apos;_etag&apos;,\n",
       " &apos;_rid&apos;,\n",
       " &apos;_self&apos;,\n",
       " &apos;_ts&apos;,\n",
       " &apos;id&apos;,\n",
       " &apos;label&apos;,\n",
       " &apos;match_id&apos;]</div>"
      ]
     },
     "metadata": {},
     "output_type": "display_data"
    }
   ],
   "source": [
    "list(pfinal.columns)"
   ]
  },
  {
   "cell_type": "code",
   "execution_count": 7,
   "metadata": {},
   "outputs": [
    {
     "data": {
      "text/html": [
       "<style scoped>\n",
       "  .ansiout {\n",
       "    display: block;\n",
       "    unicode-bidi: embed;\n",
       "    white-space: pre-wrap;\n",
       "    word-wrap: break-word;\n",
       "    word-break: break-all;\n",
       "    font-family: \"Source Code Pro\", \"Menlo\", monospace;;\n",
       "    font-size: 13px;\n",
       "    color: #555;\n",
       "    margin-left: 4px;\n",
       "    line-height: 19px;\n",
       "  }\n",
       "</style>\n",
       "<div class=\"ansiout\"><span class=\"ansired\">Out[</span><span class=\"ansired\">10</span><span class=\"ansired\">]: </span>[&apos;_attachments&apos;,\n",
       " &apos;_etag&apos;,\n",
       " &apos;_rid&apos;,\n",
       " &apos;_self&apos;,\n",
       " &apos;_ts&apos;,\n",
       " &apos;id&apos;,\n",
       " &apos;label&apos;,\n",
       " &apos;match_id&apos;,\n",
       " &apos;100_CARRY_champion_inv&apos;,\n",
       " &apos;100_CARRY_name&apos;,\n",
       " &apos;100_CARRY_summonerId_inv&apos;,\n",
       " &apos;100_JUNGLE_champion_inv&apos;,\n",
       " &apos;100_JUNGLE_name&apos;,\n",
       " &apos;100_JUNGLE_summonerId_inv&apos;,\n",
       " &apos;100_MIDDLE_champion_inv&apos;,\n",
       " &apos;100_MIDDLE_name&apos;,\n",
       " &apos;100_MIDDLE_summonerId_inv&apos;,\n",
       " &apos;100_SUPPORT_champion_inv&apos;,\n",
       " &apos;100_SUPPORT_name&apos;,\n",
       " &apos;100_SUPPORT_summonerId_inv&apos;,\n",
       " &apos;100_TOP_champion_inv&apos;,\n",
       " &apos;100_TOP_name&apos;,\n",
       " &apos;100_TOP_summonerId_inv&apos;,\n",
       " &apos;200_CARRY_champion_inv&apos;,\n",
       " &apos;200_CARRY_name&apos;,\n",
       " &apos;200_CARRY_summonerId_inv&apos;,\n",
       " &apos;200_JUNGLE_champion_inv&apos;,\n",
       " &apos;200_JUNGLE_name&apos;,\n",
       " &apos;200_JUNGLE_summonerId_inv&apos;,\n",
       " &apos;200_MIDDLE_champion_inv&apos;,\n",
       " &apos;200_MIDDLE_name&apos;,\n",
       " &apos;200_MIDDLE_summonerId_inv&apos;,\n",
       " &apos;200_SUPPORT_champion_inv&apos;,\n",
       " &apos;200_SUPPORT_name&apos;,\n",
       " &apos;200_SUPPORT_summonerId_inv&apos;,\n",
       " &apos;200_TOP_champion_inv&apos;,\n",
       " &apos;200_TOP_name&apos;,\n",
       " &apos;200_TOP_summonerId_inv&apos;]</div>"
      ]
     },
     "metadata": {},
     "output_type": "display_data"
    }
   ],
   "source": [
    "#drop uncessary columns\n",
    "dropped=[\n",
    " '_attachments',\n",
    " '_etag',\n",
    " '_rid',\n",
    " '_self',\n",
    " '_ts',\n",
    " 'id',\n",
    " 'label',\n",
    " 'match_id',\n",
    " ]\n",
    "for i in pfinal.columns:\n",
    "    if i not in dropped:\n",
    "        if \"summonerId_inv\" in i or \"name\" in i or 'champion_inv' in i:\n",
    "            dropped.append(i)"
   ]
  },
  {
   "cell_type": "code",
   "execution_count": 8,
   "metadata": {},
   "outputs": [
    {
     "data": {
      "text/html": [
       "<style scoped>\n",
       "  .ansiout {\n",
       "    display: block;\n",
       "    unicode-bidi: embed;\n",
       "    white-space: pre-wrap;\n",
       "    word-wrap: break-word;\n",
       "    word-break: break-all;\n",
       "    font-family: \"Source Code Pro\", \"Menlo\", monospace;;\n",
       "    font-size: 13px;\n",
       "    color: #555;\n",
       "    margin-left: 4px;\n",
       "    line-height: 19px;\n",
       "  }\n",
       "</style>\n",
       "<div class=\"ansiout\">There are 6378 training instances and 2734 test instance\n",
       "</div>"
      ]
     },
     "metadata": {},
     "output_type": "display_data"
    }
   ],
   "source": [
    "y=pfinal['label']\n",
    "x=pfinal.drop(dropped, axis=1)\n",
    "x_train, x_test, y_train, y_test=train_test_split(x,y,test_size=.3)\n",
    "print(\"There are {} training instances and {} test instance\".format(len(x_train),len(x_test)))"
   ]
  },
  {
   "cell_type": "code",
   "execution_count": 10,
   "metadata": {},
   "outputs": [
    {
     "data": {
      "text/html": [
       "<style scoped>\n",
       "  .ansiout {\n",
       "    display: block;\n",
       "    unicode-bidi: embed;\n",
       "    white-space: pre-wrap;\n",
       "    word-wrap: break-word;\n",
       "    word-break: break-all;\n",
       "    font-family: \"Source Code Pro\", \"Menlo\", monospace;;\n",
       "    font-size: 13px;\n",
       "    color: #555;\n",
       "    margin-left: 4px;\n",
       "    line-height: 19px;\n",
       "  }\n",
       "</style>\n",
       "<div class=\"ansiout\"></div>"
      ]
     },
     "metadata": {},
     "output_type": "display_data"
    }
   ],
   "source": [
    "model_name=\"lrm_league_predict.pkl\""
   ]
  },
  {
   "cell_type": "code",
   "execution_count": 11,
   "metadata": {},
   "outputs": [
    {
     "data": {
      "text/html": [
       "<style scoped>\n",
       "  .ansiout {\n",
       "    display: block;\n",
       "    unicode-bidi: embed;\n",
       "    white-space: pre-wrap;\n",
       "    word-wrap: break-word;\n",
       "    word-break: break-all;\n",
       "    font-family: \"Source Code Pro\", \"Menlo\", monospace;;\n",
       "    font-size: 13px;\n",
       "    color: #555;\n",
       "    margin-left: 4px;\n",
       "    line-height: 19px;\n",
       "  }\n",
       "</style>\n",
       "<div class=\"ansiout\"></div>"
      ]
     },
     "metadata": {},
     "output_type": "display_data"
    }
   ],
   "source": [
    "from azureml.core import Experiment\n",
    "experiment = Experiment(workspace=ws, name=\"league-exp-final\")\n"
   ]
  },
  {
   "cell_type": "code",
   "execution_count": 12,
   "metadata": {},
   "outputs": [
    {
     "data": {
      "text/html": [
       "<style scoped>\n",
       "  .ansiout {\n",
       "    display: block;\n",
       "    unicode-bidi: embed;\n",
       "    white-space: pre-wrap;\n",
       "    word-wrap: break-word;\n",
       "    word-break: break-all;\n",
       "    font-family: \"Source Code Pro\", \"Menlo\", monospace;;\n",
       "    font-size: 13px;\n",
       "    color: #555;\n",
       "    margin-left: 4px;\n",
       "    line-height: 19px;\n",
       "  }\n",
       "</style>\n",
       "<div class=\"ansiout\">Train accuracy:0.8424270931326434\n",
       "Test accuracy:0.8354059985369422\n",
       "</div>"
      ]
     },
     "metadata": {},
     "output_type": "display_data"
    }
   ],
   "source": [
    "# load train and test set into numpy arrays\n",
    "# note we scale the pixel intensity values to 0-1 (by dividing it with 255.0) so the model can converge faster.\n",
    "from sklearn.externals import joblib\n",
    "run = experiment.start_logging()\n",
    "lrm = LogisticRegression()\n",
    "\n",
    "lrm.fit(x_train,y_train)\n",
    "\n",
    "predicted=lrm.predict(x_test)\n",
    "score=lrm.score(x_test,y_test)\n",
    "score_train = lrm.score(x_train,y_train)\n",
    "print(\"Train accuracy:{}\".format(score_train))\n",
    "print(\"Test accuracy:{}\".format(score))\n",
    "\n",
    "\n",
    "run.log('score', np.float(score))\n",
    "\n",
    "model_name = \"LRM_MODEL_LEAGUE.pkl\"\n",
    "filename = \"outputs/\" + model_name\n",
    "joblib.dump(value=lrm, filename=filename)\n",
    "run.upload_file(name=model_name, path_or_stream=filename)\n",
    "run.complete()\n",
    "\n",
    "#This lead to a pickle file in experiment, download the model file and deploy offline using azure"
   ]
  }
 ],
 "metadata": {
  "kernelspec": {
   "display_name": "Python 3",
   "language": "python",
   "name": "python3"
  },
  "language_info": {
   "codemirror_mode": {
    "name": "ipython",
    "version": 3
   },
   "file_extension": ".py",
   "mimetype": "text/x-python",
   "name": "python",
   "nbconvert_exporter": "python",
   "pygments_lexer": "ipython3",
   "version": "3.6.4"
  },
  "name": "league_ml_scikitlearn",
  "notebookId": 3553620312142049,
  "toc": {
   "base_numbering": 1,
   "nav_menu": {},
   "number_sections": true,
   "sideBar": true,
   "skip_h1_title": false,
   "title_cell": "Table of Contents",
   "title_sidebar": "Contents",
   "toc_cell": false,
   "toc_position": {},
   "toc_section_display": true,
   "toc_window_display": false
  }
 },
 "nbformat": 4,
 "nbformat_minor": 1
}
