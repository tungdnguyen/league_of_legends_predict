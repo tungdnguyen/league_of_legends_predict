{
 "cells": [
  {
   "cell_type": "markdown",
   "metadata": {},
   "source": [
    "# Get Data from cosmos db containers"
   ]
  },
  {
   "cell_type": "code",
   "execution_count": 2,
   "metadata": {
    "cell_status": {
     "execute_time": {
      "duration": 7499.56201171875,
      "end_time": 1574385063998.297
     }
    }
   },
   "outputs": [
    {
     "data": {
      "text/html": [
       "<style scoped>\n",
       "  .ansiout {\n",
       "    display: block;\n",
       "    unicode-bidi: embed;\n",
       "    white-space: pre-wrap;\n",
       "    word-wrap: break-word;\n",
       "    word-break: break-all;\n",
       "    font-family: \"Source Code Pro\", \"Menlo\", monospace;;\n",
       "    font-size: 13px;\n",
       "    color: #555;\n",
       "    margin-left: 4px;\n",
       "    line-height: 19px;\n",
       "  }\n",
       "</style>\n",
       "<div class=\"ansiout\"></div>"
      ]
     },
     "metadata": {},
     "output_type": "display_data"
    }
   ],
   "source": [
    "# Champion Container\n",
    "readConfig = {\n",
    "\"Endpoint\" : \"https://lolpredict.documents.azure.com:443/\",\n",
    "\"Masterkey\" : \"lAb4WLi89cpXb7jGeMlLZtXUqvlGJip9NtKxDZMWHKUf0wasuAFknSgTxX3M7RAlK2uyFZjau7AJethdaBRDWw==\",\n",
    "\"Database\" : \"league_all_data\",\n",
    "\"Collection\" : \"champions\", \n",
    "}\n",
    "champ = spark.read.format(\"com.microsoft.azure.cosmosdb.spark\").options(**readConfig).load()"
   ]
  },
  {
   "cell_type": "code",
   "execution_count": 3,
   "metadata": {
    "cell_status": {
     "execute_time": {
      "duration": 11317.2041015625,
      "end_time": 1574385075327.125
     }
    },
    "collapsed": true
   },
   "outputs": [
    {
     "data": {
      "text/html": [
       "<style scoped>\n",
       "  .ansiout {\n",
       "    display: block;\n",
       "    unicode-bidi: embed;\n",
       "    white-space: pre-wrap;\n",
       "    word-wrap: break-word;\n",
       "    word-break: break-all;\n",
       "    font-family: \"Source Code Pro\", \"Menlo\", monospace;;\n",
       "    font-size: 13px;\n",
       "    color: #555;\n",
       "    margin-left: 4px;\n",
       "    line-height: 19px;\n",
       "  }\n",
       "</style>\n",
       "<div class=\"ansiout\"></div>"
      ]
     },
     "metadata": {},
     "output_type": "display_data"
    }
   ],
   "source": [
    "# match container\n",
    "matchConfig = {\n",
    "\"Endpoint\" : \"https://lolpredict.documents.azure.com:443/\",\n",
    "\"Masterkey\" : \"lAb4WLi89cpXb7jGeMlLZtXUqvlGJip9NtKxDZMWHKUf0wasuAFknSgTxX3M7RAlK2uyFZjau7AJethdaBRDWw==\",\n",
    "\"Database\" : \"league_all_data\",\n",
    "\"Collection\" : \"matches_final\", \n",
    "}\n",
    "\n",
    "match = spark.read.format(\"com.microsoft.azure.cosmosdb.spark\").options(**matchConfig).load()"
   ]
  },
  {
   "cell_type": "code",
   "execution_count": 4,
   "metadata": {},
   "outputs": [
    {
     "data": {
      "text/html": [
       "<style scoped>\n",
       "  .ansiout {\n",
       "    display: block;\n",
       "    unicode-bidi: embed;\n",
       "    white-space: pre-wrap;\n",
       "    word-wrap: break-word;\n",
       "    word-break: break-all;\n",
       "    font-family: \"Source Code Pro\", \"Menlo\", monospace;;\n",
       "    font-size: 13px;\n",
       "    color: #555;\n",
       "    margin-left: 4px;\n",
       "    line-height: 19px;\n",
       "  }\n",
       "</style>\n",
       "<div class=\"ansiout\"></div>"
      ]
     },
     "metadata": {},
     "output_type": "display_data"
    }
   ],
   "source": [
    "match = match.limit(5000)"
   ]
  },
  {
   "cell_type": "code",
   "execution_count": 5,
   "metadata": {
    "cell_status": {
     "execute_time": {
      "duration": 3279.31201171875,
      "end_time": 1574385078618.012
     }
    },
    "collapsed": true
   },
   "outputs": [
    {
     "data": {
      "text/html": [
       "<style scoped>\n",
       "  .ansiout {\n",
       "    display: block;\n",
       "    unicode-bidi: embed;\n",
       "    white-space: pre-wrap;\n",
       "    word-wrap: break-word;\n",
       "    word-break: break-all;\n",
       "    font-family: \"Source Code Pro\", \"Menlo\", monospace;;\n",
       "    font-size: 13px;\n",
       "    color: #555;\n",
       "    margin-left: 4px;\n",
       "    line-height: 19px;\n",
       "  }\n",
       "</style>\n",
       "<div class=\"ansiout\"></div>"
      ]
     },
     "metadata": {},
     "output_type": "display_data"
    }
   ],
   "source": [
    "#match filter\n",
    "match.createOrReplaceTempView(\"table1\")\n",
    "srmatch=spark.sql(\"SELECT * from table1 where stats.gameMode='CLASSIC' and stats.gameDuration>420\") #filtered match table"
   ]
  },
  {
   "cell_type": "code",
   "execution_count": 6,
   "metadata": {
    "cell_status": {
     "execute_time": {
      "duration": 1266.93505859375,
      "end_time": 1574385079894.92
     }
    },
    "collapsed": true
   },
   "outputs": [
    {
     "data": {
      "text/html": [
       "<style scoped>\n",
       "  .ansiout {\n",
       "    display: block;\n",
       "    unicode-bidi: embed;\n",
       "    white-space: pre-wrap;\n",
       "    word-wrap: break-word;\n",
       "    word-break: break-all;\n",
       "    font-family: \"Source Code Pro\", \"Menlo\", monospace;;\n",
       "    font-size: 13px;\n",
       "    color: #555;\n",
       "    margin-left: 4px;\n",
       "    line-height: 19px;\n",
       "  }\n",
       "</style>\n",
       "<div class=\"ansiout\"></div>"
      ]
     },
     "metadata": {},
     "output_type": "display_data"
    }
   ],
   "source": [
    "#player container\n",
    "playConfig = {\n",
    "\"Endpoint\" : \"https://lolpredict.documents.azure.com:443/\",\n",
    "\"Masterkey\" : \"lAb4WLi89cpXb7jGeMlLZtXUqvlGJip9NtKxDZMWHKUf0wasuAFknSgTxX3M7RAlK2uyFZjau7AJethdaBRDWw==\",\n",
    "\"Database\" : \"league_all_data\",\n",
    "\"Collection\" : \"players_final\", \n",
    "}\n",
    "\n",
    "play = spark.read.format(\"com.microsoft.azure.cosmosdb.spark\").options(**playConfig).load()"
   ]
  },
  {
   "cell_type": "code",
   "execution_count": 7,
   "metadata": {
    "cell_status": {
     "execute_time": {
      "duration": 5276.366943359375,
      "end_time": 1574385085181.386
     }
    }
   },
   "outputs": [
    {
     "data": {
      "text/html": [
       "<style scoped>\n",
       "  .ansiout {\n",
       "    display: block;\n",
       "    unicode-bidi: embed;\n",
       "    white-space: pre-wrap;\n",
       "    word-wrap: break-word;\n",
       "    word-break: break-all;\n",
       "    font-family: \"Source Code Pro\", \"Menlo\", monospace;;\n",
       "    font-size: 13px;\n",
       "    color: #555;\n",
       "    margin-left: 4px;\n",
       "    line-height: 19px;\n",
       "  }\n",
       "</style>\n",
       "<div class=\"ansiout\"></div>"
      ]
     },
     "metadata": {},
     "output_type": "display_data"
    }
   ],
   "source": [
    "#player filtering/transforming\n",
    "import pyspark.sql.functions as f\n",
    "play.createOrReplaceTempView(\"table2\")\n",
    "play2=spark.sql(\"SELECT mastery, id from table2\")\n",
    "play2 = play2.limit(1650)"
   ]
  },
  {
   "cell_type": "code",
   "execution_count": 8,
   "metadata": {
    "cell_status": {
     "execute_time": {
      "duration": 2271.047119140625,
      "end_time": 1574385087462.92
     }
    }
   },
   "outputs": [
    {
     "data": {
      "text/html": [
       "<style scoped>\n",
       "  .ansiout {\n",
       "    display: block;\n",
       "    unicode-bidi: embed;\n",
       "    white-space: pre-wrap;\n",
       "    word-wrap: break-word;\n",
       "    word-break: break-all;\n",
       "    font-family: \"Source Code Pro\", \"Menlo\", monospace;;\n",
       "    font-size: 13px;\n",
       "    color: #555;\n",
       "    margin-left: 4px;\n",
       "    line-height: 19px;\n",
       "  }\n",
       "</style>\n",
       "<div class=\"ansiout\">+--------------------+-----+---+----+----+----+----+----+----+----+----+----+----+----+----+---+---+-----+---+----+----+----+----+----+----+-----+----+---+---+---+----+----+----+----+-----+----+----+----+----+-----+----+----+----+---+----+----+---+----+---+----+----+----+----+-----+----+----+----+----+----+-----+----+-----+-----+----+----+----+-----+-----+---+----+----+----+----+----+----+---+----+----+----+----+----+---+-----+-----+----+-----+----+---+----+----+---+----+---+-----+---+---+----+----+----+---+---+----+----+----+----+----+---+----+----+---+----+----+----+----+----+----+----+----+----+----+----+----+----+----+---+----+----+---+----+---+----+----+----+---+----+----+----+----+---+---+----+----+----+----+----+----+----+\n",
       "          summonerID|    1| 10| 101| 102| 103| 104| 105| 106| 107|  11| 110| 111| 112| 113|114|115|  117|119|  12| 120| 121| 122| 126| 127|   13| 131|133|134|136|  14| 141| 142| 143|  145|  15| 150| 154| 157|   16| 161| 163| 164| 17|  18|  19|  2|  20|201| 202| 203|  21|  22|  222| 223|  23| 235| 236| 238|   24| 240|  245|  246|  25| 254|  26|  266|  267|268|  27|  28|  29|   3|  30|  31| 32|  33|  34|  35| 350|  36| 37|   38|   39|   4|   40|  41|412|  42| 420|421| 427|429|   43|432| 44|  45|  48| 497|498|  5|  50|  51| 516| 517| 518| 53|  54|  55|555|  56|  57|  58|  59|   6|  60|  61|  62|  63|  64|  67|  68|  69|   7| 72|  74|  75| 76|  77| 78|  79|   8|  80| 81|  82|  83|  84|  85| 86| 89|   9|  90|  91|  92|  96|  98|  99|\n",
       "+--------------------+-----+---+----+----+----+----+----+----+----+----+----+----+----+----+---+---+-----+---+----+----+----+----+----+----+-----+----+---+---+---+----+----+----+----+-----+----+----+----+----+-----+----+----+----+---+----+----+---+----+---+----+----+----+----+-----+----+----+----+----+----+-----+----+-----+-----+----+----+----+-----+-----+---+----+----+----+----+----+----+---+----+----+----+----+----+---+-----+-----+----+-----+----+---+----+----+---+----+---+-----+---+---+----+----+----+---+---+----+----+----+----+----+---+----+----+---+----+----+----+----+----+----+----+----+----+----+----+----+----+----+---+----+----+---+----+---+----+----+----+---+----+----+----+----+---+---+----+----+----+----+----+----+----+\n",
       "EuXHkripW2Qav3H2l...|31119|218|2712|null|5543|null|4496|null|null|null|null|null|null|null|591|544|42593|899|null|null|6108|null|1187|null|25608|null|979|436| 98|null|null|4003|null|95146|null|null|null|null|45287|1983|null|4769| 90|1124|null|772|1650| 79|null|null|1632|null|30852|null|null|null|5619|null|20526|null|94233|12755|4923|null|1398|10991|72403|153|null|null|1212|null|null|null|940|null|null|null|4908|null|999|24112|33503|null|27385|null|778|2163|null|976|null|235|11602|968|541|null|null|2871|808|835|null|5333|null|5223|null|116|1004|null|192|null|null|null|null|null|null|1476|null|9341|3678|3650|null|1937|4605|129|null|null| 98|null|126|null|1218|null|113|null|null|5768|1058|728|112|null|null|3693|null|1279|null|1920|\n",
       "+--------------------+-----+---+----+----+----+----+----+----+----+----+----+----+----+----+---+---+-----+---+----+----+----+----+----+----+-----+----+---+---+---+----+----+----+----+-----+----+----+----+----+-----+----+----+----+---+----+----+---+----+---+----+----+----+----+-----+----+----+----+----+----+-----+----+-----+-----+----+----+----+-----+-----+---+----+----+----+----+----+----+---+----+----+----+----+----+---+-----+-----+----+-----+----+---+----+----+---+----+---+-----+---+---+----+----+----+---+---+----+----+----+----+----+---+----+----+---+----+----+----+----+----+----+----+----+----+----+----+----+----+----+---+----+----+---+----+---+----+----+----+---+----+----+----+----+---+---+----+----+----+----+----+----+----+\n",
       "only showing top 1 row\n",
       "\n",
       "</div>"
      ]
     },
     "metadata": {},
     "output_type": "display_data"
    }
   ],
   "source": [
    "#separates k/v pairs into many columns\n",
    "expdic2=play2.select(f.col('id').alias('summonerID'),\n",
    "                     f.col('mastery.*'))\n",
    "expdic2.show(1)"
   ]
  },
  {
   "cell_type": "markdown",
   "metadata": {},
   "source": [
    "# Transforming into final  table"
   ]
  },
  {
   "cell_type": "code",
   "execution_count": 10,
   "metadata": {},
   "outputs": [
    {
     "data": {
      "text/html": [
       "<style scoped>\n",
       "  .ansiout {\n",
       "    display: block;\n",
       "    unicode-bidi: embed;\n",
       "    white-space: pre-wrap;\n",
       "    word-wrap: break-word;\n",
       "    word-break: break-all;\n",
       "    font-family: \"Source Code Pro\", \"Menlo\", monospace;;\n",
       "    font-size: 13px;\n",
       "    color: #555;\n",
       "    margin-left: 4px;\n",
       "    line-height: 19px;\n",
       "  }\n",
       "</style>\n",
       "<div class=\"ansiout\"><span class=\"ansired\">Out[</span><span class=\"ansired\">151</span><span class=\"ansired\">]: </span>1650</div>"
      ]
     },
     "metadata": {},
     "output_type": "display_data"
    }
   ],
   "source": [
    "expdic2.count()"
   ]
  },
  {
   "cell_type": "code",
   "execution_count": 11,
   "metadata": {
    "cell_status": {
     "execute_time": {
      "duration": 5300.0830078125,
      "end_time": 1574385092778.218
     }
    }
   },
   "outputs": [
    {
     "data": {
      "text/html": [
       "<style scoped>\n",
       "  .ansiout {\n",
       "    display: block;\n",
       "    unicode-bidi: embed;\n",
       "    white-space: pre-wrap;\n",
       "    word-wrap: break-word;\n",
       "    word-break: break-all;\n",
       "    font-family: \"Source Code Pro\", \"Menlo\", monospace;;\n",
       "    font-size: 13px;\n",
       "    color: #555;\n",
       "    margin-left: 4px;\n",
       "    line-height: 19px;\n",
       "  }\n",
       "</style>\n",
       "<div class=\"ansiout\"><span class=\"ansired\">Out[</span><span class=\"ansired\">152</span><span class=\"ansired\">]: </span>240900</div>"
      ]
     },
     "metadata": {},
     "output_type": "display_data"
    }
   ],
   "source": [
    "from pyspark.sql.functions import array, col, explode, struct, lit\n",
    "def flat_col(df, by):\n",
    "\n",
    "    cols, dtypes = zip(*((c, t) for (c, t) in df.dtypes if c not in by))\n",
    "    assert len(set(dtypes)) == 1, \"All columns have to be of the same type\"\n",
    "\n",
    "    kvs = explode(array([\n",
    "      struct(lit(c).alias(\"championId\"), col(c).alias(\"points\")) for c in cols\n",
    "    ])).alias(\"kvs\")\n",
    "\n",
    "    return df.select(by + [kvs]).select(by + [\"kvs.championId\", \"kvs.points\"])\n",
    "\n",
    "champ_mastery=flat_col(expdic2, [\"summonerID\"])\n",
    "champ_mastery.count()"
   ]
  },
  {
   "cell_type": "markdown",
   "metadata": {},
   "source": [
    "## Champion Table"
   ]
  },
  {
   "cell_type": "code",
   "execution_count": 13,
   "metadata": {
    "cell_status": {
     "execute_time": {
      "duration": 1260.465087890625,
      "end_time": 1574385094049.188
     }
    },
    "scrolled": true
   },
   "outputs": [
    {
     "data": {
      "text/html": [
       "<style scoped>\n",
       "  .ansiout {\n",
       "    display: block;\n",
       "    unicode-bidi: embed;\n",
       "    white-space: pre-wrap;\n",
       "    word-wrap: break-word;\n",
       "    word-break: break-all;\n",
       "    font-family: \"Source Code Pro\", \"Menlo\", monospace;;\n",
       "    font-size: 13px;\n",
       "    color: #555;\n",
       "    margin-left: 4px;\n",
       "    line-height: 19px;\n",
       "  }\n",
       "</style>\n",
       "<div class=\"ansiout\"><span class=\"ansired\">Out[</span><span class=\"ansired\">153</span><span class=\"ansired\">]: </span>146</div>"
      ]
     },
     "metadata": {},
     "output_type": "display_data"
    }
   ],
   "source": [
    "champ.createOrReplaceTempView(\"table3\")\n",
    "champ2=spark.sql(\"SELECT id, name, stats.armorperlevel, stats.attackdamageperlevel, stats.attackspeed, stats.attackrange, stats.spellblockperlevel, stats.hpperlevel FROM table3\")\n",
    "champ2.count()"
   ]
  },
  {
   "cell_type": "markdown",
   "metadata": {},
   "source": [
    "## Join champ and mastery tables"
   ]
  },
  {
   "cell_type": "code",
   "execution_count": 15,
   "metadata": {
    "cell_status": {
     "execute_time": {
      "duration": 3263.43408203125,
      "end_time": 1574385097322.766
     }
    }
   },
   "outputs": [
    {
     "data": {
      "text/html": [
       "<style scoped>\n",
       "  .ansiout {\n",
       "    display: block;\n",
       "    unicode-bidi: embed;\n",
       "    white-space: pre-wrap;\n",
       "    word-wrap: break-word;\n",
       "    word-break: break-all;\n",
       "    font-family: \"Source Code Pro\", \"Menlo\", monospace;;\n",
       "    font-size: 13px;\n",
       "    color: #555;\n",
       "    margin-left: 4px;\n",
       "    line-height: 19px;\n",
       "  }\n",
       "</style>\n",
       "<div class=\"ansiout\">+--------------------+----------+------+---+------+-------------+--------------------+-----------+-----------+------------------+----------+\n",
       "          summonerID|championId|points| id|  name|armorperlevel|attackdamageperlevel|attackspeed|attackrange|spellblockperlevel|hpperlevel|\n",
       "+--------------------+----------+------+---+------+-------------+--------------------+-----------+-----------+------------------+----------+\n",
       "Qmr6VL3k9skBUDd8-...|       266| 45933|266|Aatrox|         3.25|                 5.0|      0.651|        175|              1.25|        90|\n",
       "zlnwNxCazQ5CbPyh5...|       266|  null|266|Aatrox|         3.25|                 5.0|      0.651|        175|              1.25|        90|\n",
       "+--------------------+----------+------+---+------+-------------+--------------------+-----------+-----------+------------------+----------+\n",
       "only showing top 2 rows\n",
       "\n",
       "</div>"
      ]
     },
     "metadata": {},
     "output_type": "display_data"
    }
   ],
   "source": [
    "mast_champ_join = champ_mastery.join(champ2, champ_mastery.championId == champ2.id)\n",
    "mast_champ_join.show(2)"
   ]
  },
  {
   "cell_type": "markdown",
   "metadata": {},
   "source": [
    "## Get label vector"
   ]
  },
  {
   "cell_type": "code",
   "execution_count": 17,
   "metadata": {
    "cell_status": {
     "execute_time": {
      "duration": 251.52587890625,
      "end_time": 1574387575970.745
     }
    }
   },
   "outputs": [
    {
     "data": {
      "text/html": [
       "<style scoped>\n",
       "  .ansiout {\n",
       "    display: block;\n",
       "    unicode-bidi: embed;\n",
       "    white-space: pre-wrap;\n",
       "    word-wrap: break-word;\n",
       "    word-break: break-all;\n",
       "    font-family: \"Source Code Pro\", \"Menlo\", monospace;;\n",
       "    font-size: 13px;\n",
       "    color: #555;\n",
       "    margin-left: 4px;\n",
       "    line-height: 19px;\n",
       "  }\n",
       "</style>\n",
       "<div class=\"ansiout\"></div>"
      ]
     },
     "metadata": {},
     "output_type": "display_data"
    }
   ],
   "source": [
    "import pyspark\n",
    "label2 = srmatch.select(pyspark.sql.functions.col('id'),\n",
    "                       pyspark.sql.functions.col('stats.teams.teamId').alias('teamId'),\n",
    "                       pyspark.sql.functions.col('stats.teams.win').alias('win'))"
   ]
  },
  {
   "cell_type": "code",
   "execution_count": 18,
   "metadata": {
    "cell_status": {
     "execute_time": {
      "duration": 17336.281005859375,
      "end_time": 1574387593989.781
     }
    }
   },
   "outputs": [
    {
     "data": {
      "text/html": [
       "<style scoped>\n",
       "  .ansiout {\n",
       "    display: block;\n",
       "    unicode-bidi: embed;\n",
       "    white-space: pre-wrap;\n",
       "    word-wrap: break-word;\n",
       "    word-break: break-all;\n",
       "    font-family: \"Source Code Pro\", \"Menlo\", monospace;;\n",
       "    font-size: 13px;\n",
       "    color: #555;\n",
       "    margin-left: 4px;\n",
       "    line-height: 19px;\n",
       "  }\n",
       "</style>\n",
       "<div class=\"ansiout\">+----------+----------+-----------+-----+\n",
       "        id|    teamId|        win|label|\n",
       "+----------+----------+-----------+-----+\n",
       "3207597356|[100, 200]|[Fail, Win]|    0|\n",
       "3207612018|[100, 200]|[Fail, Win]|    0|\n",
       "3206625787|[100, 200]|[Fail, Win]|    0|\n",
       "3206567503|[100, 200]|[Win, Fail]|    1|\n",
       "3204655759|[100, 200]|[Fail, Win]|    0|\n",
       "3204671034|[100, 200]|[Win, Fail]|    1|\n",
       "3204607354|[100, 200]|[Fail, Win]|    0|\n",
       "3204573746|[100, 200]|[Win, Fail]|    1|\n",
       "3207630921|[100, 200]|[Win, Fail]|    1|\n",
       "3207565756|[100, 200]|[Fail, Win]|    0|\n",
       "+----------+----------+-----------+-----+\n",
       "only showing top 10 rows\n",
       "\n",
       "</div>"
      ]
     },
     "metadata": {},
     "output_type": "display_data"
    }
   ],
   "source": [
    "from pyspark.sql.types import IntegerType, ArrayType\n",
    "from pyspark.sql.functions import udf\n",
    "def create_label(row):\n",
    "    if row[0]=='Win':\n",
    "        return 1\n",
    "    return 0\n",
    "label_udf = udf(create_label, IntegerType())\n",
    "label2 = label2.withColumn('label', label_udf(label2.win))\n",
    "label2.show(10)"
   ]
  },
  {
   "cell_type": "code",
   "execution_count": 19,
   "metadata": {
    "cell_status": {
     "execute_time": {
      "duration": 17317.4189453125,
      "end_time": 1574387611317.769
     }
    }
   },
   "outputs": [
    {
     "data": {
      "text/html": [
       "<style scoped>\n",
       "  .ansiout {\n",
       "    display: block;\n",
       "    unicode-bidi: embed;\n",
       "    white-space: pre-wrap;\n",
       "    word-wrap: break-word;\n",
       "    word-break: break-all;\n",
       "    font-family: \"Source Code Pro\", \"Menlo\", monospace;;\n",
       "    font-size: 13px;\n",
       "    color: #555;\n",
       "    margin-left: 4px;\n",
       "    line-height: 19px;\n",
       "  }\n",
       "</style>\n",
       "<div class=\"ansiout\">+----------+-----+\n",
       "        id|label|\n",
       "+----------+-----+\n",
       "3207597356|    0|\n",
       "3207612018|    0|\n",
       "+----------+-----+\n",
       "only showing top 2 rows\n",
       "\n",
       "</div>"
      ]
     },
     "metadata": {},
     "output_type": "display_data"
    }
   ],
   "source": [
    "label_col = label2.drop('teamId','win')\n",
    "label_col.show(2)"
   ]
  },
  {
   "cell_type": "markdown",
   "metadata": {},
   "source": [
    "# Create stats table"
   ]
  },
  {
   "cell_type": "markdown",
   "metadata": {},
   "source": [
    "## Match_Summoner exploded table"
   ]
  },
  {
   "cell_type": "code",
   "execution_count": 24,
   "metadata": {
    "cell_status": {
     "execute_time": {
      "duration": 1256.703857421875,
      "end_time": 1574385099030.195
     }
    }
   },
   "outputs": [
    {
     "data": {
      "text/html": [
       "<style scoped>\n",
       "  .ansiout {\n",
       "    display: block;\n",
       "    unicode-bidi: embed;\n",
       "    white-space: pre-wrap;\n",
       "    word-wrap: break-word;\n",
       "    word-break: break-all;\n",
       "    font-family: \"Source Code Pro\", \"Menlo\", monospace;;\n",
       "    font-size: 13px;\n",
       "    color: #555;\n",
       "    margin-left: 4px;\n",
       "    line-height: 19px;\n",
       "  }\n",
       "</style>\n",
       "<div class=\"ansiout\">+--------------------+--------------------+----------+\n",
       "                  id|             matches|   matchId|\n",
       "+--------------------+--------------------+----------+\n",
       "EuXHkripW2Qav3H2l...|[3207690957, 3207...|3207690957|\n",
       "EuXHkripW2Qav3H2l...|[3207690957, 3207...|3207597356|\n",
       "EuXHkripW2Qav3H2l...|[3207690957, 3207...|3207612018|\n",
       "+--------------------+--------------------+----------+\n",
       "only showing top 3 rows\n",
       "\n",
       "</div>"
      ]
     },
     "metadata": {},
     "output_type": "display_data"
    }
   ],
   "source": [
    "matches_view =spark.sql(\"SELECT id, matches FROM table2\")\n",
    "match_sum_tab=matches_view.withColumn('matchId', explode('matches'))\n",
    "match_sum_tab.show(3)"
   ]
  },
  {
   "cell_type": "markdown",
   "metadata": {},
   "source": [
    "## Match_summoner_stats table"
   ]
  },
  {
   "cell_type": "code",
   "execution_count": 26,
   "metadata": {
    "cell_status": {
     "execute_time": {
      "duration": 234.89404296875,
      "end_time": 1574385099275.465
     }
    },
    "collapsed": true
   },
   "outputs": [
    {
     "data": {
      "text/html": [
       "<style scoped>\n",
       "  .ansiout {\n",
       "    display: block;\n",
       "    unicode-bidi: embed;\n",
       "    white-space: pre-wrap;\n",
       "    word-wrap: break-word;\n",
       "    word-break: break-all;\n",
       "    font-family: \"Source Code Pro\", \"Menlo\", monospace;;\n",
       "    font-size: 13px;\n",
       "    color: #555;\n",
       "    margin-left: 4px;\n",
       "    line-height: 19px;\n",
       "  }\n",
       "</style>\n",
       "<div class=\"ansiout\"></div>"
      ]
     },
     "metadata": {},
     "output_type": "display_data"
    }
   ],
   "source": [
    "import numpy as np"
   ]
  },
  {
   "cell_type": "code",
   "execution_count": 27,
   "metadata": {
    "cell_status": {
     "execute_time": {
      "duration": 17336.26416015625,
      "end_time": 1574385116622.092
     }
    }
   },
   "outputs": [
    {
     "data": {
      "text/html": [
       "<style scoped>\n",
       "  .ansiout {\n",
       "    display: block;\n",
       "    unicode-bidi: embed;\n",
       "    white-space: pre-wrap;\n",
       "    word-wrap: break-word;\n",
       "    word-break: break-all;\n",
       "    font-family: \"Source Code Pro\", \"Menlo\", monospace;;\n",
       "    font-size: 13px;\n",
       "    color: #555;\n",
       "    margin-left: 4px;\n",
       "    line-height: 19px;\n",
       "  }\n",
       "</style>\n",
       "<div class=\"ansiout\"></div>"
      ]
     },
     "metadata": {},
     "output_type": "display_data"
    }
   ],
   "source": [
    "matches_ids = srmatch.select(\"id\")\n",
    "matchIds_list = np.array(matches_ids.collect())\n",
    "matchIds_list = [str(i[0]) for i in matchIds_list] #ids of all matches "
   ]
  },
  {
   "cell_type": "code",
   "execution_count": 28,
   "metadata": {
    "cell_status": {
     "execute_time": {
      "duration": 19329.243896484375,
      "end_time": 1574385135969.684
     }
    },
    "collapsed": true
   },
   "outputs": [
    {
     "data": {
      "text/html": [
       "<style scoped>\n",
       "  .ansiout {\n",
       "    display: block;\n",
       "    unicode-bidi: embed;\n",
       "    white-space: pre-wrap;\n",
       "    word-wrap: break-word;\n",
       "    word-break: break-all;\n",
       "    font-family: \"Source Code Pro\", \"Menlo\", monospace;;\n",
       "    font-size: 13px;\n",
       "    color: #555;\n",
       "    margin-left: 4px;\n",
       "    line-height: 19px;\n",
       "  }\n",
       "</style>\n",
       "<div class=\"ansiout\"></div>"
      ]
     },
     "metadata": {},
     "output_type": "display_data"
    }
   ],
   "source": [
    "matchDur =  srmatch.select(\"stats.gameDuration\")\n",
    "matchDur_list = np.array(matchDur.collect())\n",
    "matchDur_list = [float(i[0])/60 for i in matchDur_list] #game length for all matches in minutes "
   ]
  },
  {
   "cell_type": "code",
   "execution_count": 29,
   "metadata": {
    "cell_status": {
     "execute_time": {
      "duration": 17326.962158203125,
      "end_time": 1574385153308.054
     }
    }
   },
   "outputs": [
    {
     "data": {
      "text/html": [
       "<style scoped>\n",
       "  .ansiout {\n",
       "    display: block;\n",
       "    unicode-bidi: embed;\n",
       "    white-space: pre-wrap;\n",
       "    word-wrap: break-word;\n",
       "    word-break: break-all;\n",
       "    font-family: \"Source Code Pro\", \"Menlo\", monospace;;\n",
       "    font-size: 13px;\n",
       "    color: #555;\n",
       "    margin-left: 4px;\n",
       "    line-height: 19px;\n",
       "  }\n",
       "</style>\n",
       "<div class=\"ansiout\"></div>"
      ]
     },
     "metadata": {},
     "output_type": "display_data"
    }
   ],
   "source": [
    "all_matches_stats = srmatch.select(\n",
    "    'stats.participantIdentities.player.summonerId',\n",
    "                     'stats.participants.championId',\n",
    "                     'stats.participants.timeline.lane',\n",
    "                     'stats.participants.timeline.role',\n",
    "                    'stats.participants.teamId',\n",
    "                    'stats.participants.stats.goldEarned',\n",
    "                    'stats.participants.stats.kills',\n",
    "                    'stats.participants.stats.assists',\n",
    "                    'stats.participants.stats.deaths',\n",
    "                    'stats.participants.stats.visionScore',\n",
    "                    'stats.participants.stats.totalDamageDealt',\n",
    "                    'stats.participants.stats.totalDamageTaken',\n",
    "                    'stats.participants.stats.totalMinionsKilled',\n",
    "                    'stats.participants.stats.totalTimeCrowdControlDealt')\n",
    "\n",
    "#stats of all matches\n",
    "stats_np = np.array(all_matches_stats.collect())"
   ]
  },
  {
   "cell_type": "code",
   "execution_count": 30,
   "metadata": {
    "cell_status": {
     "execute_time": {
      "duration": 237.200927734375,
      "end_time": 1574385153556.216
     }
    }
   },
   "outputs": [
    {
     "data": {
      "text/html": [
       "<style scoped>\n",
       "  .ansiout {\n",
       "    display: block;\n",
       "    unicode-bidi: embed;\n",
       "    white-space: pre-wrap;\n",
       "    word-wrap: break-word;\n",
       "    word-break: break-all;\n",
       "    font-family: \"Source Code Pro\", \"Menlo\", monospace;;\n",
       "    font-size: 13px;\n",
       "    color: #555;\n",
       "    margin-left: 4px;\n",
       "    line-height: 19px;\n",
       "  }\n",
       "</style>\n",
       "<div class=\"ansiout\"></div>"
      ]
     },
     "metadata": {},
     "output_type": "display_data"
    }
   ],
   "source": [
    "all_match_dict = []\n",
    "for match,stats,game_length in zip(matchIds_list,stats_np,matchDur_list):\n",
    "    #combine match stats with stats id to create a new dataframe\n",
    "    match_dict = {}\n",
    "    match_dict['match_id']= match\n",
    "    match_dict['match_length'] = game_length\n",
    "    summonerIds = stats[:][0]\n",
    "    champions = stats[:][1]\n",
    "    lanes = stats[:][2]\n",
    "    roles = stats[:][3]\n",
    "    teamId = stats[:][4]\n",
    "    avg_stats = stats[:][5:]\n",
    "    avg_stats_dice = [list(i) for i in zip(*avg_stats)]\n",
    "    match_dict['agg_stats'] = [list(map(float,i)) for i in avg_stats_dice]\n",
    "    match_dict['lanes'] = [str(i) for i in lanes]\n",
    "    match_dict['roles'] = [str(i) for i in roles]\n",
    "    match_dict['teamId'] = [str(i) for i in teamId]\n",
    "    match_dict['summonerIds'] = [str(i) for i in summonerIds]\n",
    "    match_dict['champions'] = [str(i) for i in champions]\n",
    "    all_match_dict.append(match_dict)\n"
   ]
  },
  {
   "cell_type": "code",
   "execution_count": 31,
   "metadata": {
    "cell_status": {
     "execute_time": {
      "duration": 2257.384033203125,
      "end_time": 1574385155825.996
     }
    }
   },
   "outputs": [
    {
     "data": {
      "text/html": [
       "<style scoped>\n",
       "  .ansiout {\n",
       "    display: block;\n",
       "    unicode-bidi: embed;\n",
       "    white-space: pre-wrap;\n",
       "    word-wrap: break-word;\n",
       "    word-break: break-all;\n",
       "    font-family: \"Source Code Pro\", \"Menlo\", monospace;;\n",
       "    font-size: 13px;\n",
       "    color: #555;\n",
       "    margin-left: 4px;\n",
       "    line-height: 19px;\n",
       "  }\n",
       "</style>\n",
       "<div class=\"ansiout\">+--------------------+--------------------+--------------------+----------+------------------+--------------------+--------------------+--------------------+\n",
       "           agg_stats|           champions|               lanes|  match_id|      match_length|               roles|         summonerIds|              teamId|\n",
       "+--------------------+--------------------+--------------------+----------+------------------+--------------------+--------------------+--------------------+\n",
       "[[7864.0, 3.0, 3....|[245, 13, 114, 25...|[JUNGLE, TOP, MID...|3207597356|             22.55|[NONE, SOLO, SOLO...|[SAim3CJlYb3gTey9...|[100, 100, 100, 1...|\n",
       "[[6933.0, 1.0, 8....|[111, 145, 107, 1...|[BOTTOM, BOTTOM, ...|3207612018|27.166666666666668|[DUO_SUPPORT, DUO...|[CInmKwfaqk85iX9G...|[100, 100, 100, 1...|\n",
       "+--------------------+--------------------+--------------------+----------+------------------+--------------------+--------------------+--------------------+\n",
       "only showing top 2 rows\n",
       "\n",
       "</div>"
      ]
     },
     "metadata": {},
     "output_type": "display_data"
    }
   ],
   "source": [
    "match_sum_stats_agg_df = spark.createDataFrame(all_match_dict)\n",
    "match_sum_stats_agg_df.show(2)"
   ]
  },
  {
   "cell_type": "code",
   "execution_count": 32,
   "metadata": {
    "cell_status": {
     "execute_time": {
      "duration": 29.224853515625,
      "end_time": 1574387450813.089
     }
    }
   },
   "outputs": [
    {
     "data": {
      "text/html": [
       "<style scoped>\n",
       "  .ansiout {\n",
       "    display: block;\n",
       "    unicode-bidi: embed;\n",
       "    white-space: pre-wrap;\n",
       "    word-wrap: break-word;\n",
       "    word-break: break-all;\n",
       "    font-family: \"Source Code Pro\", \"Menlo\", monospace;;\n",
       "    font-size: 13px;\n",
       "    color: #555;\n",
       "    margin-left: 4px;\n",
       "    line-height: 19px;\n",
       "  }\n",
       "</style>\n",
       "<div class=\"ansiout\"></div>"
      ]
     },
     "metadata": {},
     "output_type": "display_data"
    }
   ],
   "source": [
    "from pyspark.sql.types import *\n",
    "from pyspark.sql.functions import col, udf, explode\n",
    "\n",
    "zip_ = udf(\n",
    "  lambda a,b,c,d,e,f: list(zip(a,b,c,d,e,f)),\n",
    "  ArrayType(StructType([\n",
    "      # Adjust types to reflect data types\n",
    "      StructField(\"stats\", ArrayType(DoubleType())),\n",
    "      StructField(\"champion\", StringType()),\n",
    "      StructField(\"summonerIds\", StringType()),\n",
    "    StructField(\"lane\", StringType()),\n",
    "    StructField(\"role\", StringType()),\n",
    "    StructField(\"team\", StringType()),           \n",
    "  ]))\n",
    ")"
   ]
  },
  {
   "cell_type": "code",
   "execution_count": 33,
   "metadata": {
    "cell_status": {
     "execute_time": {
      "duration": 236.713134765625,
      "end_time": 1574387451192.438
     }
    }
   },
   "outputs": [
    {
     "data": {
      "text/html": [
       "<style scoped>\n",
       "  .ansiout {\n",
       "    display: block;\n",
       "    unicode-bidi: embed;\n",
       "    white-space: pre-wrap;\n",
       "    word-wrap: break-word;\n",
       "    word-break: break-all;\n",
       "    font-family: \"Source Code Pro\", \"Menlo\", monospace;;\n",
       "    font-size: 13px;\n",
       "    color: #555;\n",
       "    margin-left: 4px;\n",
       "    line-height: 19px;\n",
       "  }\n",
       "</style>\n",
       "<div class=\"ansiout\"></div>"
      ]
     },
     "metadata": {},
     "output_type": "display_data"
    }
   ],
   "source": [
    "#explode table to create a more fine grain accessing method \n",
    "match_sum_stats_s = match_sum_stats_agg_df.withColumn(\"temp\",zip_(\"agg_stats\",\"champions\",\"summonerIds\",\"lanes\",\"roles\",\"teamId\"))\n",
    "match_sum_stats_s = match_sum_stats_s.withColumn(\"temp\", explode(\"temp\"))"
   ]
  },
  {
   "cell_type": "code",
   "execution_count": 34,
   "metadata": {
    "cell_status": {
     "execute_time": {
      "duration": 747.77392578125,
      "end_time": 1574388154592.365
     }
    }
   },
   "outputs": [
    {
     "data": {
      "text/html": [
       "<style scoped>\n",
       "  .ansiout {\n",
       "    display: block;\n",
       "    unicode-bidi: embed;\n",
       "    white-space: pre-wrap;\n",
       "    word-wrap: break-word;\n",
       "    word-break: break-all;\n",
       "    font-family: \"Source Code Pro\", \"Menlo\", monospace;;\n",
       "    font-size: 13px;\n",
       "    color: #555;\n",
       "    margin-left: 4px;\n",
       "    line-height: 19px;\n",
       "  }\n",
       "</style>\n",
       "<div class=\"ansiout\">+----------+--------------------+------------+--------------------+---------+-----------+----+------------+\n",
       "  match_id|    player_stats_inv|champion_inv|      summonerId_inv|lanes_inv|  roles_inv|team|match_length|\n",
       "+----------+--------------------+------------+--------------------+---------+-----------+----+------------+\n",
       "3207597356|[7864.0, 3.0, 3.0...|         245|SAim3CJlYb3gTey9H...|   JUNGLE|       NONE| 100|       22.55|\n",
       "3207597356|[6533.0, 2.0, 3.0...|          13|EuXHkripW2Qav3H2l...|      TOP|       SOLO| 100|       22.55|\n",
       "3207597356|[6526.0, 0.0, 0.0...|         114|FnmTWvNqTGk-2pnJ9...|   MIDDLE|       SOLO| 100|       22.55|\n",
       "3207597356|[6823.0, 4.0, 3.0...|          25|9m3TRvR-RpcGTN0We...|   BOTTOM|DUO_SUPPORT| 100|       22.55|\n",
       "3207597356|[6492.0, 1.0, 4.0...|          22|nZuXoApHlr15y9--k...|   BOTTOM|  DUO_CARRY| 100|       22.55|\n",
       "3207597356|[9405.0, 1.0, 5.0...|          74|AKrjxV60ReBpP9ZIG...|   BOTTOM|  DUO_CARRY| 200|       22.55|\n",
       "3207597356|[9522.0, 5.0, 4.0...|          38|abPiRq_oHl1pdzEzJ...|   MIDDLE|       SOLO| 200|       22.55|\n",
       "3207597356|[10890.0, 10.0, 5...|          29|ffJNX6IZF2NfHxihw...|   JUNGLE|       NONE| 200|       22.55|\n",
       "3207597356|[10164.0, 8.0, 3....|         246|14jr1KUj1dWDc5FDZ...|      TOP|       SOLO| 200|       22.55|\n",
       "3207597356|[8373.0, 2.0, 10....|         161|0MVgTen2qIhMjKj4L...|   BOTTOM|DUO_SUPPORT| 200|       22.55|\n",
       "+----------+--------------------+------------+--------------------+---------+-----------+----+------------+\n",
       "only showing top 10 rows\n",
       "\n",
       "</div>"
      ]
     },
     "metadata": {},
     "output_type": "display_data"
    }
   ],
   "source": [
    "match_sum_stats = match_sum_stats_s.select(\"match_id\",col(\"temp.stats\").alias(\"player_stats_inv\"), \n",
    "                         col(\"temp.champion\").alias(\"champion_inv\"),col(\"temp.summonerIds\").alias(\"summonerId_inv\"),\n",
    "                         col(\"temp.lane\").alias(\"lanes_inv\"),\n",
    "                         col(\"temp.role\").alias(\"roles_inv\"),\n",
    "                         col(\"temp.team\").alias(\"team\"),\"match_length\")\n",
    "match_sum_stats.show(10)"
   ]
  },
  {
   "cell_type": "markdown",
   "metadata": {},
   "source": [
    "### clean role table"
   ]
  },
  {
   "cell_type": "code",
   "execution_count": 36,
   "metadata": {
    "cell_status": {
     "execute_time": {
      "duration": 741.453857421875,
      "end_time": 1574388155345.973
     }
    }
   },
   "outputs": [
    {
     "data": {
      "text/html": [
       "<style scoped>\n",
       "  .ansiout {\n",
       "    display: block;\n",
       "    unicode-bidi: embed;\n",
       "    white-space: pre-wrap;\n",
       "    word-wrap: break-word;\n",
       "    word-break: break-all;\n",
       "    font-family: \"Source Code Pro\", \"Menlo\", monospace;;\n",
       "    font-size: 13px;\n",
       "    color: #555;\n",
       "    margin-left: 4px;\n",
       "    line-height: 19px;\n",
       "  }\n",
       "</style>\n",
       "<div class=\"ansiout\">+----------+--------------------+------------+--------------------+------------+-----------+\n",
       "  match_id|    player_stats_inv|champion_inv|      summonerId_inv|match_length| final_role|\n",
       "+----------+--------------------+------------+--------------------+------------+-----------+\n",
       "3207597356|[7864.0, 3.0, 3.0...|         245|SAim3CJlYb3gTey9H...|       22.55| 100_JUNGLE|\n",
       "3207597356|[6533.0, 2.0, 3.0...|          13|EuXHkripW2Qav3H2l...|       22.55|    100_TOP|\n",
       "3207597356|[6526.0, 0.0, 0.0...|         114|FnmTWvNqTGk-2pnJ9...|       22.55| 100_MIDDLE|\n",
       "3207597356|[6823.0, 4.0, 3.0...|          25|9m3TRvR-RpcGTN0We...|       22.55|100_SUPPORT|\n",
       "3207597356|[6492.0, 1.0, 4.0...|          22|nZuXoApHlr15y9--k...|       22.55|  100_CARRY|\n",
       "3207597356|[9405.0, 1.0, 5.0...|          74|AKrjxV60ReBpP9ZIG...|       22.55|  200_CARRY|\n",
       "3207597356|[9522.0, 5.0, 4.0...|          38|abPiRq_oHl1pdzEzJ...|       22.55| 200_MIDDLE|\n",
       "3207597356|[10890.0, 10.0, 5...|          29|ffJNX6IZF2NfHxihw...|       22.55| 200_JUNGLE|\n",
       "3207597356|[10164.0, 8.0, 3....|         246|14jr1KUj1dWDc5FDZ...|       22.55|    200_TOP|\n",
       "3207597356|[8373.0, 2.0, 10....|         161|0MVgTen2qIhMjKj4L...|       22.55|200_SUPPORT|\n",
       "+----------+--------------------+------------+--------------------+------------+-----------+\n",
       "only showing top 10 rows\n",
       "\n",
       "</div>"
      ]
     },
     "metadata": {},
     "output_type": "display_data"
    }
   ],
   "source": [
    "def processed_role(lane,role,team):\n",
    "    final_role =\"\"\n",
    "    if lane != \"BOTTOM\":\n",
    "        final_role = \"{}_{}\".format(team,lane)\n",
    "    else:\n",
    "        if \"SUPPORT\" in role:\n",
    "            final_role = \"{}_SUPPORT\".format(team)\n",
    "        elif \"CARRY\" in role:\n",
    "            final_role = \"{}_CARRY\".format(team)\n",
    "        else:\n",
    "            final_role = \"CANT\"\n",
    "    if \"NONE\" in final_role:\n",
    "        final_role = \"CANT\"\n",
    "    return final_role\n",
    "udf_clean_role = zip_ = udf(\n",
    "  lambda lane,role,team: processed_role(lane,role,team), StringType()\n",
    ")\n",
    "match_sum_stats = match_sum_stats.withColumn('final_role', udf_clean_role(\"lanes_inv\", \"roles_inv\",\"team\"))\n",
    "match_sum_stats = match_sum_stats.drop(\"lanes_inv\",\"roles_inv\",\"team\")\n",
    "match_sum_stats = match_sum_stats.select(\"*\").filter(match_sum_stats.final_role != \"CANT\") #remove players without clear role\n",
    "match_sum_stats.show(10)"
   ]
  },
  {
   "cell_type": "markdown",
   "metadata": {},
   "source": [
    "### normalize stats"
   ]
  },
  {
   "cell_type": "code",
   "execution_count": 38,
   "metadata": {
    "cell_status": {
     "execute_time": {
      "duration": 239.10791015625,
      "end_time": 1574388156135.224
     }
    }
   },
   "outputs": [
    {
     "data": {
      "text/html": [
       "<style scoped>\n",
       "  .ansiout {\n",
       "    display: block;\n",
       "    unicode-bidi: embed;\n",
       "    white-space: pre-wrap;\n",
       "    word-wrap: break-word;\n",
       "    word-break: break-all;\n",
       "    font-family: \"Source Code Pro\", \"Menlo\", monospace;;\n",
       "    font-size: 13px;\n",
       "    color: #555;\n",
       "    margin-left: 4px;\n",
       "    line-height: 19px;\n",
       "  }\n",
       "</style>\n",
       "<div class=\"ansiout\"></div>"
      ]
     },
     "metadata": {},
     "output_type": "display_data"
    }
   ],
   "source": [
    "def normalize_stats(stats,game_length):\n",
    "    return [ float(stat/game_length) for stat in stats]\n",
    "    \n",
    "normalize_udf = udf(normalize_stats,ArrayType(FloatType()))\n",
    "match_sum_stats_2 = match_sum_stats.withColumn('normalize_stats', normalize_udf(match_sum_stats.player_stats_inv, match_sum_stats.match_length))"
   ]
  },
  {
   "cell_type": "code",
   "execution_count": 39,
   "metadata": {
    "cell_status": {
     "execute_time": {
      "duration": 26.302001953125,
      "end_time": 1574388156171.347
     }
    }
   },
   "outputs": [
    {
     "data": {
      "text/html": [
       "<style scoped>\n",
       "  .ansiout {\n",
       "    display: block;\n",
       "    unicode-bidi: embed;\n",
       "    white-space: pre-wrap;\n",
       "    word-wrap: break-word;\n",
       "    word-break: break-all;\n",
       "    font-family: \"Source Code Pro\", \"Menlo\", monospace;;\n",
       "    font-size: 13px;\n",
       "    color: #555;\n",
       "    margin-left: 4px;\n",
       "    line-height: 19px;\n",
       "  }\n",
       "</style>\n",
       "<div class=\"ansiout\"></div>"
      ]
     },
     "metadata": {},
     "output_type": "display_data"
    }
   ],
   "source": [
    "match_sum_stats_final = match_sum_stats_2.drop(\"player_stats_inv\") #drop non-normalize stats => we only consider stats/minute"
   ]
  },
  {
   "cell_type": "code",
   "execution_count": 40,
   "metadata": {
    "cell_status": {
     "execute_time": {
      "duration": 748.673095703125,
      "end_time": 1574388157124.468
     }
    }
   },
   "outputs": [
    {
     "data": {
      "text/html": [
       "<style scoped>\n",
       "  .ansiout {\n",
       "    display: block;\n",
       "    unicode-bidi: embed;\n",
       "    white-space: pre-wrap;\n",
       "    word-wrap: break-word;\n",
       "    word-break: break-all;\n",
       "    font-family: \"Source Code Pro\", \"Menlo\", monospace;;\n",
       "    font-size: 13px;\n",
       "    color: #555;\n",
       "    margin-left: 4px;\n",
       "    line-height: 19px;\n",
       "  }\n",
       "</style>\n",
       "<div class=\"ansiout\">+----------+------------+--------------------+------------+----------+--------------------+\n",
       "  match_id|champion_inv|      summonerId_inv|match_length|final_role|     normalize_stats|\n",
       "+----------+------------+--------------------+------------+----------+--------------------+\n",
       "3207597356|         245|SAim3CJlYb3gTey9H...|       22.55|100_JUNGLE|[348.73615, 0.133...|\n",
       "3207597356|          13|EuXHkripW2Qav3H2l...|       22.55|   100_TOP|[289.71176, 0.088...|\n",
       "+----------+------------+--------------------+------------+----------+--------------------+\n",
       "only showing top 2 rows\n",
       "\n",
       "</div>"
      ]
     },
     "metadata": {},
     "output_type": "display_data"
    }
   ],
   "source": [
    "match_sum_stats_final.show(2)"
   ]
  },
  {
   "cell_type": "markdown",
   "metadata": {},
   "source": [
    "## Explode players stats  table"
   ]
  },
  {
   "cell_type": "code",
   "execution_count": 42,
   "metadata": {
    "cell_status": {
     "execute_time": {
      "duration": 257.901123046875,
      "end_time": 1574388157399.757
     }
    }
   },
   "outputs": [
    {
     "data": {
      "text/html": [
       "<style scoped>\n",
       "  .ansiout {\n",
       "    display: block;\n",
       "    unicode-bidi: embed;\n",
       "    white-space: pre-wrap;\n",
       "    word-wrap: break-word;\n",
       "    word-break: break-all;\n",
       "    font-family: \"Source Code Pro\", \"Menlo\", monospace;;\n",
       "    font-size: 13px;\n",
       "    color: #555;\n",
       "    margin-left: 4px;\n",
       "    line-height: 19px;\n",
       "  }\n",
       "</style>\n",
       "<div class=\"ansiout\"></div>"
      ]
     },
     "metadata": {},
     "output_type": "display_data"
    }
   ],
   "source": [
    "match_sum_stats_final = match_sum_stats_final.select(\"match_id\",\"champion_inv\",\"summonerId_inv\",\"final_role\",\n",
    "                                             match_sum_stats_final.normalize_stats[0].alias(\"gold_earned\"),\n",
    "                                             match_sum_stats_final.normalize_stats[1].alias(\"kills\"),\n",
    "                                             match_sum_stats_final.normalize_stats[2].alias(\"assists\"),\n",
    "                                             match_sum_stats_final.normalize_stats[3].alias(\"deaths\"),\n",
    "                                             match_sum_stats_final.normalize_stats[4].alias(\"visionScore\"),\n",
    "                                             match_sum_stats_final.normalize_stats[5].alias(\"totalDamageDealt\"),\n",
    "                                             match_sum_stats_final.normalize_stats[6].alias(\"totalDamageTaken\"),\n",
    "                                             match_sum_stats_final.normalize_stats[7].alias(\"totalMinionsKilled\"),\n",
    "                                             match_sum_stats_final.normalize_stats[8].alias(\"totalTimeCrowdControlDealt\"))"
   ]
  },
  {
   "cell_type": "code",
   "execution_count": 43,
   "metadata": {
    "cell_status": {
     "execute_time": {
      "duration": 744.39404296875,
      "end_time": 1574388158157.659
     }
    }
   },
   "outputs": [
    {
     "data": {
      "text/html": [
       "<style scoped>\n",
       "  .ansiout {\n",
       "    display: block;\n",
       "    unicode-bidi: embed;\n",
       "    white-space: pre-wrap;\n",
       "    word-wrap: break-word;\n",
       "    word-break: break-all;\n",
       "    font-family: \"Source Code Pro\", \"Menlo\", monospace;;\n",
       "    font-size: 13px;\n",
       "    color: #555;\n",
       "    margin-left: 4px;\n",
       "    line-height: 19px;\n",
       "  }\n",
       "</style>\n",
       "<div class=\"ansiout\">+----------+------------+--------------------+----------+-----------+---------+---------+----------+-----------+----------------+----------------+------------------+--------------------------+\n",
       "  match_id|champion_inv|      summonerId_inv|final_role|gold_earned|    kills|  assists|    deaths|visionScore|totalDamageDealt|totalDamageTaken|totalMinionsKilled|totalTimeCrowdControlDealt|\n",
       "+----------+------------+--------------------+----------+-----------+---------+---------+----------+-----------+----------------+----------------+------------------+--------------------------+\n",
       "3207597356|         245|SAim3CJlYb3gTey9H...|100_JUNGLE|  348.73615|0.1330377|0.1330377|0.17738359|  0.6651885|        4702.173|        916.9845|          2.217295|                 17.560976|\n",
       "+----------+------------+--------------------+----------+-----------+---------+---------+----------+-----------+----------------+----------------+------------------+--------------------------+\n",
       "only showing top 1 row\n",
       "\n",
       "</div>"
      ]
     },
     "metadata": {},
     "output_type": "display_data"
    }
   ],
   "source": [
    "match_sum_stats_final.show(1)"
   ]
  },
  {
   "cell_type": "markdown",
   "metadata": {},
   "source": [
    "## Create average stats table"
   ]
  },
  {
   "cell_type": "code",
   "execution_count": 45,
   "metadata": {
    "cell_status": {
     "execute_time": {
      "duration": 246.15478515625,
      "end_time": 1574388158416.131
     }
    }
   },
   "outputs": [
    {
     "data": {
      "text/html": [
       "<style scoped>\n",
       "  .ansiout {\n",
       "    display: block;\n",
       "    unicode-bidi: embed;\n",
       "    white-space: pre-wrap;\n",
       "    word-wrap: break-word;\n",
       "    word-break: break-all;\n",
       "    font-family: \"Source Code Pro\", \"Menlo\", monospace;;\n",
       "    font-size: 13px;\n",
       "    color: #555;\n",
       "    margin-left: 4px;\n",
       "    line-height: 19px;\n",
       "  }\n",
       "</style>\n",
       "<div class=\"ansiout\"></div>"
      ]
     },
     "metadata": {},
     "output_type": "display_data"
    }
   ],
   "source": [
    "avg_stats = match_sum_stats_final.select(\"summonerId_inv\",\"gold_earned\",\"kills\",                      \n",
    "             \"assists\",\"deaths\",\"visionScore\",\"totalDamageDealt\",\"totalDamageTaken\",\"totalMinionsKilled\",\n",
    "            \"totalTimeCrowdControlDealt\")\n"
   ]
  },
  {
   "cell_type": "code",
   "execution_count": 46,
   "metadata": {
    "cell_status": {
     "execute_time": {
      "duration": 743.471923828125,
      "end_time": 1574388159173.247
     }
    }
   },
   "outputs": [
    {
     "data": {
      "text/html": [
       "<style scoped>\n",
       "  .ansiout {\n",
       "    display: block;\n",
       "    unicode-bidi: embed;\n",
       "    white-space: pre-wrap;\n",
       "    word-wrap: break-word;\n",
       "    word-break: break-all;\n",
       "    font-family: \"Source Code Pro\", \"Menlo\", monospace;;\n",
       "    font-size: 13px;\n",
       "    color: #555;\n",
       "    margin-left: 4px;\n",
       "    line-height: 19px;\n",
       "  }\n",
       "</style>\n",
       "<div class=\"ansiout\">+--------------------+-----------+----------+---------+----------+-----------+----------------+----------------+------------------+--------------------------+\n",
       "      summonerId_inv|gold_earned|     kills|  assists|    deaths|visionScore|totalDamageDealt|totalDamageTaken|totalMinionsKilled|totalTimeCrowdControlDealt|\n",
       "+--------------------+-----------+----------+---------+----------+-----------+----------------+----------------+------------------+--------------------------+\n",
       "SAim3CJlYb3gTey9H...|  348.73615| 0.1330377|0.1330377|0.17738359|  0.6651885|        4702.173|        916.9845|          2.217295|                 17.560976|\n",
       "EuXHkripW2Qav3H2l...|  289.71176|0.08869179|0.1330377| 0.3104213|        0.0|        3538.182|       1059.0687|         5.4101996|                  3.015521|\n",
       "+--------------------+-----------+----------+---------+----------+-----------+----------------+----------------+------------------+--------------------------+\n",
       "only showing top 2 rows\n",
       "\n",
       "</div>"
      ]
     },
     "metadata": {},
     "output_type": "display_data"
    }
   ],
   "source": [
    "avg_stats.show(2)"
   ]
  },
  {
   "cell_type": "code",
   "execution_count": 47,
   "metadata": {
    "cell_status": {
     "execute_time": {
      "duration": 276.43115234375,
      "end_time": 1574388159460.095
     }
    }
   },
   "outputs": [
    {
     "data": {
      "text/html": [
       "<style scoped>\n",
       "  .ansiout {\n",
       "    display: block;\n",
       "    unicode-bidi: embed;\n",
       "    white-space: pre-wrap;\n",
       "    word-wrap: break-word;\n",
       "    word-break: break-all;\n",
       "    font-family: \"Source Code Pro\", \"Menlo\", monospace;;\n",
       "    font-size: 13px;\n",
       "    color: #555;\n",
       "    margin-left: 4px;\n",
       "    line-height: 19px;\n",
       "  }\n",
       "</style>\n",
       "<div class=\"ansiout\"></div>"
      ]
     },
     "metadata": {},
     "output_type": "display_data"
    }
   ],
   "source": [
    "import pyspark.sql.functions as F\n",
    "summoner_avg_stats = avg_stats.groupBy('summonerId_inv').agg(F.avg('gold_earned'),F.avg('kills'),F.avg(\"deaths\"),\n",
    "                                     F.avg('assists'),F.avg('visionScore'),F.avg('totalDamageDealt'),\n",
    "                                     F.avg('totalDamageTaken'),F.avg('totalMinionsKilled'),\n",
    "                                     F.avg('totalTimeCrowdControlDealt'))"
   ]
  },
  {
   "cell_type": "code",
   "execution_count": 48,
   "metadata": {
    "cell_status": {
     "execute_time": {
      "duration": 1250.010986328125,
      "end_time": 1574388160721.984
     }
    }
   },
   "outputs": [
    {
     "data": {
      "text/html": [
       "<style scoped>\n",
       "  .ansiout {\n",
       "    display: block;\n",
       "    unicode-bidi: embed;\n",
       "    white-space: pre-wrap;\n",
       "    word-wrap: break-word;\n",
       "    word-break: break-all;\n",
       "    font-family: \"Source Code Pro\", \"Menlo\", monospace;;\n",
       "    font-size: 13px;\n",
       "    color: #555;\n",
       "    margin-left: 4px;\n",
       "    line-height: 19px;\n",
       "  }\n",
       "</style>\n",
       "<div class=\"ansiout\">+--------------------+------------------+------------------+-------------------+-------------------+------------------+---------------------+---------------------+-----------------------+-------------------------------+\n",
       "      summonerId_inv|  avg(gold_earned)|        avg(kills)|        avg(deaths)|       avg(assists)|  avg(visionScore)|avg(totalDamageDealt)|avg(totalDamageTaken)|avg(totalMinionsKilled)|avg(totalTimeCrowdControlDealt)|\n",
       "+--------------------+------------------+------------------+-------------------+-------------------+------------------+---------------------+---------------------+-----------------------+-------------------------------+\n",
       "2BaqJJd_u0kzZKntZ...|425.88070242745533|0.2264676551733698|0.23766130741153443|0.23757306379931314|0.5831923527376992|    4601.518415178572|    692.3233816964286|     5.7527377264840265|              8.608452320098877|\n",
       "+--------------------+------------------+------------------+-------------------+-------------------+------------------+---------------------+---------------------+-----------------------+-------------------------------+\n",
       "only showing top 1 row\n",
       "\n",
       "</div>"
      ]
     },
     "metadata": {},
     "output_type": "display_data"
    }
   ],
   "source": [
    "summoner_avg_stats.show(1)"
   ]
  },
  {
   "cell_type": "markdown",
   "metadata": {},
   "source": [
    "### summonerID_avgstats_matchId table"
   ]
  },
  {
   "cell_type": "code",
   "execution_count": 50,
   "metadata": {
    "cell_status": {
     "execute_time": {
      "duration": 2255.2529296875,
      "end_time": 1574388162991.436
     }
    }
   },
   "outputs": [
    {
     "data": {
      "text/html": [
       "<style scoped>\n",
       "  .ansiout {\n",
       "    display: block;\n",
       "    unicode-bidi: embed;\n",
       "    white-space: pre-wrap;\n",
       "    word-wrap: break-word;\n",
       "    word-break: break-all;\n",
       "    font-family: \"Source Code Pro\", \"Menlo\", monospace;;\n",
       "    font-size: 13px;\n",
       "    color: #555;\n",
       "    margin-left: 4px;\n",
       "    line-height: 19px;\n",
       "  }\n",
       "</style>\n",
       "<div class=\"ansiout\">+--------------------+----------+------+---+------+-------------+--------------------+-----------+-----------+------------------+----------+\n",
       "          summonerID|championId|points| id|  name|armorperlevel|attackdamageperlevel|attackspeed|attackrange|spellblockperlevel|hpperlevel|\n",
       "+--------------------+----------+------+---+------+-------------+--------------------+-----------+-----------+------------------+----------+\n",
       "Qmr6VL3k9skBUDd8-...|       266| 45933|266|Aatrox|         3.25|                 5.0|      0.651|        175|              1.25|        90|\n",
       "zlnwNxCazQ5CbPyh5...|       266|  null|266|Aatrox|         3.25|                 5.0|      0.651|        175|              1.25|        90|\n",
       "+--------------------+----------+------+---+------+-------------+--------------------+-----------+-----------+------------------+----------+\n",
       "only showing top 2 rows\n",
       "\n",
       "</div>"
      ]
     },
     "metadata": {},
     "output_type": "display_data"
    }
   ],
   "source": [
    "mast_champ_join.show(2)"
   ]
  },
  {
   "cell_type": "code",
   "execution_count": 51,
   "metadata": {
    "cell_status": {
     "execute_time": {
      "duration": 234.48486328125,
      "end_time": 1574388163237.37
     }
    }
   },
   "outputs": [
    {
     "data": {
      "text/html": [
       "<style scoped>\n",
       "  .ansiout {\n",
       "    display: block;\n",
       "    unicode-bidi: embed;\n",
       "    white-space: pre-wrap;\n",
       "    word-wrap: break-word;\n",
       "    word-break: break-all;\n",
       "    font-family: \"Source Code Pro\", \"Menlo\", monospace;;\n",
       "    font-size: 13px;\n",
       "    color: #555;\n",
       "    margin-left: 4px;\n",
       "    line-height: 19px;\n",
       "  }\n",
       "</style>\n",
       "<div class=\"ansiout\"></div>"
      ]
     },
     "metadata": {},
     "output_type": "display_data"
    }
   ],
   "source": [
    "#join player average stats with player champion mastery and champion stats \n",
    "player_champ_stats = summoner_avg_stats.join(mast_champ_join, [\n",
    "                                                           summoner_avg_stats.summonerId_inv==mast_champ_join.summonerID\n",
    "                                                            ])"
   ]
  },
  {
   "cell_type": "code",
   "execution_count": 52,
   "metadata": {
    "cell_status": {
     "execute_time": {
      "duration": 5271.958984375,
      "end_time": 1574388168520.549
     }
    }
   },
   "outputs": [
    {
     "data": {
      "text/html": [
       "<style scoped>\n",
       "  .ansiout {\n",
       "    display: block;\n",
       "    unicode-bidi: embed;\n",
       "    white-space: pre-wrap;\n",
       "    word-wrap: break-word;\n",
       "    word-break: break-all;\n",
       "    font-family: \"Source Code Pro\", \"Menlo\", monospace;;\n",
       "    font-size: 13px;\n",
       "    color: #555;\n",
       "    margin-left: 4px;\n",
       "    line-height: 19px;\n",
       "  }\n",
       "</style>\n",
       "<div class=\"ansiout\">+------------------+------------------+-------------------+-------------------+------------------+---------------------+---------------------+-----------------------+-------------------------------+--------------------+----------+------+------+-------------+--------------------+-----------+-----------+------------------+----------+\n",
       "  avg(gold_earned)|        avg(kills)|        avg(deaths)|       avg(assists)|  avg(visionScore)|avg(totalDamageDealt)|avg(totalDamageTaken)|avg(totalMinionsKilled)|avg(totalTimeCrowdControlDealt)|          summonerID|championId|points|  name|armorperlevel|attackdamageperlevel|attackspeed|attackrange|spellblockperlevel|hpperlevel|\n",
       "+------------------+------------------+-------------------+-------------------+------------------+---------------------+---------------------+-----------------------+-------------------------------+--------------------+----------+------+------+-------------+--------------------+-----------+-----------+------------------+----------+\n",
       "425.88070242745533|0.2264676551733698|0.23766130741153443|0.23757306379931314|0.5831923527376992|    4601.518415178572|    692.3233816964286|     5.7527377264840265|              8.608452320098877|2BaqJJd_u0kzZKntZ...|       266|  4673|Aatrox|         3.25|                 5.0|      0.651|        175|              1.25|        90|\n",
       "425.88070242745533|0.2264676551733698|0.23766130741153443|0.23757306379931314|0.5831923527376992|    4601.518415178572|    692.3233816964286|     5.7527377264840265|              8.608452320098877|2BaqJJd_u0kzZKntZ...|       103| 85825|  Ahri|          3.5|                 3.0|      0.668|        550|               0.5|        92|\n",
       "+------------------+------------------+-------------------+-------------------+------------------+---------------------+---------------------+-----------------------+-------------------------------+--------------------+----------+------+------+-------------+--------------------+-----------+-----------+------------------+----------+\n",
       "only showing top 2 rows\n",
       "\n",
       "</div>"
      ]
     },
     "metadata": {},
     "output_type": "display_data"
    }
   ],
   "source": [
    "player_champ_stats = player_champ_stats.drop(\"id\",\"summonerId_inv\")\n",
    "player_champ_stats.show(2)"
   ]
  },
  {
   "cell_type": "code",
   "execution_count": 53,
   "metadata": {
    "cell_status": {
     "execute_time": {
      "duration": 29.05615234375,
      "end_time": 1574388348112.253
     }
    }
   },
   "outputs": [
    {
     "data": {
      "text/html": [
       "<style scoped>\n",
       "  .ansiout {\n",
       "    display: block;\n",
       "    unicode-bidi: embed;\n",
       "    white-space: pre-wrap;\n",
       "    word-wrap: break-word;\n",
       "    word-break: break-all;\n",
       "    font-family: \"Source Code Pro\", \"Menlo\", monospace;;\n",
       "    font-size: 13px;\n",
       "    color: #555;\n",
       "    margin-left: 4px;\n",
       "    line-height: 19px;\n",
       "  }\n",
       "</style>\n",
       "<div class=\"ansiout\">root\n",
       "-- avg(gold_earned): double (nullable = true)\n",
       "-- avg(kills): double (nullable = true)\n",
       "-- avg(deaths): double (nullable = true)\n",
       "-- avg(assists): double (nullable = true)\n",
       "-- avg(visionScore): double (nullable = true)\n",
       "-- avg(totalDamageDealt): double (nullable = true)\n",
       "-- avg(totalDamageTaken): double (nullable = true)\n",
       "-- avg(totalMinionsKilled): double (nullable = true)\n",
       "-- avg(totalTimeCrowdControlDealt): double (nullable = true)\n",
       "-- summonerID: string (nullable = true)\n",
       "-- championId: string (nullable = false)\n",
       "-- points: integer (nullable = true)\n",
       "-- name: string (nullable = true)\n",
       "-- armorperlevel: double (nullable = true)\n",
       "-- attackdamageperlevel: double (nullable = true)\n",
       "-- attackspeed: double (nullable = true)\n",
       "-- attackrange: integer (nullable = true)\n",
       "-- spellblockperlevel: double (nullable = true)\n",
       "-- hpperlevel: integer (nullable = true)\n",
       "\n",
       "</div>"
      ]
     },
     "metadata": {},
     "output_type": "display_data"
    }
   ],
   "source": [
    "player_champ_stats.printSchema()"
   ]
  },
  {
   "cell_type": "code",
   "execution_count": 54,
   "metadata": {
    "cell_status": {
     "execute_time": {
      "duration": 742.68505859375,
      "end_time": 1574388350378.217
     }
    }
   },
   "outputs": [
    {
     "data": {
      "text/html": [
       "<style scoped>\n",
       "  .ansiout {\n",
       "    display: block;\n",
       "    unicode-bidi: embed;\n",
       "    white-space: pre-wrap;\n",
       "    word-wrap: break-word;\n",
       "    word-break: break-all;\n",
       "    font-family: \"Source Code Pro\", \"Menlo\", monospace;;\n",
       "    font-size: 13px;\n",
       "    color: #555;\n",
       "    margin-left: 4px;\n",
       "    line-height: 19px;\n",
       "  }\n",
       "</style>\n",
       "<div class=\"ansiout\">+--------------------+----------+------------+----------+\n",
       "      summonerId_inv|  match_id|champion_inv|final_role|\n",
       "+--------------------+----------+------------+----------+\n",
       "SAim3CJlYb3gTey9H...|3207597356|         245|100_JUNGLE|\n",
       "EuXHkripW2Qav3H2l...|3207597356|          13|   100_TOP|\n",
       "+--------------------+----------+------------+----------+\n",
       "only showing top 2 rows\n",
       "\n",
       "</div>"
      ]
     },
     "metadata": {},
     "output_type": "display_data"
    }
   ],
   "source": [
    "match_sum_stats_join = match_sum_stats_final.select(\"summonerId_inv\",\"match_id\",\"champion_inv\",\"final_role\")\n",
    "match_sum_stats_join.show(2)"
   ]
  },
  {
   "cell_type": "markdown",
   "metadata": {},
   "source": [
    "### join the final features table for each individual for each match"
   ]
  },
  {
   "cell_type": "code",
   "execution_count": 56,
   "metadata": {
    "cell_status": {
     "execute_time": {
      "duration": 281.070068359375,
      "end_time": 1574388352462.62
     }
    }
   },
   "outputs": [
    {
     "data": {
      "text/html": [
       "<style scoped>\n",
       "  .ansiout {\n",
       "    display: block;\n",
       "    unicode-bidi: embed;\n",
       "    white-space: pre-wrap;\n",
       "    word-wrap: break-word;\n",
       "    word-break: break-all;\n",
       "    font-family: \"Source Code Pro\", \"Menlo\", monospace;;\n",
       "    font-size: 13px;\n",
       "    color: #555;\n",
       "    margin-left: 4px;\n",
       "    line-height: 19px;\n",
       "  }\n",
       "</style>\n",
       "<div class=\"ansiout\"></div>"
      ]
     },
     "metadata": {},
     "output_type": "display_data"
    }
   ],
   "source": [
    "player_stats_final = match_sum_stats_join.join(player_champ_stats,[\n",
    "        match_sum_stats_join.summonerId_inv == player_champ_stats.summonerID,\n",
    "        match_sum_stats_join.champion_inv == player_champ_stats.championId\n",
    "    ])"
   ]
  },
  {
   "cell_type": "code",
   "execution_count": 57,
   "metadata": {
    "cell_status": {
     "execute_time": {
      "duration": 237.885986328125,
      "end_time": 1574388355211.83
     }
    }
   },
   "outputs": [
    {
     "data": {
      "text/html": [
       "<style scoped>\n",
       "  .ansiout {\n",
       "    display: block;\n",
       "    unicode-bidi: embed;\n",
       "    white-space: pre-wrap;\n",
       "    word-wrap: break-word;\n",
       "    word-break: break-all;\n",
       "    font-family: \"Source Code Pro\", \"Menlo\", monospace;;\n",
       "    font-size: 13px;\n",
       "    color: #555;\n",
       "    margin-left: 4px;\n",
       "    line-height: 19px;\n",
       "  }\n",
       "</style>\n",
       "<div class=\"ansiout\">root\n",
       "-- match_id: string (nullable = true)\n",
       "-- final_role: string (nullable = true)\n",
       "-- avg(gold_earned): double (nullable = true)\n",
       "-- avg(kills): double (nullable = true)\n",
       "-- avg(deaths): double (nullable = true)\n",
       "-- avg(assists): double (nullable = true)\n",
       "-- avg(visionScore): double (nullable = true)\n",
       "-- avg(totalDamageDealt): double (nullable = true)\n",
       "-- avg(totalDamageTaken): double (nullable = true)\n",
       "-- avg(totalMinionsKilled): double (nullable = true)\n",
       "-- avg(totalTimeCrowdControlDealt): double (nullable = true)\n",
       "-- summonerID: string (nullable = true)\n",
       "-- championId: string (nullable = false)\n",
       "-- points: integer (nullable = true)\n",
       "-- name: string (nullable = true)\n",
       "-- armorperlevel: double (nullable = true)\n",
       "-- attackdamageperlevel: double (nullable = true)\n",
       "-- attackspeed: double (nullable = true)\n",
       "-- attackrange: integer (nullable = true)\n",
       "-- spellblockperlevel: double (nullable = true)\n",
       "-- hpperlevel: integer (nullable = true)\n",
       "\n",
       "</div>"
      ]
     },
     "metadata": {},
     "output_type": "display_data"
    }
   ],
   "source": [
    "player_stats_final = player_stats_final.drop(\"summonerId_inv\",\"champion_inv\")\n",
    "player_stats_final.printSchema()"
   ]
  },
  {
   "cell_type": "code",
   "execution_count": 58,
   "metadata": {
    "cell_status": {
     "execute_time": {
      "duration": 232.614013671875,
      "end_time": 1574388356496.887
     }
    }
   },
   "outputs": [
    {
     "data": {
      "text/html": [
       "<style scoped>\n",
       "  .ansiout {\n",
       "    display: block;\n",
       "    unicode-bidi: embed;\n",
       "    white-space: pre-wrap;\n",
       "    word-wrap: break-word;\n",
       "    word-break: break-all;\n",
       "    font-family: \"Source Code Pro\", \"Menlo\", monospace;;\n",
       "    font-size: 13px;\n",
       "    color: #555;\n",
       "    margin-left: 4px;\n",
       "    line-height: 19px;\n",
       "  }\n",
       "</style>\n",
       "<div class=\"ansiout\"></div>"
      ]
     },
     "metadata": {},
     "output_type": "display_data"
    }
   ],
   "source": [
    "match_with_data = player_stats_final.groupby('match_id').count().select(\"match_id\",F.col('count').alias('number_of_players'))"
   ]
  },
  {
   "cell_type": "code",
   "execution_count": 59,
   "metadata": {
    "cell_status": {
     "execute_time": {
      "duration": 35.408935546875,
      "end_time": 1574388356891.31
     }
    }
   },
   "outputs": [
    {
     "data": {
      "text/html": [
       "<style scoped>\n",
       "  .ansiout {\n",
       "    display: block;\n",
       "    unicode-bidi: embed;\n",
       "    white-space: pre-wrap;\n",
       "    word-wrap: break-word;\n",
       "    word-break: break-all;\n",
       "    font-family: \"Source Code Pro\", \"Menlo\", monospace;;\n",
       "    font-size: 13px;\n",
       "    color: #555;\n",
       "    margin-left: 4px;\n",
       "    line-height: 19px;\n",
       "  }\n",
       "</style>\n",
       "<div class=\"ansiout\"></div>"
      ]
     },
     "metadata": {},
     "output_type": "display_data"
    }
   ],
   "source": [
    "#join with current all players stats player"
   ]
  },
  {
   "cell_type": "code",
   "execution_count": 60,
   "metadata": {
    "cell_status": {
     "execute_time": {
      "duration": 1266.998046875,
      "end_time": 1574388358488.536
     }
    },
    "collapsed": true
   },
   "outputs": [
    {
     "data": {
      "text/html": [
       "<style scoped>\n",
       "  .ansiout {\n",
       "    display: block;\n",
       "    unicode-bidi: embed;\n",
       "    white-space: pre-wrap;\n",
       "    word-wrap: break-word;\n",
       "    word-break: break-all;\n",
       "    font-family: \"Source Code Pro\", \"Menlo\", monospace;;\n",
       "    font-size: 13px;\n",
       "    color: #555;\n",
       "    margin-left: 4px;\n",
       "    line-height: 19px;\n",
       "  }\n",
       "</style>\n",
       "<div class=\"ansiout\"></div>"
      ]
     },
     "metadata": {},
     "output_type": "display_data"
    }
   ],
   "source": [
    "players_matchs_stats = player_stats_final.join(match_with_data,[match_with_data.match_id == player_stats_final.match_id]).drop(player_stats_final.match_id)"
   ]
  },
  {
   "cell_type": "code",
   "execution_count": 61,
   "metadata": {
    "cell_status": {
     "execute_time": {
      "duration": 43.458984375,
      "end_time": 1574388358548.704
     }
    }
   },
   "outputs": [
    {
     "data": {
      "text/html": [
       "<style scoped>\n",
       "  .ansiout {\n",
       "    display: block;\n",
       "    unicode-bidi: embed;\n",
       "    white-space: pre-wrap;\n",
       "    word-wrap: break-word;\n",
       "    word-break: break-all;\n",
       "    font-family: \"Source Code Pro\", \"Menlo\", monospace;;\n",
       "    font-size: 13px;\n",
       "    color: #555;\n",
       "    margin-left: 4px;\n",
       "    line-height: 19px;\n",
       "  }\n",
       "</style>\n",
       "<div class=\"ansiout\"></div>"
      ]
     },
     "metadata": {},
     "output_type": "display_data"
    }
   ],
   "source": [
    "players_matchs_stats = players_matchs_stats.drop(\"match_with_data.match_id\")"
   ]
  },
  {
   "cell_type": "code",
   "execution_count": 62,
   "metadata": {
    "cell_status": {
     "execute_time": {
      "duration": 31.615966796875,
      "end_time": 1574388358631.118
     }
    }
   },
   "outputs": [
    {
     "data": {
      "text/html": [
       "<style scoped>\n",
       "  .ansiout {\n",
       "    display: block;\n",
       "    unicode-bidi: embed;\n",
       "    white-space: pre-wrap;\n",
       "    word-wrap: break-word;\n",
       "    word-break: break-all;\n",
       "    font-family: \"Source Code Pro\", \"Menlo\", monospace;;\n",
       "    font-size: 13px;\n",
       "    color: #555;\n",
       "    margin-left: 4px;\n",
       "    line-height: 19px;\n",
       "  }\n",
       "</style>\n",
       "<div class=\"ansiout\">root\n",
       "-- final_role: string (nullable = true)\n",
       "-- avg(gold_earned): double (nullable = true)\n",
       "-- avg(kills): double (nullable = true)\n",
       "-- avg(deaths): double (nullable = true)\n",
       "-- avg(assists): double (nullable = true)\n",
       "-- avg(visionScore): double (nullable = true)\n",
       "-- avg(totalDamageDealt): double (nullable = true)\n",
       "-- avg(totalDamageTaken): double (nullable = true)\n",
       "-- avg(totalMinionsKilled): double (nullable = true)\n",
       "-- avg(totalTimeCrowdControlDealt): double (nullable = true)\n",
       "-- summonerID: string (nullable = true)\n",
       "-- championId: string (nullable = false)\n",
       "-- points: integer (nullable = true)\n",
       "-- name: string (nullable = true)\n",
       "-- armorperlevel: double (nullable = true)\n",
       "-- attackdamageperlevel: double (nullable = true)\n",
       "-- attackspeed: double (nullable = true)\n",
       "-- attackrange: integer (nullable = true)\n",
       "-- spellblockperlevel: double (nullable = true)\n",
       "-- hpperlevel: integer (nullable = true)\n",
       "-- match_id: string (nullable = true)\n",
       "-- number_of_players: long (nullable = false)\n",
       "\n",
       "</div>"
      ]
     },
     "metadata": {},
     "output_type": "display_data"
    }
   ],
   "source": [
    "players_matchs_stats.printSchema()"
   ]
  },
  {
   "cell_type": "code",
   "execution_count": 63,
   "metadata": {
    "cell_status": {
     "execute_time": {
      "duration": 19384.432861328125,
      "end_time": 1574388378732.317
     }
    }
   },
   "outputs": [
    {
     "data": {
      "text/html": [
       "<style scoped>\n",
       "  .ansiout {\n",
       "    display: block;\n",
       "    unicode-bidi: embed;\n",
       "    white-space: pre-wrap;\n",
       "    word-wrap: break-word;\n",
       "    word-break: break-all;\n",
       "    font-family: \"Source Code Pro\", \"Menlo\", monospace;;\n",
       "    font-size: 13px;\n",
       "    color: #555;\n",
       "    margin-left: 4px;\n",
       "    line-height: 19px;\n",
       "  }\n",
       "</style>\n",
       "<div class=\"ansiout\">+----------+-----------------+-------------------+-------------------+-------------------+------------------+---------------------+---------------------+-----------------------+-------------------------------+--------------------+----------+------+----+-------------+--------------------+-----------+-----------+------------------+----------+----------+-----------------+\n",
       "final_role| avg(gold_earned)|         avg(kills)|        avg(deaths)|       avg(assists)|  avg(visionScore)|avg(totalDamageDealt)|avg(totalDamageTaken)|avg(totalMinionsKilled)|avg(totalTimeCrowdControlDealt)|          summonerID|championId|points|name|armorperlevel|attackdamageperlevel|attackspeed|attackrange|spellblockperlevel|hpperlevel|  match_id|number_of_players|\n",
       "+----------+-----------------+-------------------+-------------------+-------------------+------------------+---------------------+---------------------+-----------------------+-------------------------------+--------------------+----------+------+----+-------------+--------------------+-----------+-----------+------------------+----------+----------+-----------------+\n",
       " 100_CARRY|397.1635803222656|0.15191516429185867|0.15711383521556854|0.21543897539377213|0.8747588813304901|    4645.909130859375|    578.0719421386718|      6.624193382263184|             1.8989726662635804|OQtTWZERqG1ds6_Ik...|       202| 26470|Jhin|          3.5|                 4.7|      0.625|        550|               0.5|        91|3189832660|               10|\n",
       "+----------+-----------------+-------------------+-------------------+-------------------+------------------+---------------------+---------------------+-----------------------+-------------------------------+--------------------+----------+------+----+-------------+--------------------+-----------+-----------+------------------+----------+----------+-----------------+\n",
       "only showing top 1 row\n",
       "\n",
       "</div>"
      ]
     },
     "metadata": {},
     "output_type": "display_data"
    }
   ],
   "source": [
    "players_matchs_stats.show(1)"
   ]
  },
  {
   "cell_type": "markdown",
   "metadata": {},
   "source": [
    "### remove matches with less than 10 players data"
   ]
  },
  {
   "cell_type": "code",
   "execution_count": 65,
   "metadata": {
    "cell_status": {
     "execute_time": {
      "duration": 15355.537109375,
      "end_time": 1574388517464.588
     }
    }
   },
   "outputs": [
    {
     "data": {
      "text/html": [
       "<style scoped>\n",
       "  .ansiout {\n",
       "    display: block;\n",
       "    unicode-bidi: embed;\n",
       "    white-space: pre-wrap;\n",
       "    word-wrap: break-word;\n",
       "    word-break: break-all;\n",
       "    font-family: \"Source Code Pro\", \"Menlo\", monospace;;\n",
       "    font-size: 13px;\n",
       "    color: #555;\n",
       "    margin-left: 4px;\n",
       "    line-height: 19px;\n",
       "  }\n",
       "</style>\n",
       "<div class=\"ansiout\"><span class=\"ansired\">Out[</span><span class=\"ansired\">192</span><span class=\"ansired\">]: </span>1480</div>"
      ]
     },
     "metadata": {},
     "output_type": "display_data"
    }
   ],
   "source": [
    "players_matchs_stats = players_matchs_stats.filter(players_matchs_stats.number_of_players == 10)\n",
    "players_matchs_stats.count()"
   ]
  },
  {
   "cell_type": "code",
   "execution_count": 66,
   "metadata": {
    "cell_status": {
     "execute_time": {
      "duration": 21379.77587890625,
      "end_time": 1574388538853.549
     }
    }
   },
   "outputs": [
    {
     "data": {
      "text/html": [
       "<style scoped>\n",
       "  .ansiout {\n",
       "    display: block;\n",
       "    unicode-bidi: embed;\n",
       "    white-space: pre-wrap;\n",
       "    word-wrap: break-word;\n",
       "    word-break: break-all;\n",
       "    font-family: \"Source Code Pro\", \"Menlo\", monospace;;\n",
       "    font-size: 13px;\n",
       "    color: #555;\n",
       "    margin-left: 4px;\n",
       "    line-height: 19px;\n",
       "  }\n",
       "</style>\n",
       "<div class=\"ansiout\">+-----------+-----------------+-------------------+-------------------+-------------------+------------------+---------------------+---------------------+-----------------------+-------------------------------+--------------------+----------+------+------+-------------+--------------------+-----------+-----------+------------------+----------+----------+-----------------+\n",
       " final_role| avg(gold_earned)|         avg(kills)|        avg(deaths)|       avg(assists)|  avg(visionScore)|avg(totalDamageDealt)|avg(totalDamageTaken)|avg(totalMinionsKilled)|avg(totalTimeCrowdControlDealt)|          summonerID|championId|points|  name|armorperlevel|attackdamageperlevel|attackspeed|attackrange|spellblockperlevel|hpperlevel|  match_id|number_of_players|\n",
       "+-----------+-----------------+-------------------+-------------------+-------------------+------------------+---------------------+---------------------+-----------------------+-------------------------------+--------------------+----------+------+------+-------------+--------------------+-----------+-----------+------------------+----------+----------+-----------------+\n",
       "200_SUPPORT| 318.490087890625|0.11705507685740789|0.18284307420253754| 0.4638380562265714| 1.735816764831543|    1439.645849609375|    508.9208485921224|     1.3682627737522126|              3.948629836241404|jXwZZNCe8Eo2w_bR4...|        16|164403|Soraka|          3.8|                 3.0|      0.625|        550|               0.5|        78|3189832660|               10|\n",
       "    100_TOP|390.0729417067308|0.17507026745722845|0.16784555063797876|0.19968525119698965|0.7797835560945364|   4568.1494704026445|    778.5648991511418|       5.74941551226836|              6.904630734370305|ygwtOFCbQ3t0hdMJw...|        84| 75281| Akali|          3.5|                 3.3|      0.625|        125|              1.25|        95|3189832660|               10|\n",
       "+-----------+-----------------+-------------------+-------------------+-------------------+------------------+---------------------+---------------------+-----------------------+-------------------------------+--------------------+----------+------+------+-------------+--------------------+-----------+-----------+------------------+----------+----------+-----------------+\n",
       "only showing top 2 rows\n",
       "\n",
       "</div>"
      ]
     },
     "metadata": {},
     "output_type": "display_data"
    }
   ],
   "source": [
    "players_matchs_stats.show(2)"
   ]
  },
  {
   "cell_type": "markdown",
   "metadata": {},
   "source": [
    "## join with label table"
   ]
  },
  {
   "cell_type": "code",
   "execution_count": 68,
   "metadata": {
    "cell_status": {
     "execute_time": {
      "duration": 17339.658935546875,
      "end_time": 1574388556207.105
     }
    }
   },
   "outputs": [
    {
     "data": {
      "text/html": [
       "<style scoped>\n",
       "  .ansiout {\n",
       "    display: block;\n",
       "    unicode-bidi: embed;\n",
       "    white-space: pre-wrap;\n",
       "    word-wrap: break-word;\n",
       "    word-break: break-all;\n",
       "    font-family: \"Source Code Pro\", \"Menlo\", monospace;;\n",
       "    font-size: 13px;\n",
       "    color: #555;\n",
       "    margin-left: 4px;\n",
       "    line-height: 19px;\n",
       "  }\n",
       "</style>\n",
       "<div class=\"ansiout\">+----------+-----+\n",
       "        id|label|\n",
       "+----------+-----+\n",
       "3207597356|    0|\n",
       "+----------+-----+\n",
       "only showing top 1 row\n",
       "\n",
       "</div>"
      ]
     },
     "metadata": {},
     "output_type": "display_data"
    }
   ],
   "source": [
    "label_col.show(1)"
   ]
  },
  {
   "cell_type": "code",
   "execution_count": 69,
   "metadata": {
    "cell_status": {
     "execute_time": {
      "duration": 235.3681640625,
      "end_time": 1574388556451.601
     }
    }
   },
   "outputs": [
    {
     "data": {
      "text/html": [
       "<style scoped>\n",
       "  .ansiout {\n",
       "    display: block;\n",
       "    unicode-bidi: embed;\n",
       "    white-space: pre-wrap;\n",
       "    word-wrap: break-word;\n",
       "    word-break: break-all;\n",
       "    font-family: \"Source Code Pro\", \"Menlo\", monospace;;\n",
       "    font-size: 13px;\n",
       "    color: #555;\n",
       "    margin-left: 4px;\n",
       "    line-height: 19px;\n",
       "  }\n",
       "</style>\n",
       "<div class=\"ansiout\"></div>"
      ]
     },
     "metadata": {},
     "output_type": "display_data"
    }
   ],
   "source": [
    "# label = 100_win or not\n",
    "players_stats_sep_table = players_matchs_stats.join(label_col,[label_col.id == players_matchs_stats.match_id])"
   ]
  },
  {
   "cell_type": "code",
   "execution_count": 70,
   "metadata": {
    "cell_status": {
     "execute_time": {
      "duration": 25428.548828125,
      "end_time": 1574388581890.742
     }
    }
   },
   "outputs": [
    {
     "data": {
      "text/html": [
       "<style scoped>\n",
       "  .ansiout {\n",
       "    display: block;\n",
       "    unicode-bidi: embed;\n",
       "    white-space: pre-wrap;\n",
       "    word-wrap: break-word;\n",
       "    word-break: break-all;\n",
       "    font-family: \"Source Code Pro\", \"Menlo\", monospace;;\n",
       "    font-size: 13px;\n",
       "    color: #555;\n",
       "    margin-left: 4px;\n",
       "    line-height: 19px;\n",
       "  }\n",
       "</style>\n",
       "<div class=\"ansiout\">+----------+-----------------+-------------------+-------------------+-------------------+------------------+---------------------+---------------------+-----------------------+-------------------------------+--------------------+----------+------+----+-------------+--------------------+-----------+-----------+------------------+----------+----------+-----------------+----------+-----+\n",
       "final_role| avg(gold_earned)|         avg(kills)|        avg(deaths)|       avg(assists)|  avg(visionScore)|avg(totalDamageDealt)|avg(totalDamageTaken)|avg(totalMinionsKilled)|avg(totalTimeCrowdControlDealt)|          summonerID|championId|points|name|armorperlevel|attackdamageperlevel|attackspeed|attackrange|spellblockperlevel|hpperlevel|  match_id|number_of_players|        id|label|\n",
       "+----------+-----------------+-------------------+-------------------+-------------------+------------------+---------------------+---------------------+-----------------------+-------------------------------+--------------------+----------+------+----+-------------+--------------------+-----------+-----------+------------------+----------+----------+-----------------+----------+-----+\n",
       "   200_TOP|406.2392349243164|0.14924311637878418|0.18697264790534973|0.13926471676677465|0.8611115217208862|    6737.166442871094|    913.9589538574219|      7.859940409660339|              9.516588687896729|VTw5GTyLHy8N9Gd2t...|        13| 18798|Ryze|          3.0|                 3.0|      0.625|        550|               0.5|        98|3189832660|               10|3189832660|    0|\n",
       "+----------+-----------------+-------------------+-------------------+-------------------+------------------+---------------------+---------------------+-----------------------+-------------------------------+--------------------+----------+------+----+-------------+--------------------+-----------+-----------+------------------+----------+----------+-----------------+----------+-----+\n",
       "only showing top 1 row\n",
       "\n",
       "</div>"
      ]
     },
     "metadata": {},
     "output_type": "display_data"
    }
   ],
   "source": [
    "players_stats_sep_table.show(1)"
   ]
  },
  {
   "cell_type": "code",
   "execution_count": 71,
   "metadata": {
    "cell_status": {
     "execute_time": {
      "duration": 2284.958984375,
      "end_time": 1574390006235.696
     }
    }
   },
   "outputs": [
    {
     "data": {
      "text/html": [
       "<style scoped>\n",
       "  .ansiout {\n",
       "    display: block;\n",
       "    unicode-bidi: embed;\n",
       "    white-space: pre-wrap;\n",
       "    word-wrap: break-word;\n",
       "    word-break: break-all;\n",
       "    font-family: \"Source Code Pro\", \"Menlo\", monospace;;\n",
       "    font-size: 13px;\n",
       "    color: #555;\n",
       "    margin-left: 4px;\n",
       "    line-height: 19px;\n",
       "  }\n",
       "</style>\n",
       "<div class=\"ansiout\"></div>"
      ]
     },
     "metadata": {},
     "output_type": "display_data"
    }
   ],
   "source": [
    "all_stats_matchs_pd = players_stats_sep_table.toPandas()"
   ]
  },
  {
   "cell_type": "markdown",
   "metadata": {},
   "source": [
    "# Create feature matrix"
   ]
  },
  {
   "cell_type": "code",
   "execution_count": 73,
   "metadata": {
    "cell_status": {
     "execute_time": {
      "duration": 26.19384765625,
      "end_time": 1574390178282.036
     }
    },
    "collapsed": true
   },
   "outputs": [
    {
     "data": {
      "text/html": [
       "<style scoped>\n",
       "  .ansiout {\n",
       "    display: block;\n",
       "    unicode-bidi: embed;\n",
       "    white-space: pre-wrap;\n",
       "    word-wrap: break-word;\n",
       "    word-break: break-all;\n",
       "    font-family: \"Source Code Pro\", \"Menlo\", monospace;;\n",
       "    font-size: 13px;\n",
       "    color: #555;\n",
       "    margin-left: 4px;\n",
       "    line-height: 19px;\n",
       "  }\n",
       "</style>\n",
       "<div class=\"ansiout\"></div>"
      ]
     },
     "metadata": {},
     "output_type": "display_data"
    }
   ],
   "source": [
    "import pandas as pd"
   ]
  },
  {
   "cell_type": "code",
   "execution_count": 74,
   "metadata": {
    "cell_status": {
     "execute_time": {
      "duration": 242.803955078125,
      "end_time": 1574390187384.094
     }
    }
   },
   "outputs": [
    {
     "data": {
      "text/html": [
       "<div style=\"max-width:1500px;overflow:auto;\">\n",
       "<table border=\"1\" class=\"dataframe\">\n",
       "  <thead>\n",
       "    <tr style=\"text-align: right;\">\n",
       "      <th></th>\n",
       "      <th>final_role</th>\n",
       "      <th>avg(gold_earned)</th>\n",
       "      <th>avg(kills)</th>\n",
       "      <th>avg(deaths)</th>\n",
       "      <th>avg(assists)</th>\n",
       "      <th>avg(visionScore)</th>\n",
       "      <th>avg(totalDamageDealt)</th>\n",
       "      <th>avg(totalDamageTaken)</th>\n",
       "      <th>avg(totalMinionsKilled)</th>\n",
       "      <th>avg(totalTimeCrowdControlDealt)</th>\n",
       "      <th>...</th>\n",
       "      <th>armorperlevel</th>\n",
       "      <th>attackdamageperlevel</th>\n",
       "      <th>attackspeed</th>\n",
       "      <th>attackrange</th>\n",
       "      <th>spellblockperlevel</th>\n",
       "      <th>hpperlevel</th>\n",
       "      <th>match_id</th>\n",
       "      <th>number_of_players</th>\n",
       "      <th>id</th>\n",
       "      <th>label</th>\n",
       "    </tr>\n",
       "  </thead>\n",
       "  <tbody>\n",
       "    <tr>\n",
       "      <th>0</th>\n",
       "      <td>200_SUPPORT</td>\n",
       "      <td>318.490088</td>\n",
       "      <td>0.117055</td>\n",
       "      <td>0.182843</td>\n",
       "      <td>0.463838</td>\n",
       "      <td>1.735817</td>\n",
       "      <td>1439.645850</td>\n",
       "      <td>508.920849</td>\n",
       "      <td>1.368263</td>\n",
       "      <td>3.948630</td>\n",
       "      <td>...</td>\n",
       "      <td>3.80</td>\n",
       "      <td>3.0000</td>\n",
       "      <td>0.625</td>\n",
       "      <td>550</td>\n",
       "      <td>0.50</td>\n",
       "      <td>78</td>\n",
       "      <td>3189832660</td>\n",
       "      <td>10</td>\n",
       "      <td>3189832660</td>\n",
       "      <td>0</td>\n",
       "    </tr>\n",
       "    <tr>\n",
       "      <th>1</th>\n",
       "      <td>100_MIDDLE</td>\n",
       "      <td>403.481809</td>\n",
       "      <td>0.198110</td>\n",
       "      <td>0.235891</td>\n",
       "      <td>0.185776</td>\n",
       "      <td>0.750986</td>\n",
       "      <td>4944.120992</td>\n",
       "      <td>838.557755</td>\n",
       "      <td>6.454304</td>\n",
       "      <td>4.992762</td>\n",
       "      <td>...</td>\n",
       "      <td>4.00</td>\n",
       "      <td>3.7500</td>\n",
       "      <td>0.665</td>\n",
       "      <td>125</td>\n",
       "      <td>1.25</td>\n",
       "      <td>87</td>\n",
       "      <td>3189832660</td>\n",
       "      <td>10</td>\n",
       "      <td>3189832660</td>\n",
       "      <td>0</td>\n",
       "    </tr>\n",
       "    <tr>\n",
       "      <th>2</th>\n",
       "      <td>200_MIDDLE</td>\n",
       "      <td>406.082535</td>\n",
       "      <td>0.177331</td>\n",
       "      <td>0.145485</td>\n",
       "      <td>0.195233</td>\n",
       "      <td>0.996482</td>\n",
       "      <td>4532.732910</td>\n",
       "      <td>582.346517</td>\n",
       "      <td>6.713955</td>\n",
       "      <td>4.141156</td>\n",
       "      <td>...</td>\n",
       "      <td>3.50</td>\n",
       "      <td>3.4000</td>\n",
       "      <td>0.651</td>\n",
       "      <td>125</td>\n",
       "      <td>1.25</td>\n",
       "      <td>85</td>\n",
       "      <td>3189832660</td>\n",
       "      <td>10</td>\n",
       "      <td>3189832660</td>\n",
       "      <td>0</td>\n",
       "    </tr>\n",
       "    <tr>\n",
       "      <th>3</th>\n",
       "      <td>200_CARRY</td>\n",
       "      <td>482.309204</td>\n",
       "      <td>0.231569</td>\n",
       "      <td>0.099228</td>\n",
       "      <td>0.248126</td>\n",
       "      <td>0.959098</td>\n",
       "      <td>7170.683838</td>\n",
       "      <td>670.839447</td>\n",
       "      <td>4.973999</td>\n",
       "      <td>6.983290</td>\n",
       "      <td>...</td>\n",
       "      <td>3.00</td>\n",
       "      <td>1.7000</td>\n",
       "      <td>0.644</td>\n",
       "      <td>525</td>\n",
       "      <td>0.50</td>\n",
       "      <td>86</td>\n",
       "      <td>3189832660</td>\n",
       "      <td>10</td>\n",
       "      <td>3189832660</td>\n",
       "      <td>0</td>\n",
       "    </tr>\n",
       "    <tr>\n",
       "      <th>4</th>\n",
       "      <td>100_JUNGLE</td>\n",
       "      <td>440.474436</td>\n",
       "      <td>0.253820</td>\n",
       "      <td>0.299878</td>\n",
       "      <td>0.208255</td>\n",
       "      <td>0.833321</td>\n",
       "      <td>4923.666504</td>\n",
       "      <td>920.264964</td>\n",
       "      <td>3.573276</td>\n",
       "      <td>6.229355</td>\n",
       "      <td>...</td>\n",
       "      <td>3.35</td>\n",
       "      <td>3.0000</td>\n",
       "      <td>0.625</td>\n",
       "      <td>550</td>\n",
       "      <td>0.50</td>\n",
       "      <td>93</td>\n",
       "      <td>3189832660</td>\n",
       "      <td>10</td>\n",
       "      <td>3189832660</td>\n",
       "      <td>0</td>\n",
       "    </tr>\n",
       "    <tr>\n",
       "      <th>5</th>\n",
       "      <td>200_JUNGLE</td>\n",
       "      <td>402.083862</td>\n",
       "      <td>0.233919</td>\n",
       "      <td>0.171119</td>\n",
       "      <td>0.306281</td>\n",
       "      <td>1.069481</td>\n",
       "      <td>4882.165405</td>\n",
       "      <td>1035.474838</td>\n",
       "      <td>1.055992</td>\n",
       "      <td>9.001877</td>\n",
       "      <td>...</td>\n",
       "      <td>3.50</td>\n",
       "      <td>2.2600</td>\n",
       "      <td>0.625</td>\n",
       "      <td>500</td>\n",
       "      <td>0.50</td>\n",
       "      <td>85</td>\n",
       "      <td>3189832660</td>\n",
       "      <td>10</td>\n",
       "      <td>3189832660</td>\n",
       "      <td>0</td>\n",
       "    </tr>\n",
       "    <tr>\n",
       "      <th>6</th>\n",
       "      <td>100_SUPPORT</td>\n",
       "      <td>372.049255</td>\n",
       "      <td>0.213797</td>\n",
       "      <td>0.256854</td>\n",
       "      <td>0.221355</td>\n",
       "      <td>0.694821</td>\n",
       "      <td>4164.989404</td>\n",
       "      <td>888.770789</td>\n",
       "      <td>2.035436</td>\n",
       "      <td>5.420384</td>\n",
       "      <td>...</td>\n",
       "      <td>3.70</td>\n",
       "      <td>3.2000</td>\n",
       "      <td>0.651</td>\n",
       "      <td>125</td>\n",
       "      <td>1.25</td>\n",
       "      <td>85</td>\n",
       "      <td>3189832660</td>\n",
       "      <td>10</td>\n",
       "      <td>3189832660</td>\n",
       "      <td>0</td>\n",
       "    </tr>\n",
       "    <tr>\n",
       "      <th>7</th>\n",
       "      <td>100_TOP</td>\n",
       "      <td>390.072942</td>\n",
       "      <td>0.175070</td>\n",
       "      <td>0.167846</td>\n",
       "      <td>0.199685</td>\n",
       "      <td>0.779784</td>\n",
       "      <td>4568.149470</td>\n",
       "      <td>778.564899</td>\n",
       "      <td>5.749416</td>\n",
       "      <td>6.904631</td>\n",
       "      <td>...</td>\n",
       "      <td>3.50</td>\n",
       "      <td>3.3000</td>\n",
       "      <td>0.625</td>\n",
       "      <td>125</td>\n",
       "      <td>1.25</td>\n",
       "      <td>95</td>\n",
       "      <td>3189832660</td>\n",
       "      <td>10</td>\n",
       "      <td>3189832660</td>\n",
       "      <td>0</td>\n",
       "    </tr>\n",
       "    <tr>\n",
       "      <th>8</th>\n",
       "      <td>100_CARRY</td>\n",
       "      <td>397.163580</td>\n",
       "      <td>0.151915</td>\n",
       "      <td>0.157114</td>\n",
       "      <td>0.215439</td>\n",
       "      <td>0.874759</td>\n",
       "      <td>4645.909131</td>\n",
       "      <td>578.071942</td>\n",
       "      <td>6.624193</td>\n",
       "      <td>1.898973</td>\n",
       "      <td>...</td>\n",
       "      <td>3.50</td>\n",
       "      <td>4.7000</td>\n",
       "      <td>0.625</td>\n",
       "      <td>550</td>\n",
       "      <td>0.50</td>\n",
       "      <td>91</td>\n",
       "      <td>3189832660</td>\n",
       "      <td>10</td>\n",
       "      <td>3189832660</td>\n",
       "      <td>0</td>\n",
       "    </tr>\n",
       "    <tr>\n",
       "      <th>9</th>\n",
       "      <td>200_TOP</td>\n",
       "      <td>406.239235</td>\n",
       "      <td>0.149243</td>\n",
       "      <td>0.186973</td>\n",
       "      <td>0.139265</td>\n",
       "      <td>0.861112</td>\n",
       "      <td>6737.166443</td>\n",
       "      <td>913.958954</td>\n",
       "      <td>7.859940</td>\n",
       "      <td>9.516589</td>\n",
       "      <td>...</td>\n",
       "      <td>3.00</td>\n",
       "      <td>3.0000</td>\n",
       "      <td>0.625</td>\n",
       "      <td>550</td>\n",
       "      <td>0.50</td>\n",
       "      <td>98</td>\n",
       "      <td>3189832660</td>\n",
       "      <td>10</td>\n",
       "      <td>3189832660</td>\n",
       "      <td>0</td>\n",
       "    </tr>\n",
       "    <tr>\n",
       "      <th>10</th>\n",
       "      <td>200_CARRY</td>\n",
       "      <td>395.634045</td>\n",
       "      <td>0.169832</td>\n",
       "      <td>0.123619</td>\n",
       "      <td>0.119281</td>\n",
       "      <td>0.698754</td>\n",
       "      <td>5114.050415</td>\n",
       "      <td>566.819416</td>\n",
       "      <td>6.646701</td>\n",
       "      <td>5.476486</td>\n",
       "      <td>...</td>\n",
       "      <td>3.00</td>\n",
       "      <td>3.1100</td>\n",
       "      <td>0.679</td>\n",
       "      <td>550</td>\n",
       "      <td>0.50</td>\n",
       "      <td>84</td>\n",
       "      <td>3198331226</td>\n",
       "      <td>10</td>\n",
       "      <td>3198331226</td>\n",
       "      <td>1</td>\n",
       "    </tr>\n",
       "    <tr>\n",
       "      <th>11</th>\n",
       "      <td>100_JUNGLE</td>\n",
       "      <td>486.488464</td>\n",
       "      <td>0.393391</td>\n",
       "      <td>0.149653</td>\n",
       "      <td>0.303711</td>\n",
       "      <td>0.783500</td>\n",
       "      <td>4958.956055</td>\n",
       "      <td>926.595093</td>\n",
       "      <td>3.069450</td>\n",
       "      <td>6.139803</td>\n",
       "      <td>...</td>\n",
       "      <td>4.00</td>\n",
       "      <td>3.2000</td>\n",
       "      <td>0.670</td>\n",
       "      <td>175</td>\n",
       "      <td>1.25</td>\n",
       "      <td>90</td>\n",
       "      <td>3198331226</td>\n",
       "      <td>10</td>\n",
       "      <td>3198331226</td>\n",
       "      <td>1</td>\n",
       "    </tr>\n",
       "    <tr>\n",
       "      <th>12</th>\n",
       "      <td>200_SUPPORT</td>\n",
       "      <td>274.855789</td>\n",
       "      <td>0.123573</td>\n",
       "      <td>0.144387</td>\n",
       "      <td>0.302657</td>\n",
       "      <td>1.553600</td>\n",
       "      <td>1042.185950</td>\n",
       "      <td>429.450586</td>\n",
       "      <td>1.120293</td>\n",
       "      <td>3.811266</td>\n",
       "      <td>...</td>\n",
       "      <td>3.80</td>\n",
       "      <td>3.0000</td>\n",
       "      <td>0.625</td>\n",
       "      <td>550</td>\n",
       "      <td>0.50</td>\n",
       "      <td>82</td>\n",
       "      <td>3198331226</td>\n",
       "      <td>10</td>\n",
       "      <td>3198331226</td>\n",
       "      <td>1</td>\n",
       "    </tr>\n",
       "    <tr>\n",
       "      <th>13</th>\n",
       "      <td>100_SUPPORT</td>\n",
       "      <td>386.130353</td>\n",
       "      <td>0.119829</td>\n",
       "      <td>0.116891</td>\n",
       "      <td>0.115494</td>\n",
       "      <td>0.897957</td>\n",
       "      <td>3908.364795</td>\n",
       "      <td>759.676917</td>\n",
       "      <td>5.891268</td>\n",
       "      <td>3.829222</td>\n",
       "      <td>...</td>\n",
       "      <td>3.50</td>\n",
       "      <td>3.6200</td>\n",
       "      <td>0.625</td>\n",
       "      <td>125</td>\n",
       "      <td>1.25</td>\n",
       "      <td>106</td>\n",
       "      <td>3198331226</td>\n",
       "      <td>10</td>\n",
       "      <td>3198331226</td>\n",
       "      <td>1</td>\n",
       "    </tr>\n",
       "    <tr>\n",
       "      <th>14</th>\n",
       "      <td>200_JUNGLE</td>\n",
       "      <td>400.220167</td>\n",
       "      <td>0.246904</td>\n",
       "      <td>0.211070</td>\n",
       "      <td>0.265228</td>\n",
       "      <td>1.256938</td>\n",
       "      <td>4924.028625</td>\n",
       "      <td>809.900536</td>\n",
       "      <td>2.461061</td>\n",
       "      <td>7.729113</td>\n",
       "      <td>...</td>\n",
       "      <td>3.70</td>\n",
       "      <td>3.2000</td>\n",
       "      <td>0.651</td>\n",
       "      <td>125</td>\n",
       "      <td>1.25</td>\n",
       "      <td>85</td>\n",
       "      <td>3198331226</td>\n",
       "      <td>10</td>\n",
       "      <td>3198331226</td>\n",
       "      <td>1</td>\n",
       "    </tr>\n",
       "    <tr>\n",
       "      <th>15</th>\n",
       "      <td>200_MIDDLE</td>\n",
       "      <td>373.751572</td>\n",
       "      <td>0.117414</td>\n",
       "      <td>0.273608</td>\n",
       "      <td>0.234210</td>\n",
       "      <td>0.717063</td>\n",
       "      <td>4255.764465</td>\n",
       "      <td>892.439667</td>\n",
       "      <td>6.016746</td>\n",
       "      <td>15.610629</td>\n",
       "      <td>...</td>\n",
       "      <td>3.50</td>\n",
       "      <td>3.0000</td>\n",
       "      <td>0.647</td>\n",
       "      <td>550</td>\n",
       "      <td>0.50</td>\n",
       "      <td>90</td>\n",
       "      <td>3198331226</td>\n",
       "      <td>10</td>\n",
       "      <td>3198331226</td>\n",
       "      <td>1</td>\n",
       "    </tr>\n",
       "    <tr>\n",
       "      <th>16</th>\n",
       "      <td>200_TOP</td>\n",
       "      <td>400.680830</td>\n",
       "      <td>0.150735</td>\n",
       "      <td>0.276508</td>\n",
       "      <td>0.185069</td>\n",
       "      <td>0.616354</td>\n",
       "      <td>5556.480085</td>\n",
       "      <td>982.273472</td>\n",
       "      <td>5.956344</td>\n",
       "      <td>3.407255</td>\n",
       "      <td>...</td>\n",
       "      <td>3.75</td>\n",
       "      <td>3.7500</td>\n",
       "      <td>0.625</td>\n",
       "      <td>550</td>\n",
       "      <td>0.50</td>\n",
       "      <td>84</td>\n",
       "      <td>3198331226</td>\n",
       "      <td>10</td>\n",
       "      <td>3198331226</td>\n",
       "      <td>1</td>\n",
       "    </tr>\n",
       "    <tr>\n",
       "      <th>17</th>\n",
       "      <td>100_CARRY</td>\n",
       "      <td>467.960617</td>\n",
       "      <td>0.212915</td>\n",
       "      <td>0.228155</td>\n",
       "      <td>0.318096</td>\n",
       "      <td>0.467462</td>\n",
       "      <td>4635.026306</td>\n",
       "      <td>648.820236</td>\n",
       "      <td>6.672540</td>\n",
       "      <td>6.117525</td>\n",
       "      <td>...</td>\n",
       "      <td>3.50</td>\n",
       "      <td>2.5000</td>\n",
       "      <td>0.625</td>\n",
       "      <td>550</td>\n",
       "      <td>0.50</td>\n",
       "      <td>86</td>\n",
       "      <td>3198331226</td>\n",
       "      <td>10</td>\n",
       "      <td>3198331226</td>\n",
       "      <td>1</td>\n",
       "    </tr>\n",
       "    <tr>\n",
       "      <th>18</th>\n",
       "      <td>100_MIDDLE</td>\n",
       "      <td>510.230782</td>\n",
       "      <td>0.347286</td>\n",
       "      <td>0.149659</td>\n",
       "      <td>0.374275</td>\n",
       "      <td>0.679241</td>\n",
       "      <td>5809.544800</td>\n",
       "      <td>639.689125</td>\n",
       "      <td>6.525345</td>\n",
       "      <td>14.420536</td>\n",
       "      <td>...</td>\n",
       "      <td>3.00</td>\n",
       "      <td>4.0000</td>\n",
       "      <td>0.656</td>\n",
       "      <td>200</td>\n",
       "      <td>1.25</td>\n",
       "      <td>95</td>\n",
       "      <td>3198331226</td>\n",
       "      <td>10</td>\n",
       "      <td>3198331226</td>\n",
       "      <td>1</td>\n",
       "    </tr>\n",
       "    <tr>\n",
       "      <th>19</th>\n",
       "      <td>100_MIDDLE</td>\n",
       "      <td>395.314285</td>\n",
       "      <td>0.049464</td>\n",
       "      <td>0.021459</td>\n",
       "      <td>0.418995</td>\n",
       "      <td>1.661065</td>\n",
       "      <td>3115.706604</td>\n",
       "      <td>462.001404</td>\n",
       "      <td>4.469693</td>\n",
       "      <td>7.721271</td>\n",
       "      <td>...</td>\n",
       "      <td>3.00</td>\n",
       "      <td>2.5000</td>\n",
       "      <td>0.625</td>\n",
       "      <td>175</td>\n",
       "      <td>0.50</td>\n",
       "      <td>85</td>\n",
       "      <td>3198331226</td>\n",
       "      <td>10</td>\n",
       "      <td>3198331226</td>\n",
       "      <td>1</td>\n",
       "    </tr>\n",
       "    <tr>\n",
       "      <th>20</th>\n",
       "      <td>100_TOP</td>\n",
       "      <td>331.666763</td>\n",
       "      <td>0.147414</td>\n",
       "      <td>0.250838</td>\n",
       "      <td>0.344862</td>\n",
       "      <td>0.789428</td>\n",
       "      <td>3399.078186</td>\n",
       "      <td>987.648773</td>\n",
       "      <td>3.623761</td>\n",
       "      <td>4.572744</td>\n",
       "      <td>...</td>\n",
       "      <td>4.00</td>\n",
       "      <td>3.5000</td>\n",
       "      <td>0.625</td>\n",
       "      <td>125</td>\n",
       "      <td>1.25</td>\n",
       "      <td>70</td>\n",
       "      <td>3206625787</td>\n",
       "      <td>10</td>\n",
       "      <td>3206625787</td>\n",
       "      <td>0</td>\n",
       "    </tr>\n",
       "    <tr>\n",
       "      <th>21</th>\n",
       "      <td>100_CARRY</td>\n",
       "      <td>423.843528</td>\n",
       "      <td>0.282144</td>\n",
       "      <td>0.272688</td>\n",
       "      <td>0.189667</td>\n",
       "      <td>0.544931</td>\n",
       "      <td>4091.235247</td>\n",
       "      <td>727.937578</td>\n",
       "      <td>5.532058</td>\n",
       "      <td>8.547719</td>\n",
       "      <td>...</td>\n",
       "      <td>3.00</td>\n",
       "      <td>3.3000</td>\n",
       "      <td>0.656</td>\n",
       "      <td>525</td>\n",
       "      <td>0.50</td>\n",
       "      <td>88</td>\n",
       "      <td>3206625787</td>\n",
       "      <td>10</td>\n",
       "      <td>3206625787</td>\n",
       "      <td>0</td>\n",
       "    </tr>\n",
       "    <tr>\n",
       "      <th>22</th>\n",
       "      <td>200_CARRY</td>\n",
       "      <td>469.539759</td>\n",
       "      <td>0.278538</td>\n",
       "      <td>0.128494</td>\n",
       "      <td>0.249725</td>\n",
       "      <td>0.917412</td>\n",
       "      <td>5559.537313</td>\n",
       "      <td>531.063171</td>\n",
       "      <td>6.588323</td>\n",
       "      <td>4.274679</td>\n",
       "      <td>...</td>\n",
       "      <td>3.00</td>\n",
       "      <td>2.9000</td>\n",
       "      <td>0.625</td>\n",
       "      <td>525</td>\n",
       "      <td>0.50</td>\n",
       "      <td>86</td>\n",
       "      <td>3206625787</td>\n",
       "      <td>10</td>\n",
       "      <td>3206625787</td>\n",
       "      <td>0</td>\n",
       "    </tr>\n",
       "    <tr>\n",
       "      <th>23</th>\n",
       "      <td>100_MIDDLE</td>\n",
       "      <td>415.715340</td>\n",
       "      <td>0.270032</td>\n",
       "      <td>0.178000</td>\n",
       "      <td>0.335616</td>\n",
       "      <td>0.956140</td>\n",
       "      <td>4752.079559</td>\n",
       "      <td>804.046871</td>\n",
       "      <td>5.736666</td>\n",
       "      <td>13.898720</td>\n",
       "      <td>...</td>\n",
       "      <td>3.50</td>\n",
       "      <td>4.2000</td>\n",
       "      <td>0.625</td>\n",
       "      <td>125</td>\n",
       "      <td>1.25</td>\n",
       "      <td>80</td>\n",
       "      <td>3206625787</td>\n",
       "      <td>10</td>\n",
       "      <td>3206625787</td>\n",
       "      <td>0</td>\n",
       "    </tr>\n",
       "    <tr>\n",
       "      <th>24</th>\n",
       "      <td>100_SUPPORT</td>\n",
       "      <td>289.239787</td>\n",
       "      <td>0.081749</td>\n",
       "      <td>0.194294</td>\n",
       "      <td>0.501493</td>\n",
       "      <td>2.135885</td>\n",
       "      <td>950.612921</td>\n",
       "      <td>496.829279</td>\n",
       "      <td>1.237830</td>\n",
       "      <td>3.786102</td>\n",
       "      <td>...</td>\n",
       "      <td>3.60</td>\n",
       "      <td>3.0000</td>\n",
       "      <td>0.625</td>\n",
       "      <td>125</td>\n",
       "      <td>1.25</td>\n",
       "      <td>87</td>\n",
       "      <td>3206625787</td>\n",
       "      <td>10</td>\n",
       "      <td>3206625787</td>\n",
       "      <td>0</td>\n",
       "    </tr>\n",
       "    <tr>\n",
       "      <th>25</th>\n",
       "      <td>200_JUNGLE</td>\n",
       "      <td>352.888966</td>\n",
       "      <td>0.105578</td>\n",
       "      <td>0.259677</td>\n",
       "      <td>0.241873</td>\n",
       "      <td>0.885641</td>\n",
       "      <td>4410.824982</td>\n",
       "      <td>887.964005</td>\n",
       "      <td>4.393990</td>\n",
       "      <td>6.469288</td>\n",
       "      <td>...</td>\n",
       "      <td>3.60</td>\n",
       "      <td>3.5000</td>\n",
       "      <td>0.675</td>\n",
       "      <td>125</td>\n",
       "      <td>1.25</td>\n",
       "      <td>95</td>\n",
       "      <td>3206625787</td>\n",
       "      <td>10</td>\n",
       "      <td>3206625787</td>\n",
       "      <td>0</td>\n",
       "    </tr>\n",
       "    <tr>\n",
       "      <th>26</th>\n",
       "      <td>200_SUPPORT</td>\n",
       "      <td>329.768576</td>\n",
       "      <td>0.122223</td>\n",
       "      <td>0.192167</td>\n",
       "      <td>0.543819</td>\n",
       "      <td>1.677534</td>\n",
       "      <td>1683.540779</td>\n",
       "      <td>610.375347</td>\n",
       "      <td>1.583256</td>\n",
       "      <td>7.017765</td>\n",
       "      <td>...</td>\n",
       "      <td>3.50</td>\n",
       "      <td>0.0000</td>\n",
       "      <td>0.625</td>\n",
       "      <td>600</td>\n",
       "      <td>0.50</td>\n",
       "      <td>85</td>\n",
       "      <td>3206625787</td>\n",
       "      <td>10</td>\n",
       "      <td>3206625787</td>\n",
       "      <td>0</td>\n",
       "    </tr>\n",
       "    <tr>\n",
       "      <th>27</th>\n",
       "      <td>100_JUNGLE</td>\n",
       "      <td>337.428274</td>\n",
       "      <td>0.091743</td>\n",
       "      <td>0.241534</td>\n",
       "      <td>0.501694</td>\n",
       "      <td>0.652035</td>\n",
       "      <td>8440.055501</td>\n",
       "      <td>625.829875</td>\n",
       "      <td>0.603921</td>\n",
       "      <td>6.310482</td>\n",
       "      <td>...</td>\n",
       "      <td>3.50</td>\n",
       "      <td>3.0000</td>\n",
       "      <td>0.644</td>\n",
       "      <td>475</td>\n",
       "      <td>1.25</td>\n",
       "      <td>95</td>\n",
       "      <td>3206625787</td>\n",
       "      <td>10</td>\n",
       "      <td>3206625787</td>\n",
       "      <td>0</td>\n",
       "    </tr>\n",
       "    <tr>\n",
       "      <th>28</th>\n",
       "      <td>200_TOP</td>\n",
       "      <td>362.553691</td>\n",
       "      <td>0.146161</td>\n",
       "      <td>0.200502</td>\n",
       "      <td>0.227721</td>\n",
       "      <td>0.752823</td>\n",
       "      <td>4552.462769</td>\n",
       "      <td>765.736176</td>\n",
       "      <td>6.128997</td>\n",
       "      <td>9.050368</td>\n",
       "      <td>...</td>\n",
       "      <td>3.30</td>\n",
       "      <td>3.0000</td>\n",
       "      <td>0.658</td>\n",
       "      <td>450</td>\n",
       "      <td>0.50</td>\n",
       "      <td>96</td>\n",
       "      <td>3206625787</td>\n",
       "      <td>10</td>\n",
       "      <td>3206625787</td>\n",
       "      <td>0</td>\n",
       "    </tr>\n",
       "    <tr>\n",
       "      <th>29</th>\n",
       "      <td>200_MIDDLE</td>\n",
       "      <td>455.352386</td>\n",
       "      <td>0.311440</td>\n",
       "      <td>0.267487</td>\n",
       "      <td>0.206576</td>\n",
       "      <td>0.469436</td>\n",
       "      <td>5402.762033</td>\n",
       "      <td>1030.277309</td>\n",
       "      <td>5.890193</td>\n",
       "      <td>6.968438</td>\n",
       "      <td>...</td>\n",
       "      <td>3.50</td>\n",
       "      <td>3.1000</td>\n",
       "      <td>0.625</td>\n",
       "      <td>150</td>\n",
       "      <td>1.25</td>\n",
       "      <td>90</td>\n",
       "      <td>3206625787</td>\n",
       "      <td>10</td>\n",
       "      <td>3206625787</td>\n",
       "      <td>0</td>\n",
       "    </tr>\n",
       "    <tr>\n",
       "      <th>...</th>\n",
       "      <td>...</td>\n",
       "      <td>...</td>\n",
       "      <td>...</td>\n",
       "      <td>...</td>\n",
       "      <td>...</td>\n",
       "      <td>...</td>\n",
       "      <td>...</td>\n",
       "      <td>...</td>\n",
       "      <td>...</td>\n",
       "      <td>...</td>\n",
       "      <td>...</td>\n",
       "      <td>...</td>\n",
       "      <td>...</td>\n",
       "      <td>...</td>\n",
       "      <td>...</td>\n",
       "      <td>...</td>\n",
       "      <td>...</td>\n",
       "      <td>...</td>\n",
       "      <td>...</td>\n",
       "      <td>...</td>\n",
       "      <td>...</td>\n",
       "    </tr>\n",
       "    <tr>\n",
       "      <th>1450</th>\n",
       "      <td>200_JUNGLE</td>\n",
       "      <td>438.450582</td>\n",
       "      <td>0.396091</td>\n",
       "      <td>0.265484</td>\n",
       "      <td>0.228407</td>\n",
       "      <td>1.264366</td>\n",
       "      <td>4519.741862</td>\n",
       "      <td>961.493917</td>\n",
       "      <td>1.264958</td>\n",
       "      <td>7.969683</td>\n",
       "      <td>...</td>\n",
       "      <td>3.00</td>\n",
       "      <td>3.0000</td>\n",
       "      <td>0.667</td>\n",
       "      <td>125</td>\n",
       "      <td>1.25</td>\n",
       "      <td>90</td>\n",
       "      <td>3207710200</td>\n",
       "      <td>10</td>\n",
       "      <td>3207710200</td>\n",
       "      <td>1</td>\n",
       "    </tr>\n",
       "    <tr>\n",
       "      <th>1451</th>\n",
       "      <td>200_SUPPORT</td>\n",
       "      <td>483.337897</td>\n",
       "      <td>0.430122</td>\n",
       "      <td>0.201217</td>\n",
       "      <td>0.371904</td>\n",
       "      <td>0.855037</td>\n",
       "      <td>4252.449243</td>\n",
       "      <td>704.855969</td>\n",
       "      <td>5.212500</td>\n",
       "      <td>4.749624</td>\n",
       "      <td>...</td>\n",
       "      <td>3.50</td>\n",
       "      <td>3.1416</td>\n",
       "      <td>0.625</td>\n",
       "      <td>525</td>\n",
       "      <td>0.50</td>\n",
       "      <td>88</td>\n",
       "      <td>3207710200</td>\n",
       "      <td>10</td>\n",
       "      <td>3207710200</td>\n",
       "      <td>1</td>\n",
       "    </tr>\n",
       "    <tr>\n",
       "      <th>1452</th>\n",
       "      <td>200_MIDDLE</td>\n",
       "      <td>410.492645</td>\n",
       "      <td>0.245231</td>\n",
       "      <td>0.208365</td>\n",
       "      <td>0.217601</td>\n",
       "      <td>0.505598</td>\n",
       "      <td>4421.369854</td>\n",
       "      <td>700.298431</td>\n",
       "      <td>5.967265</td>\n",
       "      <td>5.625060</td>\n",
       "      <td>...</td>\n",
       "      <td>3.00</td>\n",
       "      <td>3.0000</td>\n",
       "      <td>0.688</td>\n",
       "      <td>125</td>\n",
       "      <td>1.25</td>\n",
       "      <td>85</td>\n",
       "      <td>3207710200</td>\n",
       "      <td>10</td>\n",
       "      <td>3207710200</td>\n",
       "      <td>1</td>\n",
       "    </tr>\n",
       "    <tr>\n",
       "      <th>1453</th>\n",
       "      <td>200_TOP</td>\n",
       "      <td>421.507439</td>\n",
       "      <td>0.217707</td>\n",
       "      <td>0.201661</td>\n",
       "      <td>0.143750</td>\n",
       "      <td>0.647544</td>\n",
       "      <td>4465.576874</td>\n",
       "      <td>941.837124</td>\n",
       "      <td>6.725225</td>\n",
       "      <td>4.288829</td>\n",
       "      <td>...</td>\n",
       "      <td>4.00</td>\n",
       "      <td>5.0000</td>\n",
       "      <td>0.625</td>\n",
       "      <td>175</td>\n",
       "      <td>1.25</td>\n",
       "      <td>100</td>\n",
       "      <td>3207710200</td>\n",
       "      <td>10</td>\n",
       "      <td>3207710200</td>\n",
       "      <td>1</td>\n",
       "    </tr>\n",
       "    <tr>\n",
       "      <th>1454</th>\n",
       "      <td>100_MIDDLE</td>\n",
       "      <td>344.868652</td>\n",
       "      <td>0.144990</td>\n",
       "      <td>0.217877</td>\n",
       "      <td>0.276353</td>\n",
       "      <td>0.756564</td>\n",
       "      <td>4393.636353</td>\n",
       "      <td>660.756836</td>\n",
       "      <td>5.312478</td>\n",
       "      <td>6.659554</td>\n",
       "      <td>...</td>\n",
       "      <td>3.00</td>\n",
       "      <td>3.0000</td>\n",
       "      <td>0.625</td>\n",
       "      <td>550</td>\n",
       "      <td>0.50</td>\n",
       "      <td>98</td>\n",
       "      <td>3207710200</td>\n",
       "      <td>10</td>\n",
       "      <td>3207710200</td>\n",
       "      <td>1</td>\n",
       "    </tr>\n",
       "    <tr>\n",
       "      <th>1455</th>\n",
       "      <td>200_CARRY</td>\n",
       "      <td>409.059771</td>\n",
       "      <td>0.183612</td>\n",
       "      <td>0.210106</td>\n",
       "      <td>0.238039</td>\n",
       "      <td>0.671003</td>\n",
       "      <td>4739.607282</td>\n",
       "      <td>524.926932</td>\n",
       "      <td>7.001281</td>\n",
       "      <td>4.356139</td>\n",
       "      <td>...</td>\n",
       "      <td>3.50</td>\n",
       "      <td>2.5000</td>\n",
       "      <td>0.625</td>\n",
       "      <td>550</td>\n",
       "      <td>0.50</td>\n",
       "      <td>86</td>\n",
       "      <td>3207710200</td>\n",
       "      <td>10</td>\n",
       "      <td>3207710200</td>\n",
       "      <td>1</td>\n",
       "    </tr>\n",
       "    <tr>\n",
       "      <th>1456</th>\n",
       "      <td>100_CARRY</td>\n",
       "      <td>413.708328</td>\n",
       "      <td>0.218000</td>\n",
       "      <td>0.137032</td>\n",
       "      <td>0.323325</td>\n",
       "      <td>0.831808</td>\n",
       "      <td>5183.854248</td>\n",
       "      <td>481.959854</td>\n",
       "      <td>6.640859</td>\n",
       "      <td>1.839080</td>\n",
       "      <td>...</td>\n",
       "      <td>3.50</td>\n",
       "      <td>4.7000</td>\n",
       "      <td>0.625</td>\n",
       "      <td>550</td>\n",
       "      <td>0.50</td>\n",
       "      <td>91</td>\n",
       "      <td>3207710200</td>\n",
       "      <td>10</td>\n",
       "      <td>3207710200</td>\n",
       "      <td>1</td>\n",
       "    </tr>\n",
       "    <tr>\n",
       "      <th>1457</th>\n",
       "      <td>100_SUPPORT</td>\n",
       "      <td>417.588879</td>\n",
       "      <td>0.272324</td>\n",
       "      <td>0.219280</td>\n",
       "      <td>0.284363</td>\n",
       "      <td>0.662271</td>\n",
       "      <td>4808.397549</td>\n",
       "      <td>841.679525</td>\n",
       "      <td>1.744452</td>\n",
       "      <td>15.182997</td>\n",
       "      <td>...</td>\n",
       "      <td>3.75</td>\n",
       "      <td>3.3000</td>\n",
       "      <td>0.706</td>\n",
       "      <td>175</td>\n",
       "      <td>1.25</td>\n",
       "      <td>86</td>\n",
       "      <td>3207710200</td>\n",
       "      <td>10</td>\n",
       "      <td>3207710200</td>\n",
       "      <td>1</td>\n",
       "    </tr>\n",
       "    <tr>\n",
       "      <th>1458</th>\n",
       "      <td>100_JUNGLE</td>\n",
       "      <td>440.505809</td>\n",
       "      <td>0.215571</td>\n",
       "      <td>0.157415</td>\n",
       "      <td>0.277956</td>\n",
       "      <td>0.567301</td>\n",
       "      <td>4806.383626</td>\n",
       "      <td>804.437317</td>\n",
       "      <td>6.364938</td>\n",
       "      <td>5.705432</td>\n",
       "      <td>...</td>\n",
       "      <td>3.00</td>\n",
       "      <td>3.3750</td>\n",
       "      <td>0.638</td>\n",
       "      <td>125</td>\n",
       "      <td>1.25</td>\n",
       "      <td>85</td>\n",
       "      <td>3207710200</td>\n",
       "      <td>10</td>\n",
       "      <td>3207710200</td>\n",
       "      <td>1</td>\n",
       "    </tr>\n",
       "    <tr>\n",
       "      <th>1459</th>\n",
       "      <td>100_JUNGLE</td>\n",
       "      <td>456.320190</td>\n",
       "      <td>0.367059</td>\n",
       "      <td>0.139677</td>\n",
       "      <td>0.184526</td>\n",
       "      <td>0.704037</td>\n",
       "      <td>6087.049886</td>\n",
       "      <td>1014.888611</td>\n",
       "      <td>1.510992</td>\n",
       "      <td>8.329042</td>\n",
       "      <td>...</td>\n",
       "      <td>3.40</td>\n",
       "      <td>3.0000</td>\n",
       "      <td>0.475</td>\n",
       "      <td>425</td>\n",
       "      <td>1.00</td>\n",
       "      <td>92</td>\n",
       "      <td>3207710200</td>\n",
       "      <td>10</td>\n",
       "      <td>3207710200</td>\n",
       "      <td>1</td>\n",
       "    </tr>\n",
       "    <tr>\n",
       "      <th>1460</th>\n",
       "      <td>100_MIDDLE</td>\n",
       "      <td>395.980693</td>\n",
       "      <td>0.276332</td>\n",
       "      <td>0.183402</td>\n",
       "      <td>0.322966</td>\n",
       "      <td>0.923131</td>\n",
       "      <td>3708.292318</td>\n",
       "      <td>571.096781</td>\n",
       "      <td>4.915449</td>\n",
       "      <td>4.463402</td>\n",
       "      <td>...</td>\n",
       "      <td>3.50</td>\n",
       "      <td>3.3000</td>\n",
       "      <td>0.625</td>\n",
       "      <td>550</td>\n",
       "      <td>0.50</td>\n",
       "      <td>92</td>\n",
       "      <td>3197454375</td>\n",
       "      <td>10</td>\n",
       "      <td>3197454375</td>\n",
       "      <td>1</td>\n",
       "    </tr>\n",
       "    <tr>\n",
       "      <th>1461</th>\n",
       "      <td>100_TOP</td>\n",
       "      <td>567.451630</td>\n",
       "      <td>0.343800</td>\n",
       "      <td>0.038660</td>\n",
       "      <td>0.213397</td>\n",
       "      <td>0.997115</td>\n",
       "      <td>9736.634277</td>\n",
       "      <td>861.639099</td>\n",
       "      <td>7.921474</td>\n",
       "      <td>11.941739</td>\n",
       "      <td>...</td>\n",
       "      <td>3.00</td>\n",
       "      <td>3.0000</td>\n",
       "      <td>0.658</td>\n",
       "      <td>125</td>\n",
       "      <td>1.25</td>\n",
       "      <td>82</td>\n",
       "      <td>3197454375</td>\n",
       "      <td>10</td>\n",
       "      <td>3197454375</td>\n",
       "      <td>1</td>\n",
       "    </tr>\n",
       "    <tr>\n",
       "      <th>1462</th>\n",
       "      <td>100_JUNGLE</td>\n",
       "      <td>480.513580</td>\n",
       "      <td>0.306677</td>\n",
       "      <td>0.113142</td>\n",
       "      <td>0.330914</td>\n",
       "      <td>0.906909</td>\n",
       "      <td>6131.016602</td>\n",
       "      <td>730.381744</td>\n",
       "      <td>5.174265</td>\n",
       "      <td>6.880734</td>\n",
       "      <td>...</td>\n",
       "      <td>3.50</td>\n",
       "      <td>2.6250</td>\n",
       "      <td>0.625</td>\n",
       "      <td>480</td>\n",
       "      <td>0.50</td>\n",
       "      <td>80</td>\n",
       "      <td>3197454375</td>\n",
       "      <td>10</td>\n",
       "      <td>3197454375</td>\n",
       "      <td>1</td>\n",
       "    </tr>\n",
       "    <tr>\n",
       "      <th>1463</th>\n",
       "      <td>200_JUNGLE</td>\n",
       "      <td>420.806003</td>\n",
       "      <td>0.242784</td>\n",
       "      <td>0.163722</td>\n",
       "      <td>0.264977</td>\n",
       "      <td>1.006551</td>\n",
       "      <td>5191.838367</td>\n",
       "      <td>963.241940</td>\n",
       "      <td>2.618201</td>\n",
       "      <td>6.163011</td>\n",
       "      <td>...</td>\n",
       "      <td>3.50</td>\n",
       "      <td>3.5000</td>\n",
       "      <td>0.638</td>\n",
       "      <td>525</td>\n",
       "      <td>0.50</td>\n",
       "      <td>85</td>\n",
       "      <td>3197454375</td>\n",
       "      <td>10</td>\n",
       "      <td>3197454375</td>\n",
       "      <td>1</td>\n",
       "    </tr>\n",
       "    <tr>\n",
       "      <th>1464</th>\n",
       "      <td>200_MIDDLE</td>\n",
       "      <td>375.514868</td>\n",
       "      <td>0.121243</td>\n",
       "      <td>0.201222</td>\n",
       "      <td>0.240574</td>\n",
       "      <td>0.634952</td>\n",
       "      <td>5324.389111</td>\n",
       "      <td>765.649084</td>\n",
       "      <td>6.049686</td>\n",
       "      <td>6.899063</td>\n",
       "      <td>...</td>\n",
       "      <td>3.75</td>\n",
       "      <td>2.6250</td>\n",
       "      <td>0.625</td>\n",
       "      <td>550</td>\n",
       "      <td>0.50</td>\n",
       "      <td>94</td>\n",
       "      <td>3197454375</td>\n",
       "      <td>10</td>\n",
       "      <td>3197454375</td>\n",
       "      <td>1</td>\n",
       "    </tr>\n",
       "    <tr>\n",
       "      <th>1465</th>\n",
       "      <td>200_SUPPORT</td>\n",
       "      <td>294.031433</td>\n",
       "      <td>0.094093</td>\n",
       "      <td>0.178052</td>\n",
       "      <td>0.374027</td>\n",
       "      <td>2.157704</td>\n",
       "      <td>1384.850519</td>\n",
       "      <td>669.588812</td>\n",
       "      <td>2.024629</td>\n",
       "      <td>4.768175</td>\n",
       "      <td>...</td>\n",
       "      <td>4.00</td>\n",
       "      <td>3.2000</td>\n",
       "      <td>0.644</td>\n",
       "      <td>125</td>\n",
       "      <td>1.25</td>\n",
       "      <td>87</td>\n",
       "      <td>3197454375</td>\n",
       "      <td>10</td>\n",
       "      <td>3197454375</td>\n",
       "      <td>1</td>\n",
       "    </tr>\n",
       "    <tr>\n",
       "      <th>1466</th>\n",
       "      <td>100_CARRY</td>\n",
       "      <td>359.707581</td>\n",
       "      <td>0.180383</td>\n",
       "      <td>0.320796</td>\n",
       "      <td>0.373577</td>\n",
       "      <td>1.058597</td>\n",
       "      <td>2990.036743</td>\n",
       "      <td>763.912659</td>\n",
       "      <td>3.092007</td>\n",
       "      <td>5.068864</td>\n",
       "      <td>...</td>\n",
       "      <td>3.00</td>\n",
       "      <td>2.7000</td>\n",
       "      <td>0.625</td>\n",
       "      <td>550</td>\n",
       "      <td>0.50</td>\n",
       "      <td>87</td>\n",
       "      <td>3197454375</td>\n",
       "      <td>10</td>\n",
       "      <td>3197454375</td>\n",
       "      <td>1</td>\n",
       "    </tr>\n",
       "    <tr>\n",
       "      <th>1467</th>\n",
       "      <td>200_CARRY</td>\n",
       "      <td>437.519514</td>\n",
       "      <td>0.209861</td>\n",
       "      <td>0.187581</td>\n",
       "      <td>0.191831</td>\n",
       "      <td>0.585442</td>\n",
       "      <td>5386.431749</td>\n",
       "      <td>641.177931</td>\n",
       "      <td>6.700430</td>\n",
       "      <td>3.986912</td>\n",
       "      <td>...</td>\n",
       "      <td>3.50</td>\n",
       "      <td>3.1100</td>\n",
       "      <td>0.665</td>\n",
       "      <td>500</td>\n",
       "      <td>0.50</td>\n",
       "      <td>88</td>\n",
       "      <td>3197454375</td>\n",
       "      <td>10</td>\n",
       "      <td>3197454375</td>\n",
       "      <td>1</td>\n",
       "    </tr>\n",
       "    <tr>\n",
       "      <th>1468</th>\n",
       "      <td>200_TOP</td>\n",
       "      <td>405.901443</td>\n",
       "      <td>0.200974</td>\n",
       "      <td>0.232663</td>\n",
       "      <td>0.110064</td>\n",
       "      <td>0.794813</td>\n",
       "      <td>3852.671265</td>\n",
       "      <td>818.866089</td>\n",
       "      <td>4.999213</td>\n",
       "      <td>4.618463</td>\n",
       "      <td>...</td>\n",
       "      <td>3.20</td>\n",
       "      <td>3.0000</td>\n",
       "      <td>0.625</td>\n",
       "      <td>125</td>\n",
       "      <td>1.25</td>\n",
       "      <td>86</td>\n",
       "      <td>3197454375</td>\n",
       "      <td>10</td>\n",
       "      <td>3197454375</td>\n",
       "      <td>1</td>\n",
       "    </tr>\n",
       "    <tr>\n",
       "      <th>1469</th>\n",
       "      <td>100_SUPPORT</td>\n",
       "      <td>265.030980</td>\n",
       "      <td>0.037568</td>\n",
       "      <td>0.180498</td>\n",
       "      <td>0.421856</td>\n",
       "      <td>2.126764</td>\n",
       "      <td>862.478278</td>\n",
       "      <td>474.622821</td>\n",
       "      <td>0.736406</td>\n",
       "      <td>3.932819</td>\n",
       "      <td>...</td>\n",
       "      <td>3.75</td>\n",
       "      <td>3.3000</td>\n",
       "      <td>0.706</td>\n",
       "      <td>175</td>\n",
       "      <td>1.25</td>\n",
       "      <td>86</td>\n",
       "      <td>3197454375</td>\n",
       "      <td>10</td>\n",
       "      <td>3197454375</td>\n",
       "      <td>1</td>\n",
       "    </tr>\n",
       "    <tr>\n",
       "      <th>1470</th>\n",
       "      <td>100_MIDDLE</td>\n",
       "      <td>411.022639</td>\n",
       "      <td>0.199859</td>\n",
       "      <td>0.207013</td>\n",
       "      <td>0.300782</td>\n",
       "      <td>0.799797</td>\n",
       "      <td>5416.593099</td>\n",
       "      <td>658.214391</td>\n",
       "      <td>6.002612</td>\n",
       "      <td>6.238928</td>\n",
       "      <td>...</td>\n",
       "      <td>4.00</td>\n",
       "      <td>2.5000</td>\n",
       "      <td>0.625</td>\n",
       "      <td>550</td>\n",
       "      <td>0.50</td>\n",
       "      <td>90</td>\n",
       "      <td>3206970221</td>\n",
       "      <td>10</td>\n",
       "      <td>3206970221</td>\n",
       "      <td>0</td>\n",
       "    </tr>\n",
       "    <tr>\n",
       "      <th>1471</th>\n",
       "      <td>200_SUPPORT</td>\n",
       "      <td>367.112091</td>\n",
       "      <td>0.113373</td>\n",
       "      <td>0.257420</td>\n",
       "      <td>0.366786</td>\n",
       "      <td>1.209032</td>\n",
       "      <td>2691.946289</td>\n",
       "      <td>529.473984</td>\n",
       "      <td>3.098656</td>\n",
       "      <td>6.292085</td>\n",
       "      <td>...</td>\n",
       "      <td>3.80</td>\n",
       "      <td>3.0000</td>\n",
       "      <td>0.625</td>\n",
       "      <td>550</td>\n",
       "      <td>0.50</td>\n",
       "      <td>78</td>\n",
       "      <td>3206970221</td>\n",
       "      <td>10</td>\n",
       "      <td>3206970221</td>\n",
       "      <td>0</td>\n",
       "    </tr>\n",
       "    <tr>\n",
       "      <th>1472</th>\n",
       "      <td>200_TOP</td>\n",
       "      <td>424.499115</td>\n",
       "      <td>0.214159</td>\n",
       "      <td>0.121791</td>\n",
       "      <td>0.172487</td>\n",
       "      <td>0.806617</td>\n",
       "      <td>4603.237183</td>\n",
       "      <td>726.047043</td>\n",
       "      <td>6.060467</td>\n",
       "      <td>2.892443</td>\n",
       "      <td>...</td>\n",
       "      <td>3.80</td>\n",
       "      <td>3.5000</td>\n",
       "      <td>0.644</td>\n",
       "      <td>125</td>\n",
       "      <td>1.25</td>\n",
       "      <td>85</td>\n",
       "      <td>3206970221</td>\n",
       "      <td>10</td>\n",
       "      <td>3206970221</td>\n",
       "      <td>0</td>\n",
       "    </tr>\n",
       "    <tr>\n",
       "      <th>1473</th>\n",
       "      <td>200_JUNGLE</td>\n",
       "      <td>476.326874</td>\n",
       "      <td>0.385950</td>\n",
       "      <td>0.159595</td>\n",
       "      <td>0.408018</td>\n",
       "      <td>0.966459</td>\n",
       "      <td>5596.013672</td>\n",
       "      <td>1021.138916</td>\n",
       "      <td>2.637930</td>\n",
       "      <td>12.458519</td>\n",
       "      <td>...</td>\n",
       "      <td>2.70</td>\n",
       "      <td>3.0000</td>\n",
       "      <td>0.670</td>\n",
       "      <td>175</td>\n",
       "      <td>1.25</td>\n",
       "      <td>96</td>\n",
       "      <td>3206970221</td>\n",
       "      <td>10</td>\n",
       "      <td>3206970221</td>\n",
       "      <td>0</td>\n",
       "    </tr>\n",
       "    <tr>\n",
       "      <th>1474</th>\n",
       "      <td>100_CARRY</td>\n",
       "      <td>480.158020</td>\n",
       "      <td>0.309172</td>\n",
       "      <td>0.189053</td>\n",
       "      <td>0.318741</td>\n",
       "      <td>0.763382</td>\n",
       "      <td>5824.610677</td>\n",
       "      <td>601.069631</td>\n",
       "      <td>7.028454</td>\n",
       "      <td>2.582285</td>\n",
       "      <td>...</td>\n",
       "      <td>3.00</td>\n",
       "      <td>1.7000</td>\n",
       "      <td>0.644</td>\n",
       "      <td>525</td>\n",
       "      <td>0.50</td>\n",
       "      <td>86</td>\n",
       "      <td>3206970221</td>\n",
       "      <td>10</td>\n",
       "      <td>3206970221</td>\n",
       "      <td>0</td>\n",
       "    </tr>\n",
       "    <tr>\n",
       "      <th>1475</th>\n",
       "      <td>100_SUPPORT</td>\n",
       "      <td>252.850301</td>\n",
       "      <td>0.049905</td>\n",
       "      <td>0.183130</td>\n",
       "      <td>0.453621</td>\n",
       "      <td>1.731043</td>\n",
       "      <td>471.705363</td>\n",
       "      <td>384.893229</td>\n",
       "      <td>0.297423</td>\n",
       "      <td>2.893210</td>\n",
       "      <td>...</td>\n",
       "      <td>3.80</td>\n",
       "      <td>1.5000</td>\n",
       "      <td>0.625</td>\n",
       "      <td>550</td>\n",
       "      <td>0.50</td>\n",
       "      <td>70</td>\n",
       "      <td>3206970221</td>\n",
       "      <td>10</td>\n",
       "      <td>3206970221</td>\n",
       "      <td>0</td>\n",
       "    </tr>\n",
       "    <tr>\n",
       "      <th>1476</th>\n",
       "      <td>100_TOP</td>\n",
       "      <td>432.745178</td>\n",
       "      <td>0.270587</td>\n",
       "      <td>0.229160</td>\n",
       "      <td>0.353130</td>\n",
       "      <td>0.560510</td>\n",
       "      <td>4973.851725</td>\n",
       "      <td>788.005880</td>\n",
       "      <td>6.010623</td>\n",
       "      <td>9.603876</td>\n",
       "      <td>...</td>\n",
       "      <td>3.50</td>\n",
       "      <td>3.1000</td>\n",
       "      <td>0.625</td>\n",
       "      <td>150</td>\n",
       "      <td>1.25</td>\n",
       "      <td>90</td>\n",
       "      <td>3206970221</td>\n",
       "      <td>10</td>\n",
       "      <td>3206970221</td>\n",
       "      <td>0</td>\n",
       "    </tr>\n",
       "    <tr>\n",
       "      <th>1477</th>\n",
       "      <td>200_CARRY</td>\n",
       "      <td>508.883293</td>\n",
       "      <td>0.422703</td>\n",
       "      <td>0.218354</td>\n",
       "      <td>0.304775</td>\n",
       "      <td>0.540766</td>\n",
       "      <td>6321.164551</td>\n",
       "      <td>1023.557465</td>\n",
       "      <td>5.640052</td>\n",
       "      <td>7.659912</td>\n",
       "      <td>...</td>\n",
       "      <td>3.40</td>\n",
       "      <td>2.3600</td>\n",
       "      <td>0.658</td>\n",
       "      <td>550</td>\n",
       "      <td>0.50</td>\n",
       "      <td>89</td>\n",
       "      <td>3206970221</td>\n",
       "      <td>10</td>\n",
       "      <td>3206970221</td>\n",
       "      <td>0</td>\n",
       "    </tr>\n",
       "    <tr>\n",
       "      <th>1478</th>\n",
       "      <td>100_JUNGLE</td>\n",
       "      <td>394.022369</td>\n",
       "      <td>0.283478</td>\n",
       "      <td>0.186463</td>\n",
       "      <td>0.292523</td>\n",
       "      <td>0.796301</td>\n",
       "      <td>4692.874268</td>\n",
       "      <td>904.270040</td>\n",
       "      <td>1.416639</td>\n",
       "      <td>17.293413</td>\n",
       "      <td>...</td>\n",
       "      <td>3.00</td>\n",
       "      <td>3.0000</td>\n",
       "      <td>0.688</td>\n",
       "      <td>125</td>\n",
       "      <td>1.25</td>\n",
       "      <td>85</td>\n",
       "      <td>3206970221</td>\n",
       "      <td>10</td>\n",
       "      <td>3206970221</td>\n",
       "      <td>0</td>\n",
       "    </tr>\n",
       "    <tr>\n",
       "      <th>1479</th>\n",
       "      <td>200_MIDDLE</td>\n",
       "      <td>396.827724</td>\n",
       "      <td>0.204201</td>\n",
       "      <td>0.180397</td>\n",
       "      <td>0.218430</td>\n",
       "      <td>0.740429</td>\n",
       "      <td>4976.270966</td>\n",
       "      <td>877.533325</td>\n",
       "      <td>6.087898</td>\n",
       "      <td>28.732977</td>\n",
       "      <td>...</td>\n",
       "      <td>4.00</td>\n",
       "      <td>3.2000</td>\n",
       "      <td>0.625</td>\n",
       "      <td>600</td>\n",
       "      <td>0.50</td>\n",
       "      <td>82</td>\n",
       "      <td>3206970221</td>\n",
       "      <td>10</td>\n",
       "      <td>3206970221</td>\n",
       "      <td>0</td>\n",
       "    </tr>\n",
       "  </tbody>\n",
       "</table>\n",
       "<p>1480 rows × 24 columns</p>\n",
       "</div>"
      ]
     },
     "metadata": {},
     "output_type": "display_data"
    }
   ],
   "source": [
    "all_stats_matchs_pd"
   ]
  },
  {
   "cell_type": "code",
   "execution_count": 75,
   "metadata": {
    "cell_status": {
     "execute_time": {
      "duration": 32.129150390625,
      "end_time": 1574390179635.809
     }
    }
   },
   "outputs": [
    {
     "data": {
      "text/html": [
       "<style scoped>\n",
       "  .ansiout {\n",
       "    display: block;\n",
       "    unicode-bidi: embed;\n",
       "    white-space: pre-wrap;\n",
       "    word-wrap: break-word;\n",
       "    word-break: break-all;\n",
       "    font-family: \"Source Code Pro\", \"Menlo\", monospace;;\n",
       "    font-size: 13px;\n",
       "    color: #555;\n",
       "    margin-left: 4px;\n",
       "    line-height: 19px;\n",
       "  }\n",
       "</style>\n",
       "<div class=\"ansiout\"></div>"
      ]
     },
     "metadata": {},
     "output_type": "display_data"
    }
   ],
   "source": [
    "all_stats_matchs_pd = all_stats_matchs_pd.drop(['id','number_of_players'],axis=1)"
   ]
  },
  {
   "cell_type": "code",
   "execution_count": 76,
   "metadata": {
    "cell_status": {
     "execute_time": {
      "duration": 24.791015625,
      "end_time": 1574390204813.065
     }
    }
   },
   "outputs": [
    {
     "data": {
      "text/html": [
       "<style scoped>\n",
       "  .ansiout {\n",
       "    display: block;\n",
       "    unicode-bidi: embed;\n",
       "    white-space: pre-wrap;\n",
       "    word-wrap: break-word;\n",
       "    word-break: break-all;\n",
       "    font-family: \"Source Code Pro\", \"Menlo\", monospace;;\n",
       "    font-size: 13px;\n",
       "    color: #555;\n",
       "    margin-left: 4px;\n",
       "    line-height: 19px;\n",
       "  }\n",
       "</style>\n",
       "<div class=\"ansiout\"></div>"
      ]
     },
     "metadata": {},
     "output_type": "display_data"
    }
   ],
   "source": [
    "matchs_group = all_stats_matchs_pd.groupby(\"match_id\").groups"
   ]
  },
  {
   "cell_type": "code",
   "execution_count": 77,
   "metadata": {
    "cell_status": {
     "execute_time": {
      "duration": 35.27392578125,
      "end_time": 1574390211028.258
     }
    }
   },
   "outputs": [
    {
     "data": {
      "text/html": [
       "<style scoped>\n",
       "  .ansiout {\n",
       "    display: block;\n",
       "    unicode-bidi: embed;\n",
       "    white-space: pre-wrap;\n",
       "    word-wrap: break-word;\n",
       "    word-break: break-all;\n",
       "    font-family: \"Source Code Pro\", \"Menlo\", monospace;;\n",
       "    font-size: 13px;\n",
       "    color: #555;\n",
       "    margin-left: 4px;\n",
       "    line-height: 19px;\n",
       "  }\n",
       "</style>\n",
       "<div class=\"ansiout\">there are 148 legit matches for final matrix\n",
       "</div>"
      ]
     },
     "metadata": {},
     "output_type": "display_data"
    }
   ],
   "source": [
    "print(\"there are {} legit matches for final matrix\".format(len(matchs_group)))"
   ]
  },
  {
   "cell_type": "code",
   "execution_count": 78,
   "metadata": {
    "cell_status": {
     "execute_time": {
      "duration": 27.56494140625,
      "end_time": 1574390213720.734
     }
    }
   },
   "outputs": [
    {
     "data": {
      "text/html": [
       "<style scoped>\n",
       "  .ansiout {\n",
       "    display: block;\n",
       "    unicode-bidi: embed;\n",
       "    white-space: pre-wrap;\n",
       "    word-wrap: break-word;\n",
       "    word-break: break-all;\n",
       "    font-family: \"Source Code Pro\", \"Menlo\", monospace;;\n",
       "    font-size: 13px;\n",
       "    color: #555;\n",
       "    margin-left: 4px;\n",
       "    line-height: 19px;\n",
       "  }\n",
       "</style>\n",
       "<div class=\"ansiout\"></div>"
      ]
     },
     "metadata": {},
     "output_type": "display_data"
    }
   ],
   "source": [
    "one_match = all_stats_matchs_pd.iloc[matchs_group['3207612018']]"
   ]
  },
  {
   "cell_type": "code",
   "execution_count": 79,
   "metadata": {
    "cell_status": {
     "execute_time": {
      "duration": 41.33203125,
      "end_time": 1574391179380.661
     }
    }
   },
   "outputs": [
    {
     "data": {
      "text/html": [
       "<style scoped>\n",
       "  .ansiout {\n",
       "    display: block;\n",
       "    unicode-bidi: embed;\n",
       "    white-space: pre-wrap;\n",
       "    word-wrap: break-word;\n",
       "    word-break: break-all;\n",
       "    font-family: \"Source Code Pro\", \"Menlo\", monospace;;\n",
       "    font-size: 13px;\n",
       "    color: #555;\n",
       "    margin-left: 4px;\n",
       "    line-height: 19px;\n",
       "  }\n",
       "</style>\n",
       "<div class=\"ansiout\"><span class=\"ansired\">Out[</span><span class=\"ansired\">204</span><span class=\"ansired\">]: </span>[&apos;final_role&apos;,\n",
       " &apos;avg(gold_earned)&apos;,\n",
       " &apos;avg(kills)&apos;,\n",
       " &apos;avg(deaths)&apos;,\n",
       " &apos;avg(assists)&apos;,\n",
       " &apos;avg(visionScore)&apos;,\n",
       " &apos;avg(totalDamageDealt)&apos;,\n",
       " &apos;avg(totalDamageTaken)&apos;,\n",
       " &apos;avg(totalMinionsKilled)&apos;,\n",
       " &apos;avg(totalTimeCrowdControlDealt)&apos;,\n",
       " &apos;summonerID&apos;,\n",
       " &apos;championId&apos;,\n",
       " &apos;points&apos;,\n",
       " &apos;name&apos;,\n",
       " &apos;armorperlevel&apos;,\n",
       " &apos;attackdamageperlevel&apos;,\n",
       " &apos;attackspeed&apos;,\n",
       " &apos;attackrange&apos;,\n",
       " &apos;spellblockperlevel&apos;,\n",
       " &apos;hpperlevel&apos;,\n",
       " &apos;match_id&apos;,\n",
       " &apos;label&apos;]</div>"
      ]
     },
     "metadata": {},
     "output_type": "display_data"
    }
   ],
   "source": [
    "feat_list = list(one_match.columns) #list of features\n",
    "feat_list "
   ]
  },
  {
   "cell_type": "code",
   "execution_count": 80,
   "metadata": {
    "cell_status": {
     "execute_time": {
      "duration": 241.821044921875,
      "end_time": 1574391343120.684
     }
    }
   },
   "outputs": [
    {
     "data": {
      "text/html": [
       "<style scoped>\n",
       "  .ansiout {\n",
       "    display: block;\n",
       "    unicode-bidi: embed;\n",
       "    white-space: pre-wrap;\n",
       "    word-wrap: break-word;\n",
       "    word-break: break-all;\n",
       "    font-family: \"Source Code Pro\", \"Menlo\", monospace;;\n",
       "    font-size: 13px;\n",
       "    color: #555;\n",
       "    margin-left: 4px;\n",
       "    line-height: 19px;\n",
       "  }\n",
       "</style>\n",
       "<div class=\"ansiout\"></div>"
      ]
     },
     "metadata": {},
     "output_type": "display_data"
    }
   ],
   "source": [
    "features_matrix_list = []\n",
    "for group_key in matchs_group.keys():\n",
    "    one_match = all_stats_matchs_pd.iloc[matchs_group[group_key]]\n",
    "    feat_count = 2\n",
    "    match_dict = {} #create a dict for 1 match \n",
    "    match_dict['label'] = int(one_match.iloc[0]['label'])\n",
    "    match_dict['match_id'] = str(one_match.iloc[0]['match_id'])\n",
    "    for user in one_match.iterrows():\n",
    "        player = user[1]\n",
    "        role = player['final_role']\n",
    "        processed = ['final_role','label','match_id']\n",
    "        string_feat = ['summonerID','championId','name']\n",
    "        int_feat = ['label']\n",
    "        for feat in feat_list:\n",
    "            if feat not in processed:\n",
    "                if feat in string_feat:\n",
    "                    val = str(player[feat])\n",
    "                else:\n",
    "                    val = float(player[feat])\n",
    "                match_dict[\"{}_{}\".format(role,feat)] = val\n",
    "                feat_count += 1\n",
    "            \n",
    "    if len(match_dict) == 192:\n",
    "        features_matrix_list.append(match_dict)"
   ]
  },
  {
   "cell_type": "code",
   "execution_count": 81,
   "metadata": {
    "cell_status": {
     "execute_time": {
      "duration": 36.39697265625,
      "end_time": 1574391344086.773
     }
    }
   },
   "outputs": [
    {
     "data": {
      "text/html": [
       "<style scoped>\n",
       "  .ansiout {\n",
       "    display: block;\n",
       "    unicode-bidi: embed;\n",
       "    white-space: pre-wrap;\n",
       "    word-wrap: break-word;\n",
       "    word-break: break-all;\n",
       "    font-family: \"Source Code Pro\", \"Menlo\", monospace;;\n",
       "    font-size: 13px;\n",
       "    color: #555;\n",
       "    margin-left: 4px;\n",
       "    line-height: 19px;\n",
       "  }\n",
       "</style>\n",
       "<div class=\"ansiout\">after cleaning data, we have 87 matches left\n",
       "</div>"
      ]
     },
     "metadata": {},
     "output_type": "display_data"
    }
   ],
   "source": [
    "print(\"after cleaning data, we have {} matches left\".format(len(features_matrix_list)))"
   ]
  },
  {
   "cell_type": "markdown",
   "metadata": {},
   "source": [
    "# Final feature matrix"
   ]
  },
  {
   "cell_type": "code",
   "execution_count": 83,
   "metadata": {
    "cell_status": {
     "execute_time": {
      "duration": 744.243896484375,
      "end_time": 1574391420127.442
     }
    }
   },
   "outputs": [
    {
     "data": {
      "text/html": [
       "<style scoped>\n",
       "  .ansiout {\n",
       "    display: block;\n",
       "    unicode-bidi: embed;\n",
       "    white-space: pre-wrap;\n",
       "    word-wrap: break-word;\n",
       "    word-break: break-all;\n",
       "    font-family: \"Source Code Pro\", \"Menlo\", monospace;;\n",
       "    font-size: 13px;\n",
       "    color: #555;\n",
       "    margin-left: 4px;\n",
       "    line-height: 19px;\n",
       "  }\n",
       "</style>\n",
       "<div class=\"ansiout\"></div>"
      ]
     },
     "metadata": {},
     "output_type": "display_data"
    }
   ],
   "source": [
    "myJson = sc.parallelize(features_matrix_list)\n",
    "features_matrix = sqlContext.read.json(myJson) #change list of dict to pyspark dataframe"
   ]
  },
  {
   "cell_type": "code",
   "execution_count": 84,
   "metadata": {
    "cell_status": {
     "execute_time": {
      "duration": 740.2041015625,
      "end_time": 1574391461271.937
     }
    }
   },
   "outputs": [
    {
     "data": {
      "text/html": [
       "<style scoped>\n",
       "  .ansiout {\n",
       "    display: block;\n",
       "    unicode-bidi: embed;\n",
       "    white-space: pre-wrap;\n",
       "    word-wrap: break-word;\n",
       "    word-break: break-all;\n",
       "    font-family: \"Source Code Pro\", \"Menlo\", monospace;;\n",
       "    font-size: 13px;\n",
       "    color: #555;\n",
       "    margin-left: 4px;\n",
       "    line-height: 19px;\n",
       "  }\n",
       "</style>\n",
       "<div class=\"ansiout\"><span class=\"ansired\">Out[</span><span class=\"ansired\">208</span><span class=\"ansired\">]: </span>87</div>"
      ]
     },
     "metadata": {},
     "output_type": "display_data"
    }
   ],
   "source": [
    "features_matrix.count()"
   ]
  },
  {
   "cell_type": "markdown",
   "metadata": {},
   "source": [
    "## save feature matrix to CosmosDB"
   ]
  },
  {
   "cell_type": "code",
   "execution_count": 86,
   "metadata": {
    "cell_status": {
     "execute_time": {
      "duration": 5268.22802734375,
      "end_time": 1574391886610.847
     }
    },
    "collapsed": true
   },
   "outputs": [
    {
     "data": {
      "text/html": [
       "<style scoped>\n",
       "  .ansiout {\n",
       "    display: block;\n",
       "    unicode-bidi: embed;\n",
       "    white-space: pre-wrap;\n",
       "    word-wrap: break-word;\n",
       "    word-break: break-all;\n",
       "    font-family: \"Source Code Pro\", \"Menlo\", monospace;;\n",
       "    font-size: 13px;\n",
       "    color: #555;\n",
       "    margin-left: 4px;\n",
       "    line-height: 19px;\n",
       "  }\n",
       "</style>\n",
       "<div class=\"ansiout\"></div>"
      ]
     },
     "metadata": {},
     "output_type": "display_data"
    }
   ],
   "source": [
    "writeConfig = {\n",
    "    \"Endpoint\": \"https://lolpredict.documents.azure.com:443/\",\n",
    "    \"Masterkey\": \"lAb4WLi89cpXb7jGeMlLZtXUqvlGJip9NtKxDZMWHKUf0wasuAFknSgTxX3M7RAlK2uyFZjau7AJethdaBRDWw==\",\n",
    "    \"Database\": \"league_extraction\",\n",
    "    \"Collection\": \"league_matrix_2\",\n",
    "    \"Upsert\": \"true\"\n",
    "}\n",
    "\n",
    "# Write to Cosmos DB from the flights DataFrame\n",
    "features_matrix.write.format(\"com.microsoft.azure.cosmosdb.spark\").options(\n",
    "    **writeConfig).save()"
   ]
  },
  {
   "cell_type": "code",
   "execution_count": 87,
   "metadata": {
    "collapsed": true
   },
   "outputs": [],
   "source": []
  }
 ],
 "metadata": {
  "kernelspec": {
   "display_name": "PySpark",
   "language": "",
   "name": "pysparkkernel"
  },
  "language_info": {
   "codemirror_mode": {
    "name": "python",
    "version": 2
   },
   "mimetype": "text/x-python",
   "name": "pyspark",
   "pygments_lexer": "python2"
  },
  "name": "Create_Stats_Table",
  "notebookId": 3616573002183764,
  "toc": {
   "base_numbering": 1,
   "nav_menu": {},
   "number_sections": true,
   "sideBar": true,
   "skip_h1_title": false,
   "title_cell": "Table of Contents",
   "title_sidebar": "Contents",
   "toc_cell": false,
   "toc_position": {},
   "toc_section_display": true,
   "toc_window_display": false
  }
 },
 "nbformat": 4,
 "nbformat_minor": 1
}
