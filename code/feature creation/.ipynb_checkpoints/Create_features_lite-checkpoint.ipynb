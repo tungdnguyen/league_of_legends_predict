{
 "cells": [
  {
   "cell_type": "markdown",
   "metadata": {},
   "source": [
    "# Get data from cosmos db containers"
   ]
  },
  {
   "cell_type": "code",
   "execution_count": 2,
   "metadata": {
    "cell_status": {
     "execute_time": {
      "duration": 7499.56201171875,
      "end_time": 1574385063998.297
     }
    }
   },
   "outputs": [
    {
     "data": {
      "text/html": [
       "<style scoped>\n",
       "  .ansiout {\n",
       "    display: block;\n",
       "    unicode-bidi: embed;\n",
       "    white-space: pre-wrap;\n",
       "    word-wrap: break-word;\n",
       "    word-break: break-all;\n",
       "    font-family: \"Source Code Pro\", \"Menlo\", monospace;;\n",
       "    font-size: 13px;\n",
       "    color: #555;\n",
       "    margin-left: 4px;\n",
       "    line-height: 19px;\n",
       "  }\n",
       "</style>\n",
       "<div class=\"ansiout\"></div>"
      ]
     },
     "metadata": {},
     "output_type": "display_data"
    }
   ],
   "source": [
    "# Champion Container\n",
    "readConfig = {\n",
    "\"Endpoint\" : \"https://lolpredict.documents.azure.com:443/\",\n",
    "\"Masterkey\" : \"lAb4WLi89cpXb7jGeMlLZtXUqvlGJip9NtKxDZMWHKUf0wasuAFknSgTxX3M7RAlK2uyFZjau7AJethdaBRDWw==\",\n",
    "\"Database\" : \"league_all_data\",\n",
    "\"Collection\" : \"champions\", \n",
    "}\n",
    "champ = spark.read.format(\"com.microsoft.azure.cosmosdb.spark\").options(**readConfig).load()"
   ]
  },
  {
   "cell_type": "code",
   "execution_count": 3,
   "metadata": {
    "cell_status": {
     "execute_time": {
      "duration": 11317.2041015625,
      "end_time": 1574385075327.125
     }
    },
    "collapsed": true
   },
   "outputs": [
    {
     "data": {
      "text/html": [
       "<style scoped>\n",
       "  .ansiout {\n",
       "    display: block;\n",
       "    unicode-bidi: embed;\n",
       "    white-space: pre-wrap;\n",
       "    word-wrap: break-word;\n",
       "    word-break: break-all;\n",
       "    font-family: \"Source Code Pro\", \"Menlo\", monospace;;\n",
       "    font-size: 13px;\n",
       "    color: #555;\n",
       "    margin-left: 4px;\n",
       "    line-height: 19px;\n",
       "  }\n",
       "</style>\n",
       "<div class=\"ansiout\"></div>"
      ]
     },
     "metadata": {},
     "output_type": "display_data"
    }
   ],
   "source": [
    "# match container\n",
    "matchConfig = {\n",
    "\"Endpoint\" : \"https://lolpredict.documents.azure.com:443/\",\n",
    "\"Masterkey\" : \"lAb4WLi89cpXb7jGeMlLZtXUqvlGJip9NtKxDZMWHKUf0wasuAFknSgTxX3M7RAlK2uyFZjau7AJethdaBRDWw==\",\n",
    "\"Database\" : \"league_all_data\",\n",
    "\"Collection\" : \"matches_final\", \n",
    "}\n",
    "\n",
    "match = spark.read.format(\"com.microsoft.azure.cosmosdb.spark\").options(**matchConfig).load()"
   ]
  },
  {
   "cell_type": "code",
   "execution_count": 4,
   "metadata": {
    "cell_status": {
     "execute_time": {
      "duration": 3279.31201171875,
      "end_time": 1574385078618.012
     }
    },
    "collapsed": true
   },
   "outputs": [
    {
     "data": {
      "text/html": [
       "<style scoped>\n",
       "  .ansiout {\n",
       "    display: block;\n",
       "    unicode-bidi: embed;\n",
       "    white-space: pre-wrap;\n",
       "    word-wrap: break-word;\n",
       "    word-break: break-all;\n",
       "    font-family: \"Source Code Pro\", \"Menlo\", monospace;;\n",
       "    font-size: 13px;\n",
       "    color: #555;\n",
       "    margin-left: 4px;\n",
       "    line-height: 19px;\n",
       "  }\n",
       "</style>\n",
       "<div class=\"ansiout\"></div>"
      ]
     },
     "metadata": {},
     "output_type": "display_data"
    }
   ],
   "source": [
    "#match filter\n",
    "match.createOrReplaceTempView(\"table1\")\n",
    "srmatch=spark.sql(\"SELECT * from table1 where stats.gameMode='CLASSIC' and stats.gameDuration>420\") #filtered match table"
   ]
  },
  {
   "cell_type": "code",
   "execution_count": 5,
   "metadata": {
    "cell_status": {
     "execute_time": {
      "duration": 1266.93505859375,
      "end_time": 1574385079894.92
     }
    },
    "collapsed": true
   },
   "outputs": [
    {
     "data": {
      "text/html": [
       "<style scoped>\n",
       "  .ansiout {\n",
       "    display: block;\n",
       "    unicode-bidi: embed;\n",
       "    white-space: pre-wrap;\n",
       "    word-wrap: break-word;\n",
       "    word-break: break-all;\n",
       "    font-family: \"Source Code Pro\", \"Menlo\", monospace;;\n",
       "    font-size: 13px;\n",
       "    color: #555;\n",
       "    margin-left: 4px;\n",
       "    line-height: 19px;\n",
       "  }\n",
       "</style>\n",
       "<div class=\"ansiout\"></div>"
      ]
     },
     "metadata": {},
     "output_type": "display_data"
    }
   ],
   "source": [
    "#player container\n",
    "playConfig = {\n",
    "\"Endpoint\" : \"https://lolpredict.documents.azure.com:443/\",\n",
    "\"Masterkey\" : \"lAb4WLi89cpXb7jGeMlLZtXUqvlGJip9NtKxDZMWHKUf0wasuAFknSgTxX3M7RAlK2uyFZjau7AJethdaBRDWw==\",\n",
    "\"Database\" : \"league_all_data\",\n",
    "\"Collection\" : \"players_final\", \n",
    "}\n",
    "\n",
    "play = spark.read.format(\"com.microsoft.azure.cosmosdb.spark\").options(**playConfig).load()"
   ]
  },
  {
   "cell_type": "code",
   "execution_count": 6,
   "metadata": {
    "cell_status": {
     "execute_time": {
      "duration": 5276.366943359375,
      "end_time": 1574385085181.386
     }
    }
   },
   "outputs": [
    {
     "data": {
      "text/html": [
       "<style scoped>\n",
       "  .ansiout {\n",
       "    display: block;\n",
       "    unicode-bidi: embed;\n",
       "    white-space: pre-wrap;\n",
       "    word-wrap: break-word;\n",
       "    word-break: break-all;\n",
       "    font-family: \"Source Code Pro\", \"Menlo\", monospace;;\n",
       "    font-size: 13px;\n",
       "    color: #555;\n",
       "    margin-left: 4px;\n",
       "    line-height: 19px;\n",
       "  }\n",
       "</style>\n",
       "<div class=\"ansiout\"></div>"
      ]
     },
     "metadata": {},
     "output_type": "display_data"
    }
   ],
   "source": [
    "#player filtering/transforming\n",
    "import pyspark.sql.functions as f\n",
    "play.createOrReplaceTempView(\"table2\")\n",
    "play2=spark.sql(\"SELECT mastery, id from table2\")\n",
    "# play2 = play2.limit(1650)"
   ]
  },
  {
   "cell_type": "markdown",
   "metadata": {},
   "source": [
    "# Champion Table"
   ]
  },
  {
   "cell_type": "code",
   "execution_count": 8,
   "metadata": {
    "cell_status": {
     "execute_time": {
      "duration": 1260.465087890625,
      "end_time": 1574385094049.188
     }
    },
    "scrolled": true
   },
   "outputs": [
    {
     "data": {
      "text/html": [
       "<style scoped>\n",
       "  .ansiout {\n",
       "    display: block;\n",
       "    unicode-bidi: embed;\n",
       "    white-space: pre-wrap;\n",
       "    word-wrap: break-word;\n",
       "    word-break: break-all;\n",
       "    font-family: \"Source Code Pro\", \"Menlo\", monospace;;\n",
       "    font-size: 13px;\n",
       "    color: #555;\n",
       "    margin-left: 4px;\n",
       "    line-height: 19px;\n",
       "  }\n",
       "</style>\n",
       "<div class=\"ansiout\"><span class=\"ansired\">Out[</span><span class=\"ansired\">6</span><span class=\"ansired\">]: </span>146</div>"
      ]
     },
     "metadata": {},
     "output_type": "display_data"
    }
   ],
   "source": [
    "champ.createOrReplaceTempView(\"table3\")\n",
    "champ2=spark.sql(\"SELECT id, name, stats.armorperlevel, stats.attackdamageperlevel, stats.attackspeed, stats.attackrange, stats.spellblockperlevel, stats.hpperlevel FROM table3\")\n",
    "champ2.count()"
   ]
  },
  {
   "cell_type": "code",
   "execution_count": 10,
   "metadata": {
    "cell_status": {
     "execute_time": {
      "duration": 3263.43408203125,
      "end_time": 1574385097322.766
     }
    }
   },
   "outputs": [
    {
     "data": {
      "text/html": [
       "<style scoped>\n",
       "  .ansiout {\n",
       "    display: block;\n",
       "    unicode-bidi: embed;\n",
       "    white-space: pre-wrap;\n",
       "    word-wrap: break-word;\n",
       "    word-break: break-all;\n",
       "    font-family: \"Source Code Pro\", \"Menlo\", monospace;;\n",
       "    font-size: 13px;\n",
       "    color: #555;\n",
       "    margin-left: 4px;\n",
       "    line-height: 19px;\n",
       "  }\n",
       "</style>\n",
       "<div class=\"ansiout\"></div>"
      ]
     },
     "metadata": {},
     "output_type": "display_data"
    }
   ],
   "source": [
    "mast_champ_join = champ2"
   ]
  },
  {
   "cell_type": "markdown",
   "metadata": {},
   "source": [
    "# Get label vector"
   ]
  },
  {
   "cell_type": "code",
   "execution_count": 12,
   "metadata": {
    "cell_status": {
     "execute_time": {
      "duration": 251.52587890625,
      "end_time": 1574387575970.745
     }
    }
   },
   "outputs": [
    {
     "data": {
      "text/html": [
       "<style scoped>\n",
       "  .ansiout {\n",
       "    display: block;\n",
       "    unicode-bidi: embed;\n",
       "    white-space: pre-wrap;\n",
       "    word-wrap: break-word;\n",
       "    word-break: break-all;\n",
       "    font-family: \"Source Code Pro\", \"Menlo\", monospace;;\n",
       "    font-size: 13px;\n",
       "    color: #555;\n",
       "    margin-left: 4px;\n",
       "    line-height: 19px;\n",
       "  }\n",
       "</style>\n",
       "<div class=\"ansiout\"></div>"
      ]
     },
     "metadata": {},
     "output_type": "display_data"
    }
   ],
   "source": [
    "import pyspark\n",
    "label2 = srmatch.select(pyspark.sql.functions.col('id'),\n",
    "                       pyspark.sql.functions.col('stats.teams.teamId').alias('teamId'),\n",
    "                       pyspark.sql.functions.col('stats.teams.win').alias('win'))"
   ]
  },
  {
   "cell_type": "code",
   "execution_count": 13,
   "metadata": {
    "cell_status": {
     "execute_time": {
      "duration": 17336.281005859375,
      "end_time": 1574387593989.781
     }
    }
   },
   "outputs": [
    {
     "data": {
      "text/html": [
       "<style scoped>\n",
       "  .ansiout {\n",
       "    display: block;\n",
       "    unicode-bidi: embed;\n",
       "    white-space: pre-wrap;\n",
       "    word-wrap: break-word;\n",
       "    word-break: break-all;\n",
       "    font-family: \"Source Code Pro\", \"Menlo\", monospace;;\n",
       "    font-size: 13px;\n",
       "    color: #555;\n",
       "    margin-left: 4px;\n",
       "    line-height: 19px;\n",
       "  }\n",
       "</style>\n",
       "<div class=\"ansiout\">+----------+----------+-----------+-----+\n",
       "        id|    teamId|        win|label|\n",
       "+----------+----------+-----------+-----+\n",
       "3207597356|[100, 200]|[Fail, Win]|    0|\n",
       "3207612018|[100, 200]|[Fail, Win]|    0|\n",
       "3206625787|[100, 200]|[Fail, Win]|    0|\n",
       "3206567503|[100, 200]|[Win, Fail]|    1|\n",
       "3204655759|[100, 200]|[Fail, Win]|    0|\n",
       "3204671034|[100, 200]|[Win, Fail]|    1|\n",
       "3204607354|[100, 200]|[Fail, Win]|    0|\n",
       "3204573746|[100, 200]|[Win, Fail]|    1|\n",
       "3207630921|[100, 200]|[Win, Fail]|    1|\n",
       "3207565756|[100, 200]|[Fail, Win]|    0|\n",
       "+----------+----------+-----------+-----+\n",
       "only showing top 10 rows\n",
       "\n",
       "</div>"
      ]
     },
     "metadata": {},
     "output_type": "display_data"
    }
   ],
   "source": [
    "from pyspark.sql.types import IntegerType, ArrayType\n",
    "from pyspark.sql.functions import udf\n",
    "def create_label(row):\n",
    "    if row[0]=='Win':\n",
    "        return 1\n",
    "    return 0\n",
    "label_udf = udf(create_label, IntegerType())\n",
    "label2 = label2.withColumn('label', label_udf(label2.win))\n",
    "label2.show(10)"
   ]
  },
  {
   "cell_type": "code",
   "execution_count": 14,
   "metadata": {
    "cell_status": {
     "execute_time": {
      "duration": 17317.4189453125,
      "end_time": 1574387611317.769
     }
    }
   },
   "outputs": [
    {
     "data": {
      "text/html": [
       "<style scoped>\n",
       "  .ansiout {\n",
       "    display: block;\n",
       "    unicode-bidi: embed;\n",
       "    white-space: pre-wrap;\n",
       "    word-wrap: break-word;\n",
       "    word-break: break-all;\n",
       "    font-family: \"Source Code Pro\", \"Menlo\", monospace;;\n",
       "    font-size: 13px;\n",
       "    color: #555;\n",
       "    margin-left: 4px;\n",
       "    line-height: 19px;\n",
       "  }\n",
       "</style>\n",
       "<div class=\"ansiout\">+----------+-----+\n",
       "        id|label|\n",
       "+----------+-----+\n",
       "3207597356|    0|\n",
       "3207612018|    0|\n",
       "+----------+-----+\n",
       "only showing top 2 rows\n",
       "\n",
       "</div>"
      ]
     },
     "metadata": {},
     "output_type": "display_data"
    }
   ],
   "source": [
    "label_col = label2.drop('teamId','win')\n",
    "label_col.show(2)"
   ]
  },
  {
   "cell_type": "markdown",
   "metadata": {},
   "source": [
    "## Create stats table"
   ]
  },
  {
   "cell_type": "markdown",
   "metadata": {},
   "source": [
    "### Exploded match table"
   ]
  },
  {
   "cell_type": "code",
   "execution_count": 19,
   "metadata": {
    "cell_status": {
     "execute_time": {
      "duration": 1256.703857421875,
      "end_time": 1574385099030.195
     }
    }
   },
   "outputs": [
    {
     "data": {
      "text/html": [
       "<style scoped>\n",
       "  .ansiout {\n",
       "    display: block;\n",
       "    unicode-bidi: embed;\n",
       "    white-space: pre-wrap;\n",
       "    word-wrap: break-word;\n",
       "    word-break: break-all;\n",
       "    font-family: \"Source Code Pro\", \"Menlo\", monospace;;\n",
       "    font-size: 13px;\n",
       "    color: #555;\n",
       "    margin-left: 4px;\n",
       "    line-height: 19px;\n",
       "  }\n",
       "</style>\n",
       "<div class=\"ansiout\">+--------------------+--------------------+----------+\n",
       "                  id|             matches|   matchId|\n",
       "+--------------------+--------------------+----------+\n",
       "EuXHkripW2Qav3H2l...|[3207690957, 3207...|3207690957|\n",
       "EuXHkripW2Qav3H2l...|[3207690957, 3207...|3207597356|\n",
       "EuXHkripW2Qav3H2l...|[3207690957, 3207...|3207612018|\n",
       "+--------------------+--------------------+----------+\n",
       "only showing top 3 rows\n",
       "\n",
       "</div>"
      ]
     },
     "metadata": {},
     "output_type": "display_data"
    }
   ],
   "source": [
    "from pyspark.sql.functions import split, explode\n",
    "\n",
    "matches_view =spark.sql(\"SELECT id, matches FROM table2\")\n",
    "match_sum_tab=matches_view.withColumn('matchId', explode('matches'))\n",
    "match_sum_tab.show(3)"
   ]
  },
  {
   "cell_type": "markdown",
   "metadata": {},
   "source": [
    "### Get stats for each match"
   ]
  },
  {
   "cell_type": "code",
   "execution_count": 21,
   "metadata": {
    "cell_status": {
     "execute_time": {
      "duration": 234.89404296875,
      "end_time": 1574385099275.465
     }
    },
    "collapsed": true
   },
   "outputs": [
    {
     "data": {
      "text/html": [
       "<style scoped>\n",
       "  .ansiout {\n",
       "    display: block;\n",
       "    unicode-bidi: embed;\n",
       "    white-space: pre-wrap;\n",
       "    word-wrap: break-word;\n",
       "    word-break: break-all;\n",
       "    font-family: \"Source Code Pro\", \"Menlo\", monospace;;\n",
       "    font-size: 13px;\n",
       "    color: #555;\n",
       "    margin-left: 4px;\n",
       "    line-height: 19px;\n",
       "  }\n",
       "</style>\n",
       "<div class=\"ansiout\"></div>"
      ]
     },
     "metadata": {},
     "output_type": "display_data"
    }
   ],
   "source": [
    "import numpy as np"
   ]
  },
  {
   "cell_type": "code",
   "execution_count": 22,
   "metadata": {
    "cell_status": {
     "execute_time": {
      "duration": 17336.26416015625,
      "end_time": 1574385116622.092
     }
    }
   },
   "outputs": [
    {
     "data": {
      "text/html": [
       "<style scoped>\n",
       "  .ansiout {\n",
       "    display: block;\n",
       "    unicode-bidi: embed;\n",
       "    white-space: pre-wrap;\n",
       "    word-wrap: break-word;\n",
       "    word-break: break-all;\n",
       "    font-family: \"Source Code Pro\", \"Menlo\", monospace;;\n",
       "    font-size: 13px;\n",
       "    color: #555;\n",
       "    margin-left: 4px;\n",
       "    line-height: 19px;\n",
       "  }\n",
       "</style>\n",
       "<div class=\"ansiout\"></div>"
      ]
     },
     "metadata": {},
     "output_type": "display_data"
    }
   ],
   "source": [
    "matches_ids = srmatch.select(\"id\")\n",
    "matchIds_list = np.array(matches_ids.collect())\n",
    "matchIds_list = [str(i[0]) for i in matchIds_list] #ids of all matches "
   ]
  },
  {
   "cell_type": "code",
   "execution_count": 23,
   "metadata": {
    "cell_status": {
     "execute_time": {
      "duration": 19329.243896484375,
      "end_time": 1574385135969.684
     }
    },
    "collapsed": true
   },
   "outputs": [
    {
     "data": {
      "text/html": [
       "<style scoped>\n",
       "  .ansiout {\n",
       "    display: block;\n",
       "    unicode-bidi: embed;\n",
       "    white-space: pre-wrap;\n",
       "    word-wrap: break-word;\n",
       "    word-break: break-all;\n",
       "    font-family: \"Source Code Pro\", \"Menlo\", monospace;;\n",
       "    font-size: 13px;\n",
       "    color: #555;\n",
       "    margin-left: 4px;\n",
       "    line-height: 19px;\n",
       "  }\n",
       "</style>\n",
       "<div class=\"ansiout\"></div>"
      ]
     },
     "metadata": {},
     "output_type": "display_data"
    }
   ],
   "source": [
    "matchDur =  srmatch.select(\"stats.gameDuration\")\n",
    "matchDur_list = np.array(matchDur.collect())\n",
    "matchDur_list = [float(i[0])/60 for i in matchDur_list] #game length for all matches in minutes "
   ]
  },
  {
   "cell_type": "code",
   "execution_count": 24,
   "metadata": {
    "cell_status": {
     "execute_time": {
      "duration": 17326.962158203125,
      "end_time": 1574385153308.054
     }
    }
   },
   "outputs": [
    {
     "data": {
      "text/html": [
       "<style scoped>\n",
       "  .ansiout {\n",
       "    display: block;\n",
       "    unicode-bidi: embed;\n",
       "    white-space: pre-wrap;\n",
       "    word-wrap: break-word;\n",
       "    word-break: break-all;\n",
       "    font-family: \"Source Code Pro\", \"Menlo\", monospace;;\n",
       "    font-size: 13px;\n",
       "    color: #555;\n",
       "    margin-left: 4px;\n",
       "    line-height: 19px;\n",
       "  }\n",
       "</style>\n",
       "<div class=\"ansiout\"></div>"
      ]
     },
     "metadata": {},
     "output_type": "display_data"
    }
   ],
   "source": [
    "all_matches_stats = srmatch.select(\n",
    "    'stats.participantIdentities.player.summonerId',\n",
    "                     'stats.participants.championId',\n",
    "                     'stats.participants.timeline.lane',\n",
    "                     'stats.participants.timeline.role',\n",
    "                    'stats.participants.teamId',\n",
    "                    'stats.participants.stats.goldEarned',\n",
    "                    'stats.participants.stats.kills',\n",
    "                    'stats.participants.stats.assists',\n",
    "                    'stats.participants.stats.deaths',\n",
    "                    'stats.participants.stats.visionScore',\n",
    "                    'stats.participants.stats.totalDamageDealt',\n",
    "                    'stats.participants.stats.totalDamageTaken',\n",
    "                    'stats.participants.stats.totalMinionsKilled',\n",
    "                    'stats.participants.stats.totalTimeCrowdControlDealt')\n",
    "\n",
    "#stats of all matches\n",
    "stats_np = np.array(all_matches_stats.collect())"
   ]
  },
  {
   "cell_type": "code",
   "execution_count": 25,
   "metadata": {
    "cell_status": {
     "execute_time": {
      "duration": 237.200927734375,
      "end_time": 1574385153556.216
     }
    }
   },
   "outputs": [
    {
     "data": {
      "text/html": [
       "<style scoped>\n",
       "  .ansiout {\n",
       "    display: block;\n",
       "    unicode-bidi: embed;\n",
       "    white-space: pre-wrap;\n",
       "    word-wrap: break-word;\n",
       "    word-break: break-all;\n",
       "    font-family: \"Source Code Pro\", \"Menlo\", monospace;;\n",
       "    font-size: 13px;\n",
       "    color: #555;\n",
       "    margin-left: 4px;\n",
       "    line-height: 19px;\n",
       "  }\n",
       "</style>\n",
       "<div class=\"ansiout\"></div>"
      ]
     },
     "metadata": {},
     "output_type": "display_data"
    }
   ],
   "source": [
    "all_match_dict = []\n",
    "for match,stats,game_length in zip(matchIds_list,stats_np,matchDur_list):\n",
    "    #combine match stats with stats id to create a new dataframe\n",
    "    match_dict = {}\n",
    "    match_dict['match_id']= match\n",
    "    match_dict['match_length'] = game_length\n",
    "    summonerIds = stats[:][0]\n",
    "    champions = stats[:][1]\n",
    "    lanes = stats[:][2]\n",
    "    roles = stats[:][3]\n",
    "    teamId = stats[:][4]\n",
    "    avg_stats = stats[:][5:]\n",
    "    avg_stats_dice = [list(i) for i in zip(*avg_stats)]\n",
    "    match_dict['agg_stats'] = [list(map(float,i)) for i in avg_stats_dice]\n",
    "    match_dict['lanes'] = [str(i) for i in lanes]\n",
    "    match_dict['roles'] = [str(i) for i in roles]\n",
    "    match_dict['teamId'] = [str(i) for i in teamId]\n",
    "    match_dict['summonerIds'] = [str(i) for i in summonerIds]\n",
    "    match_dict['champions'] = [str(i) for i in champions]\n",
    "    all_match_dict.append(match_dict)\n"
   ]
  },
  {
   "cell_type": "code",
   "execution_count": 26,
   "metadata": {
    "cell_status": {
     "execute_time": {
      "duration": 2257.384033203125,
      "end_time": 1574385155825.996
     }
    }
   },
   "outputs": [
    {
     "data": {
      "text/html": [
       "<style scoped>\n",
       "  .ansiout {\n",
       "    display: block;\n",
       "    unicode-bidi: embed;\n",
       "    white-space: pre-wrap;\n",
       "    word-wrap: break-word;\n",
       "    word-break: break-all;\n",
       "    font-family: \"Source Code Pro\", \"Menlo\", monospace;;\n",
       "    font-size: 13px;\n",
       "    color: #555;\n",
       "    margin-left: 4px;\n",
       "    line-height: 19px;\n",
       "  }\n",
       "</style>\n",
       "<div class=\"ansiout\">/databricks/spark/python/pyspark/sql/session.py:355: UserWarning: inferring schema from dict is deprecated,please use pyspark.sql.Row instead\n",
       "  warnings.warn(&quot;inferring schema from dict is deprecated,&quot;\n",
       "+--------------------+--------------------+--------------------+----------+------------------+--------------------+--------------------+--------------------+\n",
       "           agg_stats|           champions|               lanes|  match_id|      match_length|               roles|         summonerIds|              teamId|\n",
       "+--------------------+--------------------+--------------------+----------+------------------+--------------------+--------------------+--------------------+\n",
       "[[7864.0, 3.0, 3....|[245, 13, 114, 25...|[JUNGLE, TOP, MID...|3207597356|             22.55|[NONE, SOLO, SOLO...|[SAim3CJlYb3gTey9...|[100, 100, 100, 1...|\n",
       "[[6933.0, 1.0, 8....|[111, 145, 107, 1...|[BOTTOM, BOTTOM, ...|3207612018|27.166666666666668|[DUO_SUPPORT, DUO...|[CInmKwfaqk85iX9G...|[100, 100, 100, 1...|\n",
       "+--------------------+--------------------+--------------------+----------+------------------+--------------------+--------------------+--------------------+\n",
       "only showing top 2 rows\n",
       "\n",
       "</div>"
      ]
     },
     "metadata": {},
     "output_type": "display_data"
    }
   ],
   "source": [
    "match_sum_stats_agg_df = spark.createDataFrame(all_match_dict)\n",
    "match_sum_stats_agg_df.show(2)"
   ]
  },
  {
   "cell_type": "code",
   "execution_count": 27,
   "metadata": {
    "cell_status": {
     "execute_time": {
      "duration": 29.224853515625,
      "end_time": 1574387450813.089
     }
    }
   },
   "outputs": [
    {
     "data": {
      "text/html": [
       "<style scoped>\n",
       "  .ansiout {\n",
       "    display: block;\n",
       "    unicode-bidi: embed;\n",
       "    white-space: pre-wrap;\n",
       "    word-wrap: break-word;\n",
       "    word-break: break-all;\n",
       "    font-family: \"Source Code Pro\", \"Menlo\", monospace;;\n",
       "    font-size: 13px;\n",
       "    color: #555;\n",
       "    margin-left: 4px;\n",
       "    line-height: 19px;\n",
       "  }\n",
       "</style>\n",
       "<div class=\"ansiout\"></div>"
      ]
     },
     "metadata": {},
     "output_type": "display_data"
    }
   ],
   "source": [
    "from pyspark.sql.types import *\n",
    "from pyspark.sql.functions import col, udf, explode\n",
    "\n",
    "zip_ = udf(\n",
    "  lambda a,b,c,d,e,f: list(zip(a,b,c,d,e,f)),\n",
    "  ArrayType(StructType([\n",
    "      # Adjust types to reflect data types\n",
    "      StructField(\"stats\", ArrayType(DoubleType())),\n",
    "      StructField(\"champion\", StringType()),\n",
    "      StructField(\"summonerIds\", StringType()),\n",
    "    StructField(\"lane\", StringType()),\n",
    "    StructField(\"role\", StringType()),\n",
    "    StructField(\"team\", StringType()),           \n",
    "  ]))\n",
    ")"
   ]
  },
  {
   "cell_type": "code",
   "execution_count": 28,
   "metadata": {
    "cell_status": {
     "execute_time": {
      "duration": 236.713134765625,
      "end_time": 1574387451192.438
     }
    }
   },
   "outputs": [
    {
     "data": {
      "text/html": [
       "<style scoped>\n",
       "  .ansiout {\n",
       "    display: block;\n",
       "    unicode-bidi: embed;\n",
       "    white-space: pre-wrap;\n",
       "    word-wrap: break-word;\n",
       "    word-break: break-all;\n",
       "    font-family: \"Source Code Pro\", \"Menlo\", monospace;;\n",
       "    font-size: 13px;\n",
       "    color: #555;\n",
       "    margin-left: 4px;\n",
       "    line-height: 19px;\n",
       "  }\n",
       "</style>\n",
       "<div class=\"ansiout\"></div>"
      ]
     },
     "metadata": {},
     "output_type": "display_data"
    }
   ],
   "source": [
    "#explode table to create a more fine grain accessing method \n",
    "match_sum_stats_s = match_sum_stats_agg_df.withColumn(\"temp\",zip_(\"agg_stats\",\"champions\",\"summonerIds\",\"lanes\",\"roles\",\"teamId\"))\n",
    "match_sum_stats_s = match_sum_stats_s.withColumn(\"temp\", explode(\"temp\"))"
   ]
  },
  {
   "cell_type": "code",
   "execution_count": 29,
   "metadata": {
    "cell_status": {
     "execute_time": {
      "duration": 747.77392578125,
      "end_time": 1574388154592.365
     }
    }
   },
   "outputs": [
    {
     "data": {
      "text/html": [
       "<style scoped>\n",
       "  .ansiout {\n",
       "    display: block;\n",
       "    unicode-bidi: embed;\n",
       "    white-space: pre-wrap;\n",
       "    word-wrap: break-word;\n",
       "    word-break: break-all;\n",
       "    font-family: \"Source Code Pro\", \"Menlo\", monospace;;\n",
       "    font-size: 13px;\n",
       "    color: #555;\n",
       "    margin-left: 4px;\n",
       "    line-height: 19px;\n",
       "  }\n",
       "</style>\n",
       "<div class=\"ansiout\">+----------+--------------------+------------+--------------------+---------+-----------+----+------------+\n",
       "  match_id|    player_stats_inv|champion_inv|      summonerId_inv|lanes_inv|  roles_inv|team|match_length|\n",
       "+----------+--------------------+------------+--------------------+---------+-----------+----+------------+\n",
       "3207597356|[7864.0, 3.0, 3.0...|         245|SAim3CJlYb3gTey9H...|   JUNGLE|       NONE| 100|       22.55|\n",
       "3207597356|[6533.0, 2.0, 3.0...|          13|EuXHkripW2Qav3H2l...|      TOP|       SOLO| 100|       22.55|\n",
       "3207597356|[6526.0, 0.0, 0.0...|         114|FnmTWvNqTGk-2pnJ9...|   MIDDLE|       SOLO| 100|       22.55|\n",
       "3207597356|[6823.0, 4.0, 3.0...|          25|9m3TRvR-RpcGTN0We...|   BOTTOM|DUO_SUPPORT| 100|       22.55|\n",
       "3207597356|[6492.0, 1.0, 4.0...|          22|nZuXoApHlr15y9--k...|   BOTTOM|  DUO_CARRY| 100|       22.55|\n",
       "3207597356|[9405.0, 1.0, 5.0...|          74|AKrjxV60ReBpP9ZIG...|   BOTTOM|  DUO_CARRY| 200|       22.55|\n",
       "3207597356|[9522.0, 5.0, 4.0...|          38|abPiRq_oHl1pdzEzJ...|   MIDDLE|       SOLO| 200|       22.55|\n",
       "3207597356|[10890.0, 10.0, 5...|          29|ffJNX6IZF2NfHxihw...|   JUNGLE|       NONE| 200|       22.55|\n",
       "3207597356|[10164.0, 8.0, 3....|         246|14jr1KUj1dWDc5FDZ...|      TOP|       SOLO| 200|       22.55|\n",
       "3207597356|[8373.0, 2.0, 10....|         161|0MVgTen2qIhMjKj4L...|   BOTTOM|DUO_SUPPORT| 200|       22.55|\n",
       "+----------+--------------------+------------+--------------------+---------+-----------+----+------------+\n",
       "only showing top 10 rows\n",
       "\n",
       "</div>"
      ]
     },
     "metadata": {},
     "output_type": "display_data"
    }
   ],
   "source": [
    "match_sum_stats = match_sum_stats_s.select(\"match_id\",col(\"temp.stats\").alias(\"player_stats_inv\"), \n",
    "                         col(\"temp.champion\").alias(\"champion_inv\"),col(\"temp.summonerIds\").alias(\"summonerId_inv\"),\n",
    "                         col(\"temp.lane\").alias(\"lanes_inv\"),\n",
    "                         col(\"temp.role\").alias(\"roles_inv\"),\n",
    "                         col(\"temp.team\").alias(\"team\"),\"match_length\")\n",
    "match_sum_stats.show(10)"
   ]
  },
  {
   "cell_type": "markdown",
   "metadata": {},
   "source": [
    "### clean role table (merge role, lane and team)"
   ]
  },
  {
   "cell_type": "code",
   "execution_count": 31,
   "metadata": {
    "cell_status": {
     "execute_time": {
      "duration": 741.453857421875,
      "end_time": 1574388155345.973
     }
    }
   },
   "outputs": [
    {
     "data": {
      "text/html": [
       "<style scoped>\n",
       "  .ansiout {\n",
       "    display: block;\n",
       "    unicode-bidi: embed;\n",
       "    white-space: pre-wrap;\n",
       "    word-wrap: break-word;\n",
       "    word-break: break-all;\n",
       "    font-family: \"Source Code Pro\", \"Menlo\", monospace;;\n",
       "    font-size: 13px;\n",
       "    color: #555;\n",
       "    margin-left: 4px;\n",
       "    line-height: 19px;\n",
       "  }\n",
       "</style>\n",
       "<div class=\"ansiout\">+----------+--------------------+------------+--------------------+------------+-----------+\n",
       "  match_id|    player_stats_inv|champion_inv|      summonerId_inv|match_length| final_role|\n",
       "+----------+--------------------+------------+--------------------+------------+-----------+\n",
       "3207597356|[7864.0, 3.0, 3.0...|         245|SAim3CJlYb3gTey9H...|       22.55| 100_JUNGLE|\n",
       "3207597356|[6533.0, 2.0, 3.0...|          13|EuXHkripW2Qav3H2l...|       22.55|    100_TOP|\n",
       "3207597356|[6526.0, 0.0, 0.0...|         114|FnmTWvNqTGk-2pnJ9...|       22.55| 100_MIDDLE|\n",
       "3207597356|[6823.0, 4.0, 3.0...|          25|9m3TRvR-RpcGTN0We...|       22.55|100_SUPPORT|\n",
       "3207597356|[6492.0, 1.0, 4.0...|          22|nZuXoApHlr15y9--k...|       22.55|  100_CARRY|\n",
       "3207597356|[9405.0, 1.0, 5.0...|          74|AKrjxV60ReBpP9ZIG...|       22.55|  200_CARRY|\n",
       "3207597356|[9522.0, 5.0, 4.0...|          38|abPiRq_oHl1pdzEzJ...|       22.55| 200_MIDDLE|\n",
       "3207597356|[10890.0, 10.0, 5...|          29|ffJNX6IZF2NfHxihw...|       22.55| 200_JUNGLE|\n",
       "3207597356|[10164.0, 8.0, 3....|         246|14jr1KUj1dWDc5FDZ...|       22.55|    200_TOP|\n",
       "3207597356|[8373.0, 2.0, 10....|         161|0MVgTen2qIhMjKj4L...|       22.55|200_SUPPORT|\n",
       "+----------+--------------------+------------+--------------------+------------+-----------+\n",
       "only showing top 10 rows\n",
       "\n",
       "</div>"
      ]
     },
     "metadata": {},
     "output_type": "display_data"
    }
   ],
   "source": [
    "def processed_role(lane,role,team):\n",
    "    final_role =\"\"\n",
    "    if lane != \"BOTTOM\":\n",
    "        final_role = \"{}_{}\".format(team,lane)\n",
    "    else:\n",
    "        if \"SUPPORT\" in role:\n",
    "            final_role = \"{}_SUPPORT\".format(team)\n",
    "        elif \"CARRY\" in role:\n",
    "            final_role = \"{}_CARRY\".format(team)\n",
    "        else:\n",
    "            final_role = \"CANT\"\n",
    "    if \"NONE\" in final_role:\n",
    "        final_role = \"CANT\"\n",
    "    return final_role\n",
    "udf_clean_role = zip_ = udf(\n",
    "  lambda lane,role,team: processed_role(lane,role,team), StringType()\n",
    ")\n",
    "match_sum_stats = match_sum_stats.withColumn('final_role', udf_clean_role(\"lanes_inv\", \"roles_inv\",\"team\"))\n",
    "match_sum_stats = match_sum_stats.drop(\"lanes_inv\",\"roles_inv\",\"team\")\n",
    "match_sum_stats = match_sum_stats.select(\"*\").filter(match_sum_stats.final_role != \"CANT\") #remove players without clear role\n",
    "match_sum_stats.show(10)"
   ]
  },
  {
   "cell_type": "markdown",
   "metadata": {},
   "source": [
    "### normalize stats (divide by game length in minutes)"
   ]
  },
  {
   "cell_type": "code",
   "execution_count": 33,
   "metadata": {
    "cell_status": {
     "execute_time": {
      "duration": 239.10791015625,
      "end_time": 1574388156135.224
     }
    }
   },
   "outputs": [
    {
     "data": {
      "text/html": [
       "<style scoped>\n",
       "  .ansiout {\n",
       "    display: block;\n",
       "    unicode-bidi: embed;\n",
       "    white-space: pre-wrap;\n",
       "    word-wrap: break-word;\n",
       "    word-break: break-all;\n",
       "    font-family: \"Source Code Pro\", \"Menlo\", monospace;;\n",
       "    font-size: 13px;\n",
       "    color: #555;\n",
       "    margin-left: 4px;\n",
       "    line-height: 19px;\n",
       "  }\n",
       "</style>\n",
       "<div class=\"ansiout\"></div>"
      ]
     },
     "metadata": {},
     "output_type": "display_data"
    }
   ],
   "source": [
    "def normalize_stats(stats,game_length):\n",
    "    return [ float(stat/game_length) for stat in stats]\n",
    "    \n",
    "normalize_udf = udf(normalize_stats,ArrayType(FloatType()))\n",
    "match_sum_stats_2 = match_sum_stats.withColumn('normalize_stats', normalize_udf(match_sum_stats.player_stats_inv, match_sum_stats.match_length))"
   ]
  },
  {
   "cell_type": "code",
   "execution_count": 34,
   "metadata": {
    "cell_status": {
     "execute_time": {
      "duration": 26.302001953125,
      "end_time": 1574388156171.347
     }
    }
   },
   "outputs": [
    {
     "data": {
      "text/html": [
       "<style scoped>\n",
       "  .ansiout {\n",
       "    display: block;\n",
       "    unicode-bidi: embed;\n",
       "    white-space: pre-wrap;\n",
       "    word-wrap: break-word;\n",
       "    word-break: break-all;\n",
       "    font-family: \"Source Code Pro\", \"Menlo\", monospace;;\n",
       "    font-size: 13px;\n",
       "    color: #555;\n",
       "    margin-left: 4px;\n",
       "    line-height: 19px;\n",
       "  }\n",
       "</style>\n",
       "<div class=\"ansiout\"></div>"
      ]
     },
     "metadata": {},
     "output_type": "display_data"
    }
   ],
   "source": [
    "match_sum_stats_final = match_sum_stats_2.drop(\"player_stats_inv\") #drop non-normalize stats => we only consider stats/minute"
   ]
  },
  {
   "cell_type": "code",
   "execution_count": 35,
   "metadata": {
    "cell_status": {
     "execute_time": {
      "duration": 748.673095703125,
      "end_time": 1574388157124.468
     }
    }
   },
   "outputs": [
    {
     "data": {
      "text/html": [
       "<style scoped>\n",
       "  .ansiout {\n",
       "    display: block;\n",
       "    unicode-bidi: embed;\n",
       "    white-space: pre-wrap;\n",
       "    word-wrap: break-word;\n",
       "    word-break: break-all;\n",
       "    font-family: \"Source Code Pro\", \"Menlo\", monospace;;\n",
       "    font-size: 13px;\n",
       "    color: #555;\n",
       "    margin-left: 4px;\n",
       "    line-height: 19px;\n",
       "  }\n",
       "</style>\n",
       "<div class=\"ansiout\">+----------+------------+--------------------+------------+----------+--------------------+\n",
       "  match_id|champion_inv|      summonerId_inv|match_length|final_role|     normalize_stats|\n",
       "+----------+------------+--------------------+------------+----------+--------------------+\n",
       "3207597356|         245|SAim3CJlYb3gTey9H...|       22.55|100_JUNGLE|[348.73615, 0.133...|\n",
       "3207597356|          13|EuXHkripW2Qav3H2l...|       22.55|   100_TOP|[289.71176, 0.088...|\n",
       "+----------+------------+--------------------+------------+----------+--------------------+\n",
       "only showing top 2 rows\n",
       "\n",
       "</div>"
      ]
     },
     "metadata": {},
     "output_type": "display_data"
    }
   ],
   "source": [
    "match_sum_stats_final.show(2)"
   ]
  },
  {
   "cell_type": "markdown",
   "metadata": {},
   "source": [
    "## Explode players stats"
   ]
  },
  {
   "cell_type": "code",
   "execution_count": 37,
   "metadata": {
    "cell_status": {
     "execute_time": {
      "duration": 257.901123046875,
      "end_time": 1574388157399.757
     }
    }
   },
   "outputs": [
    {
     "data": {
      "text/html": [
       "<style scoped>\n",
       "  .ansiout {\n",
       "    display: block;\n",
       "    unicode-bidi: embed;\n",
       "    white-space: pre-wrap;\n",
       "    word-wrap: break-word;\n",
       "    word-break: break-all;\n",
       "    font-family: \"Source Code Pro\", \"Menlo\", monospace;;\n",
       "    font-size: 13px;\n",
       "    color: #555;\n",
       "    margin-left: 4px;\n",
       "    line-height: 19px;\n",
       "  }\n",
       "</style>\n",
       "<div class=\"ansiout\"></div>"
      ]
     },
     "metadata": {},
     "output_type": "display_data"
    }
   ],
   "source": [
    "#explode the normalize stats column to multiple columns\n",
    "match_sum_stats_final = match_sum_stats_final.select(\"match_id\",\"champion_inv\",\"summonerId_inv\",\"final_role\",\n",
    "                                             match_sum_stats_final.normalize_stats[0].alias(\"gold_earned\"),\n",
    "                                             match_sum_stats_final.normalize_stats[1].alias(\"kills\"),\n",
    "                                             match_sum_stats_final.normalize_stats[2].alias(\"assists\"),\n",
    "                                             match_sum_stats_final.normalize_stats[3].alias(\"deaths\"),\n",
    "                                             match_sum_stats_final.normalize_stats[4].alias(\"visionScore\"),\n",
    "                                             match_sum_stats_final.normalize_stats[5].alias(\"totalDamageDealt\"),\n",
    "                                             match_sum_stats_final.normalize_stats[6].alias(\"totalDamageTaken\"),\n",
    "                                             match_sum_stats_final.normalize_stats[7].alias(\"totalMinionsKilled\"),\n",
    "                                             match_sum_stats_final.normalize_stats[8].alias(\"totalTimeCrowdControlDealt\"))"
   ]
  },
  {
   "cell_type": "code",
   "execution_count": 38,
   "metadata": {
    "cell_status": {
     "execute_time": {
      "duration": 744.39404296875,
      "end_time": 1574388158157.659
     }
    }
   },
   "outputs": [
    {
     "data": {
      "text/html": [
       "<style scoped>\n",
       "  .ansiout {\n",
       "    display: block;\n",
       "    unicode-bidi: embed;\n",
       "    white-space: pre-wrap;\n",
       "    word-wrap: break-word;\n",
       "    word-break: break-all;\n",
       "    font-family: \"Source Code Pro\", \"Menlo\", monospace;;\n",
       "    font-size: 13px;\n",
       "    color: #555;\n",
       "    margin-left: 4px;\n",
       "    line-height: 19px;\n",
       "  }\n",
       "</style>\n",
       "<div class=\"ansiout\">+----------+------------+--------------------+----------+-----------+---------+---------+----------+-----------+----------------+----------------+------------------+--------------------------+\n",
       "  match_id|champion_inv|      summonerId_inv|final_role|gold_earned|    kills|  assists|    deaths|visionScore|totalDamageDealt|totalDamageTaken|totalMinionsKilled|totalTimeCrowdControlDealt|\n",
       "+----------+------------+--------------------+----------+-----------+---------+---------+----------+-----------+----------------+----------------+------------------+--------------------------+\n",
       "3207597356|         245|SAim3CJlYb3gTey9H...|100_JUNGLE|  348.73615|0.1330377|0.1330377|0.17738359|  0.6651885|        4702.173|        916.9845|          2.217295|                 17.560976|\n",
       "+----------+------------+--------------------+----------+-----------+---------+---------+----------+-----------+----------------+----------------+------------------+--------------------------+\n",
       "only showing top 1 row\n",
       "\n",
       "</div>"
      ]
     },
     "metadata": {},
     "output_type": "display_data"
    }
   ],
   "source": [
    "match_sum_stats_final.show(1)"
   ]
  },
  {
   "cell_type": "markdown",
   "metadata": {},
   "source": [
    "## Create average stats table"
   ]
  },
  {
   "cell_type": "code",
   "execution_count": 40,
   "metadata": {
    "cell_status": {
     "execute_time": {
      "duration": 246.15478515625,
      "end_time": 1574388158416.131
     }
    }
   },
   "outputs": [
    {
     "data": {
      "text/html": [
       "<style scoped>\n",
       "  .ansiout {\n",
       "    display: block;\n",
       "    unicode-bidi: embed;\n",
       "    white-space: pre-wrap;\n",
       "    word-wrap: break-word;\n",
       "    word-break: break-all;\n",
       "    font-family: \"Source Code Pro\", \"Menlo\", monospace;;\n",
       "    font-size: 13px;\n",
       "    color: #555;\n",
       "    margin-left: 4px;\n",
       "    line-height: 19px;\n",
       "  }\n",
       "</style>\n",
       "<div class=\"ansiout\"></div>"
      ]
     },
     "metadata": {},
     "output_type": "display_data"
    }
   ],
   "source": [
    "avg_stats = match_sum_stats_final.select(\"summonerId_inv\",\"gold_earned\",\"kills\",                      \n",
    "             \"assists\",\"deaths\",\"visionScore\",\"totalDamageDealt\",\"totalDamageTaken\",\"totalMinionsKilled\",\n",
    "            \"totalTimeCrowdControlDealt\")\n"
   ]
  },
  {
   "cell_type": "code",
   "execution_count": 41,
   "metadata": {
    "cell_status": {
     "execute_time": {
      "duration": 743.471923828125,
      "end_time": 1574388159173.247
     }
    }
   },
   "outputs": [
    {
     "data": {
      "text/html": [
       "<style scoped>\n",
       "  .ansiout {\n",
       "    display: block;\n",
       "    unicode-bidi: embed;\n",
       "    white-space: pre-wrap;\n",
       "    word-wrap: break-word;\n",
       "    word-break: break-all;\n",
       "    font-family: \"Source Code Pro\", \"Menlo\", monospace;;\n",
       "    font-size: 13px;\n",
       "    color: #555;\n",
       "    margin-left: 4px;\n",
       "    line-height: 19px;\n",
       "  }\n",
       "</style>\n",
       "<div class=\"ansiout\">+--------------------+-----------+----------+---------+----------+-----------+----------------+----------------+------------------+--------------------------+\n",
       "      summonerId_inv|gold_earned|     kills|  assists|    deaths|visionScore|totalDamageDealt|totalDamageTaken|totalMinionsKilled|totalTimeCrowdControlDealt|\n",
       "+--------------------+-----------+----------+---------+----------+-----------+----------------+----------------+------------------+--------------------------+\n",
       "SAim3CJlYb3gTey9H...|  348.73615| 0.1330377|0.1330377|0.17738359|  0.6651885|        4702.173|        916.9845|          2.217295|                 17.560976|\n",
       "EuXHkripW2Qav3H2l...|  289.71176|0.08869179|0.1330377| 0.3104213|        0.0|        3538.182|       1059.0687|         5.4101996|                  3.015521|\n",
       "+--------------------+-----------+----------+---------+----------+-----------+----------------+----------------+------------------+--------------------------+\n",
       "only showing top 2 rows\n",
       "\n",
       "</div>"
      ]
     },
     "metadata": {},
     "output_type": "display_data"
    }
   ],
   "source": [
    "avg_stats.show(2)"
   ]
  },
  {
   "cell_type": "code",
   "execution_count": 42,
   "metadata": {
    "cell_status": {
     "execute_time": {
      "duration": 276.43115234375,
      "end_time": 1574388159460.095
     }
    }
   },
   "outputs": [
    {
     "data": {
      "text/html": [
       "<style scoped>\n",
       "  .ansiout {\n",
       "    display: block;\n",
       "    unicode-bidi: embed;\n",
       "    white-space: pre-wrap;\n",
       "    word-wrap: break-word;\n",
       "    word-break: break-all;\n",
       "    font-family: \"Source Code Pro\", \"Menlo\", monospace;;\n",
       "    font-size: 13px;\n",
       "    color: #555;\n",
       "    margin-left: 4px;\n",
       "    line-height: 19px;\n",
       "  }\n",
       "</style>\n",
       "<div class=\"ansiout\"></div>"
      ]
     },
     "metadata": {},
     "output_type": "display_data"
    }
   ],
   "source": [
    "import pyspark.sql.functions as F\n",
    "summoner_avg_stats = avg_stats.groupBy('summonerId_inv').agg(F.avg('gold_earned'),F.avg('kills'),F.avg(\"deaths\"),\n",
    "                                     F.avg('assists'),F.avg('visionScore'),F.avg('totalDamageDealt'),\n",
    "                                     F.avg('totalDamageTaken'),F.avg('totalMinionsKilled'),\n",
    "                                     F.avg('totalTimeCrowdControlDealt'))"
   ]
  },
  {
   "cell_type": "code",
   "execution_count": 43,
   "metadata": {
    "cell_status": {
     "execute_time": {
      "duration": 1250.010986328125,
      "end_time": 1574388160721.984
     }
    }
   },
   "outputs": [
    {
     "data": {
      "text/html": [
       "<style scoped>\n",
       "  .ansiout {\n",
       "    display: block;\n",
       "    unicode-bidi: embed;\n",
       "    white-space: pre-wrap;\n",
       "    word-wrap: break-word;\n",
       "    word-break: break-all;\n",
       "    font-family: \"Source Code Pro\", \"Menlo\", monospace;;\n",
       "    font-size: 13px;\n",
       "    color: #555;\n",
       "    margin-left: 4px;\n",
       "    line-height: 19px;\n",
       "  }\n",
       "</style>\n",
       "<div class=\"ansiout\">+--------------------+------------------+-------------------+-------------------+-----------------+------------------+---------------------+---------------------+-----------------------+-------------------------------+\n",
       "      summonerId_inv|  avg(gold_earned)|         avg(kills)|        avg(deaths)|     avg(assists)|  avg(visionScore)|avg(totalDamageDealt)|avg(totalDamageTaken)|avg(totalMinionsKilled)|avg(totalTimeCrowdControlDealt)|\n",
       "+--------------------+------------------+-------------------+-------------------+-----------------+------------------+---------------------+---------------------+-----------------------+-------------------------------+\n",
       "KXIBzMOl8rFQ4bD4p...|352.76629638671875|0.09909165650606155|0.24772915244102478|0.743187427520752|1.6350123882293701|    460.6275939941406|   348.65399169921875|    0.34682080149650574|             3.2204790115356445|\n",
       "+--------------------+------------------+-------------------+-------------------+-----------------+------------------+---------------------+---------------------+-----------------------+-------------------------------+\n",
       "only showing top 1 row\n",
       "\n",
       "</div>"
      ]
     },
     "metadata": {},
     "output_type": "display_data"
    }
   ],
   "source": [
    "summoner_avg_stats.show(1)"
   ]
  },
  {
   "cell_type": "markdown",
   "metadata": {},
   "source": [
    "### summonerID_avgstats_matchId table"
   ]
  },
  {
   "cell_type": "code",
   "execution_count": 45,
   "metadata": {
    "cell_status": {
     "execute_time": {
      "duration": 2255.2529296875,
      "end_time": 1574388162991.436
     }
    }
   },
   "outputs": [
    {
     "data": {
      "text/html": [
       "<style scoped>\n",
       "  .ansiout {\n",
       "    display: block;\n",
       "    unicode-bidi: embed;\n",
       "    white-space: pre-wrap;\n",
       "    word-wrap: break-word;\n",
       "    word-break: break-all;\n",
       "    font-family: \"Source Code Pro\", \"Menlo\", monospace;;\n",
       "    font-size: 13px;\n",
       "    color: #555;\n",
       "    margin-left: 4px;\n",
       "    line-height: 19px;\n",
       "  }\n",
       "</style>\n",
       "<div class=\"ansiout\">+---+------+-------------+--------------------+-----------+-----------+------------------+----------+\n",
       " id|  name|armorperlevel|attackdamageperlevel|attackspeed|attackrange|spellblockperlevel|hpperlevel|\n",
       "+---+------+-------------+--------------------+-----------+-----------+------------------+----------+\n",
       "266|Aatrox|         3.25|                 5.0|      0.651|        175|              1.25|        90|\n",
       "103|  Ahri|          3.5|                 3.0|      0.668|        550|               0.5|        92|\n",
       "+---+------+-------------+--------------------+-----------+-----------+------------------+----------+\n",
       "only showing top 2 rows\n",
       "\n",
       "</div>"
      ]
     },
     "metadata": {},
     "output_type": "display_data"
    }
   ],
   "source": [
    "mast_champ_join.show(2)"
   ]
  },
  {
   "cell_type": "code",
   "execution_count": 46,
   "metadata": {
    "cell_status": {
     "execute_time": {
      "duration": 742.68505859375,
      "end_time": 1574388350378.217
     }
    }
   },
   "outputs": [
    {
     "data": {
      "text/html": [
       "<style scoped>\n",
       "  .ansiout {\n",
       "    display: block;\n",
       "    unicode-bidi: embed;\n",
       "    white-space: pre-wrap;\n",
       "    word-wrap: break-word;\n",
       "    word-break: break-all;\n",
       "    font-family: \"Source Code Pro\", \"Menlo\", monospace;;\n",
       "    font-size: 13px;\n",
       "    color: #555;\n",
       "    margin-left: 4px;\n",
       "    line-height: 19px;\n",
       "  }\n",
       "</style>\n",
       "<div class=\"ansiout\">+--------------------+----------+------------+----------+\n",
       "      summonerId_inv|  match_id|champion_inv|final_role|\n",
       "+--------------------+----------+------------+----------+\n",
       "SAim3CJlYb3gTey9H...|3207597356|         245|100_JUNGLE|\n",
       "EuXHkripW2Qav3H2l...|3207597356|          13|   100_TOP|\n",
       "+--------------------+----------+------------+----------+\n",
       "only showing top 2 rows\n",
       "\n",
       "</div>"
      ]
     },
     "metadata": {},
     "output_type": "display_data"
    }
   ],
   "source": [
    "match_sum_stats_join = match_sum_stats_final.select(\"summonerId_inv\",\"match_id\",\"champion_inv\",\"final_role\")\n",
    "match_sum_stats_join.show(2)"
   ]
  },
  {
   "cell_type": "code",
   "execution_count": 47,
   "metadata": {},
   "outputs": [
    {
     "data": {
      "text/html": [
       "<style scoped>\n",
       "  .ansiout {\n",
       "    display: block;\n",
       "    unicode-bidi: embed;\n",
       "    white-space: pre-wrap;\n",
       "    word-wrap: break-word;\n",
       "    word-break: break-all;\n",
       "    font-family: \"Source Code Pro\", \"Menlo\", monospace;;\n",
       "    font-size: 13px;\n",
       "    color: #555;\n",
       "    margin-left: 4px;\n",
       "    line-height: 19px;\n",
       "  }\n",
       "</style>\n",
       "<div class=\"ansiout\"></div>"
      ]
     },
     "metadata": {},
     "output_type": "display_data"
    }
   ],
   "source": [
    "match_sum_stats_join = match_sum_stats_join.join(mast_champ_join,[mast_champ_join.id==match_sum_stats_join.champion_inv])"
   ]
  },
  {
   "cell_type": "code",
   "execution_count": 48,
   "metadata": {},
   "outputs": [
    {
     "data": {
      "text/html": [
       "<style scoped>\n",
       "  .ansiout {\n",
       "    display: block;\n",
       "    unicode-bidi: embed;\n",
       "    white-space: pre-wrap;\n",
       "    word-wrap: break-word;\n",
       "    word-break: break-all;\n",
       "    font-family: \"Source Code Pro\", \"Menlo\", monospace;;\n",
       "    font-size: 13px;\n",
       "    color: #555;\n",
       "    margin-left: 4px;\n",
       "    line-height: 19px;\n",
       "  }\n",
       "</style>\n",
       "<div class=\"ansiout\">+--------------------+----------+------------+----------+-------+-------------+--------------------+-----------+-----------+------------------+----------+\n",
       "      summonerId_inv|  match_id|champion_inv|final_role|   name|armorperlevel|attackdamageperlevel|attackspeed|attackrange|spellblockperlevel|hpperlevel|\n",
       "+--------------------+----------+------------+----------+-------+-------------+--------------------+-----------+-----------+------------------+----------+\n",
       "KBEiGpkUdSiNC6FK5...|3206996170|          51| 200_CARRY|Caitlyn|          3.5|                2.88|      0.625|        650|               0.5|        91|\n",
       "waLb-RWxKyg8rx6g5...|3207831876|          51| 200_CARRY|Caitlyn|          3.5|                2.88|      0.625|        650|               0.5|        91|\n",
       "+--------------------+----------+------------+----------+-------+-------------+--------------------+-----------+-----------+------------------+----------+\n",
       "only showing top 2 rows\n",
       "\n",
       "</div>"
      ]
     },
     "metadata": {},
     "output_type": "display_data"
    }
   ],
   "source": [
    "match_sum_stats_join = match_sum_stats_join.drop(\"id\")\n",
    "match_sum_stats_join.show(2)"
   ]
  },
  {
   "cell_type": "markdown",
   "metadata": {},
   "source": [
    "### join the final features table for each individual for each match"
   ]
  },
  {
   "cell_type": "code",
   "execution_count": 50,
   "metadata": {
    "cell_status": {
     "execute_time": {
      "duration": 281.070068359375,
      "end_time": 1574388352462.62
     }
    }
   },
   "outputs": [
    {
     "data": {
      "text/html": [
       "<style scoped>\n",
       "  .ansiout {\n",
       "    display: block;\n",
       "    unicode-bidi: embed;\n",
       "    white-space: pre-wrap;\n",
       "    word-wrap: break-word;\n",
       "    word-break: break-all;\n",
       "    font-family: \"Source Code Pro\", \"Menlo\", monospace;;\n",
       "    font-size: 13px;\n",
       "    color: #555;\n",
       "    margin-left: 4px;\n",
       "    line-height: 19px;\n",
       "  }\n",
       "</style>\n",
       "<div class=\"ansiout\"></div>"
      ]
     },
     "metadata": {},
     "output_type": "display_data"
    }
   ],
   "source": [
    "player_stats_final = match_sum_stats_join.join(summoner_avg_stats,[\n",
    "        match_sum_stats_join.summonerId_inv == summoner_avg_stats.summonerId_inv,\n",
    "    ]).drop(match_sum_stats_join.summonerId_inv)"
   ]
  },
  {
   "cell_type": "code",
   "execution_count": 51,
   "metadata": {
    "cell_status": {
     "execute_time": {
      "duration": 237.885986328125,
      "end_time": 1574388355211.83
     }
    }
   },
   "outputs": [
    {
     "data": {
      "text/html": [
       "<style scoped>\n",
       "  .ansiout {\n",
       "    display: block;\n",
       "    unicode-bidi: embed;\n",
       "    white-space: pre-wrap;\n",
       "    word-wrap: break-word;\n",
       "    word-break: break-all;\n",
       "    font-family: \"Source Code Pro\", \"Menlo\", monospace;;\n",
       "    font-size: 13px;\n",
       "    color: #555;\n",
       "    margin-left: 4px;\n",
       "    line-height: 19px;\n",
       "  }\n",
       "</style>\n",
       "<div class=\"ansiout\">root\n",
       "-- match_id: string (nullable = true)\n",
       "-- champion_inv: string (nullable = true)\n",
       "-- final_role: string (nullable = true)\n",
       "-- name: string (nullable = true)\n",
       "-- armorperlevel: double (nullable = true)\n",
       "-- attackdamageperlevel: double (nullable = true)\n",
       "-- attackspeed: double (nullable = true)\n",
       "-- attackrange: integer (nullable = true)\n",
       "-- spellblockperlevel: double (nullable = true)\n",
       "-- hpperlevel: integer (nullable = true)\n",
       "-- summonerId_inv: string (nullable = true)\n",
       "-- avg(gold_earned): double (nullable = true)\n",
       "-- avg(kills): double (nullable = true)\n",
       "-- avg(deaths): double (nullable = true)\n",
       "-- avg(assists): double (nullable = true)\n",
       "-- avg(visionScore): double (nullable = true)\n",
       "-- avg(totalDamageDealt): double (nullable = true)\n",
       "-- avg(totalDamageTaken): double (nullable = true)\n",
       "-- avg(totalMinionsKilled): double (nullable = true)\n",
       "-- avg(totalTimeCrowdControlDealt): double (nullable = true)\n",
       "\n",
       "</div>"
      ]
     },
     "metadata": {},
     "output_type": "display_data"
    }
   ],
   "source": [
    "# player_stats_final = player_stats_final.drop(\"summonerId_inv\")\n",
    "player_stats_final.printSchema()"
   ]
  },
  {
   "cell_type": "code",
   "execution_count": 52,
   "metadata": {
    "cell_status": {
     "execute_time": {
      "duration": 232.614013671875,
      "end_time": 1574388356496.887
     }
    }
   },
   "outputs": [
    {
     "data": {
      "text/html": [
       "<style scoped>\n",
       "  .ansiout {\n",
       "    display: block;\n",
       "    unicode-bidi: embed;\n",
       "    white-space: pre-wrap;\n",
       "    word-wrap: break-word;\n",
       "    word-break: break-all;\n",
       "    font-family: \"Source Code Pro\", \"Menlo\", monospace;;\n",
       "    font-size: 13px;\n",
       "    color: #555;\n",
       "    margin-left: 4px;\n",
       "    line-height: 19px;\n",
       "  }\n",
       "</style>\n",
       "<div class=\"ansiout\"></div>"
      ]
     },
     "metadata": {},
     "output_type": "display_data"
    }
   ],
   "source": [
    "match_with_data = player_stats_final.groupby('match_id').count().select(\"match_id\",F.col('count').alias('number_of_players'))"
   ]
  },
  {
   "cell_type": "code",
   "execution_count": 53,
   "metadata": {
    "cell_status": {
     "execute_time": {
      "duration": 35.408935546875,
      "end_time": 1574388356891.31
     }
    }
   },
   "outputs": [
    {
     "data": {
      "text/html": [
       "<style scoped>\n",
       "  .ansiout {\n",
       "    display: block;\n",
       "    unicode-bidi: embed;\n",
       "    white-space: pre-wrap;\n",
       "    word-wrap: break-word;\n",
       "    word-break: break-all;\n",
       "    font-family: \"Source Code Pro\", \"Menlo\", monospace;;\n",
       "    font-size: 13px;\n",
       "    color: #555;\n",
       "    margin-left: 4px;\n",
       "    line-height: 19px;\n",
       "  }\n",
       "</style>\n",
       "<div class=\"ansiout\"></div>"
      ]
     },
     "metadata": {},
     "output_type": "display_data"
    }
   ],
   "source": [
    "#join with current all players stats player"
   ]
  },
  {
   "cell_type": "code",
   "execution_count": 54,
   "metadata": {
    "cell_status": {
     "execute_time": {
      "duration": 1266.998046875,
      "end_time": 1574388358488.536
     }
    },
    "collapsed": true
   },
   "outputs": [
    {
     "data": {
      "text/html": [
       "<style scoped>\n",
       "  .ansiout {\n",
       "    display: block;\n",
       "    unicode-bidi: embed;\n",
       "    white-space: pre-wrap;\n",
       "    word-wrap: break-word;\n",
       "    word-break: break-all;\n",
       "    font-family: \"Source Code Pro\", \"Menlo\", monospace;;\n",
       "    font-size: 13px;\n",
       "    color: #555;\n",
       "    margin-left: 4px;\n",
       "    line-height: 19px;\n",
       "  }\n",
       "</style>\n",
       "<div class=\"ansiout\"></div>"
      ]
     },
     "metadata": {},
     "output_type": "display_data"
    }
   ],
   "source": [
    "players_matchs_stats = player_stats_final.join(match_with_data,[match_with_data.match_id == player_stats_final.match_id]).drop(player_stats_final.match_id)"
   ]
  },
  {
   "cell_type": "code",
   "execution_count": 55,
   "metadata": {
    "cell_status": {
     "execute_time": {
      "duration": 43.458984375,
      "end_time": 1574388358548.704
     }
    }
   },
   "outputs": [
    {
     "data": {
      "text/html": [
       "<style scoped>\n",
       "  .ansiout {\n",
       "    display: block;\n",
       "    unicode-bidi: embed;\n",
       "    white-space: pre-wrap;\n",
       "    word-wrap: break-word;\n",
       "    word-break: break-all;\n",
       "    font-family: \"Source Code Pro\", \"Menlo\", monospace;;\n",
       "    font-size: 13px;\n",
       "    color: #555;\n",
       "    margin-left: 4px;\n",
       "    line-height: 19px;\n",
       "  }\n",
       "</style>\n",
       "<div class=\"ansiout\"></div>"
      ]
     },
     "metadata": {},
     "output_type": "display_data"
    }
   ],
   "source": [
    "players_matchs_stats = players_matchs_stats.drop(\"match_with_data.match_id\")"
   ]
  },
  {
   "cell_type": "code",
   "execution_count": 56,
   "metadata": {
    "cell_status": {
     "execute_time": {
      "duration": 31.615966796875,
      "end_time": 1574388358631.118
     }
    }
   },
   "outputs": [
    {
     "data": {
      "text/html": [
       "<style scoped>\n",
       "  .ansiout {\n",
       "    display: block;\n",
       "    unicode-bidi: embed;\n",
       "    white-space: pre-wrap;\n",
       "    word-wrap: break-word;\n",
       "    word-break: break-all;\n",
       "    font-family: \"Source Code Pro\", \"Menlo\", monospace;;\n",
       "    font-size: 13px;\n",
       "    color: #555;\n",
       "    margin-left: 4px;\n",
       "    line-height: 19px;\n",
       "  }\n",
       "</style>\n",
       "<div class=\"ansiout\">root\n",
       "-- champion_inv: string (nullable = true)\n",
       "-- final_role: string (nullable = true)\n",
       "-- name: string (nullable = true)\n",
       "-- armorperlevel: double (nullable = true)\n",
       "-- attackdamageperlevel: double (nullable = true)\n",
       "-- attackspeed: double (nullable = true)\n",
       "-- attackrange: integer (nullable = true)\n",
       "-- spellblockperlevel: double (nullable = true)\n",
       "-- hpperlevel: integer (nullable = true)\n",
       "-- summonerId_inv: string (nullable = true)\n",
       "-- avg(gold_earned): double (nullable = true)\n",
       "-- avg(kills): double (nullable = true)\n",
       "-- avg(deaths): double (nullable = true)\n",
       "-- avg(assists): double (nullable = true)\n",
       "-- avg(visionScore): double (nullable = true)\n",
       "-- avg(totalDamageDealt): double (nullable = true)\n",
       "-- avg(totalDamageTaken): double (nullable = true)\n",
       "-- avg(totalMinionsKilled): double (nullable = true)\n",
       "-- avg(totalTimeCrowdControlDealt): double (nullable = true)\n",
       "-- match_id: string (nullable = true)\n",
       "-- number_of_players: long (nullable = false)\n",
       "\n",
       "</div>"
      ]
     },
     "metadata": {},
     "output_type": "display_data"
    }
   ],
   "source": [
    "players_matchs_stats.printSchema()"
   ]
  },
  {
   "cell_type": "code",
   "execution_count": 57,
   "metadata": {
    "cell_status": {
     "execute_time": {
      "duration": 19384.432861328125,
      "end_time": 1574388378732.317
     }
    }
   },
   "outputs": [
    {
     "data": {
      "text/html": [
       "<style scoped>\n",
       "  .ansiout {\n",
       "    display: block;\n",
       "    unicode-bidi: embed;\n",
       "    white-space: pre-wrap;\n",
       "    word-wrap: break-word;\n",
       "    word-break: break-all;\n",
       "    font-family: \"Source Code Pro\", \"Menlo\", monospace;;\n",
       "    font-size: 13px;\n",
       "    color: #555;\n",
       "    margin-left: 4px;\n",
       "    line-height: 19px;\n",
       "  }\n",
       "</style>\n",
       "<div class=\"ansiout\">+------------+----------+----+-------------+--------------------+-----------+-----------+------------------+----------+--------------------+-----------------+-----------------+-------------------+------------------+------------------+---------------------+---------------------+-----------------------+-------------------------------+----------+-----------------+\n",
       "champion_inv|final_role|name|armorperlevel|attackdamageperlevel|attackspeed|attackrange|spellblockperlevel|hpperlevel|      summonerId_inv| avg(gold_earned)|       avg(kills)|        avg(deaths)|      avg(assists)|  avg(visionScore)|avg(totalDamageDealt)|avg(totalDamageTaken)|avg(totalMinionsKilled)|avg(totalTimeCrowdControlDealt)|  match_id|number_of_players|\n",
       "+------------+----------+----+-------------+--------------------+-----------+-----------+------------------+----------+--------------------+-----------------+-----------------+-------------------+------------------+------------------+---------------------+---------------------+-----------------------+-------------------------------+----------+-----------------+\n",
       "          98|   100_TOP|Shen|          3.0|                 3.0|      0.751|        125|              1.25|        85|Up3KIuHBAgMDFUwfL...|434.7679748535156|0.282447874546051|0.12104909121990204|0.3631472885608673|0.9683927297592163|    3763.537353515625|    855.8977661132812|     5.5279083251953125|              8.634835243225098|3133665772|                9|\n",
       "+------------+----------+----+-------------+--------------------+-----------+-----------+------------------+----------+--------------------+-----------------+-----------------+-------------------+------------------+------------------+---------------------+---------------------+-----------------------+-------------------------------+----------+-----------------+\n",
       "only showing top 1 row\n",
       "\n",
       "</div>"
      ]
     },
     "metadata": {},
     "output_type": "display_data"
    }
   ],
   "source": [
    "players_matchs_stats.show(1)"
   ]
  },
  {
   "cell_type": "markdown",
   "metadata": {},
   "source": [
    "### remove matches with less than 10 players data"
   ]
  },
  {
   "cell_type": "code",
   "execution_count": 59,
   "metadata": {
    "cell_status": {
     "execute_time": {
      "duration": 15355.537109375,
      "end_time": 1574388517464.588
     }
    }
   },
   "outputs": [
    {
     "data": {
      "text/html": [
       "<style scoped>\n",
       "  .ansiout {\n",
       "    display: block;\n",
       "    unicode-bidi: embed;\n",
       "    white-space: pre-wrap;\n",
       "    word-wrap: break-word;\n",
       "    word-break: break-all;\n",
       "    font-family: \"Source Code Pro\", \"Menlo\", monospace;;\n",
       "    font-size: 13px;\n",
       "    color: #555;\n",
       "    margin-left: 4px;\n",
       "    line-height: 19px;\n",
       "  }\n",
       "</style>\n",
       "<div class=\"ansiout\"><span class=\"ansired\">Out[</span><span class=\"ansired\">84</span><span class=\"ansired\">]: </span>142400</div>"
      ]
     },
     "metadata": {},
     "output_type": "display_data"
    }
   ],
   "source": [
    "players_matchs_stats = players_matchs_stats.filter(players_matchs_stats.number_of_players == 10)\n",
    "players_matchs_stats.count()"
   ]
  },
  {
   "cell_type": "code",
   "execution_count": 60,
   "metadata": {
    "cell_status": {
     "execute_time": {
      "duration": 21379.77587890625,
      "end_time": 1574388538853.549
     }
    }
   },
   "outputs": [
    {
     "data": {
      "text/html": [
       "<style scoped>\n",
       "  .ansiout {\n",
       "    display: block;\n",
       "    unicode-bidi: embed;\n",
       "    white-space: pre-wrap;\n",
       "    word-wrap: break-word;\n",
       "    word-break: break-all;\n",
       "    font-family: \"Source Code Pro\", \"Menlo\", monospace;;\n",
       "    font-size: 13px;\n",
       "    color: #555;\n",
       "    margin-left: 4px;\n",
       "    line-height: 19px;\n",
       "  }\n",
       "</style>\n",
       "<div class=\"ansiout\">+------------+-----------+-----+-------------+--------------------+-----------+-----------+------------------+----------+--------------------+-----------------+-------------------+-------------------+-------------------+------------------+---------------------+---------------------+-----------------------+-------------------------------+----------+-----------------+\n",
       "champion_inv| final_role| name|armorperlevel|attackdamageperlevel|attackspeed|attackrange|spellblockperlevel|hpperlevel|      summonerId_inv| avg(gold_earned)|         avg(kills)|        avg(deaths)|       avg(assists)|  avg(visionScore)|avg(totalDamageDealt)|avg(totalDamageTaken)|avg(totalMinionsKilled)|avg(totalTimeCrowdControlDealt)|  match_id|number_of_players|\n",
       "+------------+-----------+-----+-------------+--------------------+-----------+-----------+------------------+----------+--------------------+-----------------+-------------------+-------------------+-------------------+------------------+---------------------+---------------------+-----------------------+-------------------------------+----------+-----------------+\n",
       "         245| 200_JUNGLE| Ekko|          3.0|                 3.0|      0.688|        125|              1.25|        85|46Pp4xm8_bXFJO4e0...|326.6238668690557|0.14654670777204243|0.20932419500921084|0.31772052577656246| 1.170205866513045|   2500.2357456373134|    684.2002125615659|      1.309506479812705|              11.69330682961837|3189398091|               10|\n",
       "          40|200_SUPPORT|Janna|          3.8|                 1.5|      0.625|        550|               0.5|        70|QKIURP2jCYF-6Bhmk...|292.6052870316939|0.10010747916319153|0.22339835356582294|0.28187416764822876|1.4569425745443865|   1165.3971557617188|   486.93304720791906|     1.3683441850272091|               5.23967322436246|3189398091|               10|\n",
       "+------------+-----------+-----+-------------+--------------------+-----------+-----------+------------------+----------+--------------------+-----------------+-------------------+-------------------+-------------------+------------------+---------------------+---------------------+-----------------------+-------------------------------+----------+-----------------+\n",
       "only showing top 2 rows\n",
       "\n",
       "</div>"
      ]
     },
     "metadata": {},
     "output_type": "display_data"
    }
   ],
   "source": [
    "players_matchs_stats.show(2)"
   ]
  },
  {
   "cell_type": "markdown",
   "metadata": {},
   "source": [
    "## join with label table"
   ]
  },
  {
   "cell_type": "code",
   "execution_count": 62,
   "metadata": {
    "cell_status": {
     "execute_time": {
      "duration": 17339.658935546875,
      "end_time": 1574388556207.105
     }
    }
   },
   "outputs": [
    {
     "data": {
      "text/html": [
       "<style scoped>\n",
       "  .ansiout {\n",
       "    display: block;\n",
       "    unicode-bidi: embed;\n",
       "    white-space: pre-wrap;\n",
       "    word-wrap: break-word;\n",
       "    word-break: break-all;\n",
       "    font-family: \"Source Code Pro\", \"Menlo\", monospace;;\n",
       "    font-size: 13px;\n",
       "    color: #555;\n",
       "    margin-left: 4px;\n",
       "    line-height: 19px;\n",
       "  }\n",
       "</style>\n",
       "<div class=\"ansiout\">+----------+-----+\n",
       "        id|label|\n",
       "+----------+-----+\n",
       "3207597356|    0|\n",
       "+----------+-----+\n",
       "only showing top 1 row\n",
       "\n",
       "</div>"
      ]
     },
     "metadata": {},
     "output_type": "display_data"
    }
   ],
   "source": [
    "label_col.show(1)"
   ]
  },
  {
   "cell_type": "code",
   "execution_count": 63,
   "metadata": {
    "cell_status": {
     "execute_time": {
      "duration": 235.3681640625,
      "end_time": 1574388556451.601
     }
    }
   },
   "outputs": [
    {
     "data": {
      "text/html": [
       "<style scoped>\n",
       "  .ansiout {\n",
       "    display: block;\n",
       "    unicode-bidi: embed;\n",
       "    white-space: pre-wrap;\n",
       "    word-wrap: break-word;\n",
       "    word-break: break-all;\n",
       "    font-family: \"Source Code Pro\", \"Menlo\", monospace;;\n",
       "    font-size: 13px;\n",
       "    color: #555;\n",
       "    margin-left: 4px;\n",
       "    line-height: 19px;\n",
       "  }\n",
       "</style>\n",
       "<div class=\"ansiout\"></div>"
      ]
     },
     "metadata": {},
     "output_type": "display_data"
    }
   ],
   "source": [
    "# label = 100_win or not\n",
    "players_stats_sep_table = players_matchs_stats.join(label_col,[label_col.id == players_matchs_stats.match_id])"
   ]
  },
  {
   "cell_type": "code",
   "execution_count": 64,
   "metadata": {
    "cell_status": {
     "execute_time": {
      "duration": 25428.548828125,
      "end_time": 1574388581890.742
     }
    }
   },
   "outputs": [
    {
     "data": {
      "text/html": [
       "<style scoped>\n",
       "  .ansiout {\n",
       "    display: block;\n",
       "    unicode-bidi: embed;\n",
       "    white-space: pre-wrap;\n",
       "    word-wrap: break-word;\n",
       "    word-break: break-all;\n",
       "    font-family: \"Source Code Pro\", \"Menlo\", monospace;;\n",
       "    font-size: 13px;\n",
       "    color: #555;\n",
       "    margin-left: 4px;\n",
       "    line-height: 19px;\n",
       "  }\n",
       "</style>\n",
       "<div class=\"ansiout\">+------------+-----------+-----+-------------+--------------------+-----------+-----------+------------------+----------+--------------------+-----------------+-------------------+-------------------+-------------------+------------------+---------------------+---------------------+-----------------------+-------------------------------+----------+-----------------+----------+-----+\n",
       "champion_inv| final_role| name|armorperlevel|attackdamageperlevel|attackspeed|attackrange|spellblockperlevel|hpperlevel|      summonerId_inv| avg(gold_earned)|         avg(kills)|        avg(deaths)|       avg(assists)|  avg(visionScore)|avg(totalDamageDealt)|avg(totalDamageTaken)|avg(totalMinionsKilled)|avg(totalTimeCrowdControlDealt)|  match_id|number_of_players|        id|label|\n",
       "+------------+-----------+-----+-------------+--------------------+-----------+-----------+------------------+----------+--------------------+-----------------+-------------------+-------------------+-------------------+------------------+---------------------+---------------------+-----------------------+-------------------------------+----------+-----------------+----------+-----+\n",
       "          40|200_SUPPORT|Janna|          3.8|                 1.5|      0.625|        550|               0.5|        70|QKIURP2jCYF-6Bhmk...|292.6052870316939|0.10010747916319153|0.22339835356582294|0.28187416764822876|1.4569425745443865|   1165.3971557617188|   486.93304720791906|     1.3683441850272091|               5.23967322436246|3189398091|               10|3189398091|    1|\n",
       "+------------+-----------+-----+-------------+--------------------+-----------+-----------+------------------+----------+--------------------+-----------------+-------------------+-------------------+-------------------+------------------+---------------------+---------------------+-----------------------+-------------------------------+----------+-----------------+----------+-----+\n",
       "only showing top 1 row\n",
       "\n",
       "</div>"
      ]
     },
     "metadata": {},
     "output_type": "display_data"
    }
   ],
   "source": [
    "players_stats_sep_table.show(1)"
   ]
  },
  {
   "cell_type": "code",
   "execution_count": 65,
   "metadata": {
    "cell_status": {
     "execute_time": {
      "duration": 2284.958984375,
      "end_time": 1574390006235.696
     }
    }
   },
   "outputs": [
    {
     "data": {
      "text/html": [
       "<style scoped>\n",
       "  .ansiout {\n",
       "    display: block;\n",
       "    unicode-bidi: embed;\n",
       "    white-space: pre-wrap;\n",
       "    word-wrap: break-word;\n",
       "    word-break: break-all;\n",
       "    font-family: \"Source Code Pro\", \"Menlo\", monospace;;\n",
       "    font-size: 13px;\n",
       "    color: #555;\n",
       "    margin-left: 4px;\n",
       "    line-height: 19px;\n",
       "  }\n",
       "</style>\n",
       "<div class=\"ansiout\"></div>"
      ]
     },
     "metadata": {},
     "output_type": "display_data"
    }
   ],
   "source": [
    "all_stats_matchs_pd = players_stats_sep_table.toPandas()"
   ]
  },
  {
   "cell_type": "markdown",
   "metadata": {},
   "source": [
    "# Create feature matrix"
   ]
  },
  {
   "cell_type": "code",
   "execution_count": 67,
   "metadata": {
    "cell_status": {
     "execute_time": {
      "duration": 26.19384765625,
      "end_time": 1574390178282.036
     }
    },
    "collapsed": true
   },
   "outputs": [
    {
     "data": {
      "text/html": [
       "<style scoped>\n",
       "  .ansiout {\n",
       "    display: block;\n",
       "    unicode-bidi: embed;\n",
       "    white-space: pre-wrap;\n",
       "    word-wrap: break-word;\n",
       "    word-break: break-all;\n",
       "    font-family: \"Source Code Pro\", \"Menlo\", monospace;;\n",
       "    font-size: 13px;\n",
       "    color: #555;\n",
       "    margin-left: 4px;\n",
       "    line-height: 19px;\n",
       "  }\n",
       "</style>\n",
       "<div class=\"ansiout\"></div>"
      ]
     },
     "metadata": {},
     "output_type": "display_data"
    }
   ],
   "source": [
    "import pandas as pd\n",
    "all_stats_matchs_pd = all_stats_matchs_pd.drop(['id','number_of_players'],axis=1)\n",
    "matchs_group = all_stats_matchs_pd.groupby(\"match_id\").groups"
   ]
  },
  {
   "cell_type": "code",
   "execution_count": 70,
   "metadata": {
    "cell_status": {
     "execute_time": {
      "duration": 35.27392578125,
      "end_time": 1574390211028.258
     }
    }
   },
   "outputs": [
    {
     "data": {
      "text/html": [
       "<style scoped>\n",
       "  .ansiout {\n",
       "    display: block;\n",
       "    unicode-bidi: embed;\n",
       "    white-space: pre-wrap;\n",
       "    word-wrap: break-word;\n",
       "    word-break: break-all;\n",
       "    font-family: \"Source Code Pro\", \"Menlo\", monospace;;\n",
       "    font-size: 13px;\n",
       "    color: #555;\n",
       "    margin-left: 4px;\n",
       "    line-height: 19px;\n",
       "  }\n",
       "</style>\n",
       "<div class=\"ansiout\">there are 14240 legit matches for final matrix\n",
       "</div>"
      ]
     },
     "metadata": {},
     "output_type": "display_data"
    }
   ],
   "source": [
    "print(\"there are {} legit matches for final matrix\".format(len(matchs_group)))"
   ]
  },
  {
   "cell_type": "code",
   "execution_count": 71,
   "metadata": {
    "cell_status": {
     "execute_time": {
      "duration": 27.56494140625,
      "end_time": 1574390213720.734
     }
    }
   },
   "outputs": [
    {
     "data": {
      "text/html": [
       "<style scoped>\n",
       "  .ansiout {\n",
       "    display: block;\n",
       "    unicode-bidi: embed;\n",
       "    white-space: pre-wrap;\n",
       "    word-wrap: break-word;\n",
       "    word-break: break-all;\n",
       "    font-family: \"Source Code Pro\", \"Menlo\", monospace;;\n",
       "    font-size: 13px;\n",
       "    color: #555;\n",
       "    margin-left: 4px;\n",
       "    line-height: 19px;\n",
       "  }\n",
       "</style>\n",
       "<div class=\"ansiout\"></div>"
      ]
     },
     "metadata": {},
     "output_type": "display_data"
    }
   ],
   "source": [
    "one_match = all_stats_matchs_pd.iloc[matchs_group['3207612018']]\n",
    "feat_list = list(one_match.columns) #list of features\n",
    "feat_list "
   ]
  },
  {
   "cell_type": "code",
   "execution_count": 73,
   "metadata": {
    "cell_status": {
     "execute_time": {
      "duration": 241.821044921875,
      "end_time": 1574391343120.684
     }
    }
   },
   "outputs": [
    {
     "data": {
      "text/html": [
       "<style scoped>\n",
       "  .ansiout {\n",
       "    display: block;\n",
       "    unicode-bidi: embed;\n",
       "    white-space: pre-wrap;\n",
       "    word-wrap: break-word;\n",
       "    word-break: break-all;\n",
       "    font-family: \"Source Code Pro\", \"Menlo\", monospace;;\n",
       "    font-size: 13px;\n",
       "    color: #555;\n",
       "    margin-left: 4px;\n",
       "    line-height: 19px;\n",
       "  }\n",
       "</style>\n",
       "<div class=\"ansiout\"></div>"
      ]
     },
     "metadata": {},
     "output_type": "display_data"
    }
   ],
   "source": [
    "features_matrix_list = []\n",
    "for group_key in matchs_group.keys():\n",
    "    one_match = all_stats_matchs_pd.iloc[matchs_group[group_key]]\n",
    "    feat_count = 2\n",
    "    match_dict = {} #create a dict for 1 match \n",
    "    match_dict['label'] = int(one_match.iloc[0]['label'])\n",
    "    match_dict['match_id'] = str(one_match.iloc[0]['match_id'])\n",
    "    for user in one_match.iterrows():\n",
    "        player = user[1]\n",
    "        role = player['final_role']\n",
    "        processed = ['final_role','label','match_id']\n",
    "        string_feat = ['summonerId_inv','champion_inv','name']\n",
    "        int_feat = ['label']\n",
    "        for feat in feat_list:\n",
    "            if feat not in processed:\n",
    "                if feat in string_feat:\n",
    "                    val = str(player[feat])\n",
    "                else:\n",
    "                    val = float(player[feat])\n",
    "                match_dict[\"{}_{}\".format(role,feat)] = val\n",
    "                feat_count += 1\n",
    "    if len(match_dict) == 182:\n",
    "        features_matrix_list.append(match_dict)"
   ]
  },
  {
   "cell_type": "code",
   "execution_count": 74,
   "metadata": {
    "cell_status": {
     "execute_time": {
      "duration": 36.39697265625,
      "end_time": 1574391344086.773
     }
    }
   },
   "outputs": [
    {
     "data": {
      "text/html": [
       "<style scoped>\n",
       "  .ansiout {\n",
       "    display: block;\n",
       "    unicode-bidi: embed;\n",
       "    white-space: pre-wrap;\n",
       "    word-wrap: break-word;\n",
       "    word-break: break-all;\n",
       "    font-family: \"Source Code Pro\", \"Menlo\", monospace;;\n",
       "    font-size: 13px;\n",
       "    color: #555;\n",
       "    margin-left: 4px;\n",
       "    line-height: 19px;\n",
       "  }\n",
       "</style>\n",
       "<div class=\"ansiout\">after cleaning data, we have 9112 matches left\n",
       "</div>"
      ]
     },
     "metadata": {},
     "output_type": "display_data"
    }
   ],
   "source": [
    "print(\"after cleaning data, we have {} matches left\".format(len(features_matrix_list)))"
   ]
  },
  {
   "cell_type": "markdown",
   "metadata": {},
   "source": [
    "# Final feature matrix"
   ]
  },
  {
   "cell_type": "code",
   "execution_count": 76,
   "metadata": {
    "cell_status": {
     "execute_time": {
      "duration": 744.243896484375,
      "end_time": 1574391420127.442
     }
    }
   },
   "outputs": [
    {
     "data": {
      "text/html": [
       "<style scoped>\n",
       "  .ansiout {\n",
       "    display: block;\n",
       "    unicode-bidi: embed;\n",
       "    white-space: pre-wrap;\n",
       "    word-wrap: break-word;\n",
       "    word-break: break-all;\n",
       "    font-family: \"Source Code Pro\", \"Menlo\", monospace;;\n",
       "    font-size: 13px;\n",
       "    color: #555;\n",
       "    margin-left: 4px;\n",
       "    line-height: 19px;\n",
       "  }\n",
       "</style>\n",
       "<div class=\"ansiout\"></div>"
      ]
     },
     "metadata": {},
     "output_type": "display_data"
    }
   ],
   "source": [
    "myJson = sc.parallelize(features_matrix_list)\n",
    "features_matrix = sqlContext.read.json(myJson) #change list of dict to pyspark dataframe"
   ]
  },
  {
   "cell_type": "code",
   "execution_count": 77,
   "metadata": {
    "cell_status": {
     "execute_time": {
      "duration": 740.2041015625,
      "end_time": 1574391461271.937
     }
    }
   },
   "outputs": [
    {
     "data": {
      "text/html": [
       "<style scoped>\n",
       "  .ansiout {\n",
       "    display: block;\n",
       "    unicode-bidi: embed;\n",
       "    white-space: pre-wrap;\n",
       "    word-wrap: break-word;\n",
       "    word-break: break-all;\n",
       "    font-family: \"Source Code Pro\", \"Menlo\", monospace;;\n",
       "    font-size: 13px;\n",
       "    color: #555;\n",
       "    margin-left: 4px;\n",
       "    line-height: 19px;\n",
       "  }\n",
       "</style>\n",
       "<div class=\"ansiout\"><span class=\"ansired\">Out[</span><span class=\"ansired\">108</span><span class=\"ansired\">]: </span>9112</div>"
      ]
     },
     "metadata": {},
     "output_type": "display_data"
    }
   ],
   "source": [
    "features_matrix.count()"
   ]
  },
  {
   "cell_type": "markdown",
   "metadata": {},
   "source": [
    "## save feature matrix to CosmosDB"
   ]
  },
  {
   "cell_type": "code",
   "execution_count": 79,
   "metadata": {
    "cell_status": {
     "execute_time": {
      "duration": 5268.22802734375,
      "end_time": 1574391886610.847
     }
    },
    "collapsed": true
   },
   "outputs": [
    {
     "data": {
      "text/html": [
       "<style scoped>\n",
       "  .ansiout {\n",
       "    display: block;\n",
       "    unicode-bidi: embed;\n",
       "    white-space: pre-wrap;\n",
       "    word-wrap: break-word;\n",
       "    word-break: break-all;\n",
       "    font-family: \"Source Code Pro\", \"Menlo\", monospace;;\n",
       "    font-size: 13px;\n",
       "    color: #555;\n",
       "    margin-left: 4px;\n",
       "    line-height: 19px;\n",
       "  }\n",
       "</style>\n",
       "<div class=\"ansiout\"></div>"
      ]
     },
     "metadata": {},
     "output_type": "display_data"
    }
   ],
   "source": [
    "writeConfig = {\n",
    "    \"Endpoint\": \"https://lolpredict.documents.azure.com:443/\",\n",
    "    \"Masterkey\": \"lAb4WLi89cpXb7jGeMlLZtXUqvlGJip9NtKxDZMWHKUf0wasuAFknSgTxX3M7RAlK2uyFZjau7AJethdaBRDWw==\",\n",
    "    \"Database\": \"league_extraction\",\n",
    "    \"Collection\": \"FINAL_FEATURES_MATRIX_9112\",\n",
    "    \"Upsert\": \"true\"\n",
    "}\n",
    "\n",
    "# Write to Cosmos DB from the flights DataFrame\n",
    "features_matrix.write.format(\"com.microsoft.azure.cosmosdb.spark\").options(\n",
    "    **writeConfig).save()"
   ]
  },
  {
   "cell_type": "code",
   "execution_count": 80,
   "metadata": {
    "collapsed": true
   },
   "outputs": [],
   "source": [
    "9112 "
   ]
  }
 ],
 "metadata": {
  "kernelspec": {
   "display_name": "PySpark",
   "language": "",
   "name": "pysparkkernel"
  },
  "language_info": {
   "codemirror_mode": {
    "name": "python",
    "version": 2
   },
   "mimetype": "text/x-python",
   "name": "pyspark",
   "pygments_lexer": "python2"
  },
  "name": "Create_Stats_Table_Shrink",
  "notebookId": 3553620312142062,
  "toc": {
   "base_numbering": 1,
   "nav_menu": {},
   "number_sections": true,
   "sideBar": true,
   "skip_h1_title": false,
   "title_cell": "Table of Contents",
   "title_sidebar": "Contents",
   "toc_cell": false,
   "toc_position": {},
   "toc_section_display": true,
   "toc_window_display": false
  }
 },
 "nbformat": 4,
 "nbformat_minor": 1
}
