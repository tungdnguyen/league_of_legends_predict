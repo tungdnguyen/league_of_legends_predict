{
 "cells": [
  {
   "cell_type": "code",
   "execution_count": 1,
   "metadata": {
    "ExecuteTime": {
     "end_time": "2019-11-23T19:57:31.814136Z",
     "start_time": "2019-11-23T19:57:30.077096Z"
    }
   },
   "outputs": [
    {
     "name": "stdout",
     "output_type": "stream",
     "text": [
      "Azure ML SDK Version:  1.0.74\n"
     ]
    }
   ],
   "source": [
    "%matplotlib inline\n",
    "import numpy as np\n",
    "import matplotlib\n",
    "import matplotlib.pyplot as plt\n",
    " \n",
    "import azureml\n",
    "from azureml.core import Workspace, Run\n",
    "\n",
    "# display the core SDK version number\n",
    "print(\"Azure ML SDK Version: \", azureml.core.VERSION)"
   ]
  },
  {
   "cell_type": "markdown",
   "metadata": {},
   "source": [
    "## azure config"
   ]
  },
  {
   "cell_type": "code",
   "execution_count": 3,
   "metadata": {
    "ExecuteTime": {
     "end_time": "2019-11-23T19:57:49.569443Z",
     "start_time": "2019-11-23T19:57:48.999565Z"
    }
   },
   "outputs": [
    {
     "name": "stdout",
     "output_type": "stream",
     "text": [
      "SDK version: 1.0.74\n",
      "Workspace name: league-ws-deploy\n",
      "Azure region: northcentralus\n",
      "Subscription id: 79451499-b2c0-4513-8dea-ef7f37173fbb\n",
      "Resource group: league\n"
     ]
    }
   ],
   "source": [
    "# Check core SDK version number\n",
    "print(\"SDK version:\", azureml.core.VERSION)\n",
    "workspace=\"league-ws-deploy\"\n",
    "subscription_id=\"79451499-b2c0-4513-8dea-ef7f37173fbb\"\n",
    "resource_grp=\"league\"\n",
    "\n",
    "experiment_name = \"league_predict_temp\"\n",
    "model_name = \"leaguepredict.mml\" # in case you want to change the name, keep the .mml extension\n",
    "ws = Workspace(workspace_name = workspace,\n",
    "               subscription_id = subscription_id,\n",
    "               resource_group = resource_grp)\n",
    "\n",
    "ws.get_details()\n",
    "\n",
    "print('Workspace name: ' + ws.name, \n",
    "      'Azure region: ' + ws.location, \n",
    "      'Subscription id: ' + ws.subscription_id, \n",
    "      'Resource group: ' + ws.resource_group, sep = '\\n')"
   ]
  },
  {
   "cell_type": "markdown",
   "metadata": {},
   "source": [
    "## model register \n",
    "\n",
    "We register LRM_MODEL_LEAGUE.pkl file which downloaded from Azure Machine Learning Workspace"
   ]
  },
  {
   "cell_type": "code",
   "execution_count": 4,
   "metadata": {
    "ExecuteTime": {
     "end_time": "2019-11-23T19:58:00.235073Z",
     "start_time": "2019-11-23T19:57:51.862914Z"
    }
   },
   "outputs": [
    {
     "name": "stdout",
     "output_type": "stream",
     "text": [
      "Registering model league-predict-final\n"
     ]
    }
   ],
   "source": [
    "from azureml.core.model import Model\n",
    "# Tip: When model_path is set to a directory, you can use the child_paths parameter to include\n",
    "#      only some of the files from the directory\n",
    "model = Model.register(model_path = \"./LRM_MODEL_LEAGUE.pkl\",\n",
    "                       model_name = \"league-predict-final\",\n",
    "                       description = \"Final LR model to predict league game\",\n",
    "                       workspace = ws)"
   ]
  },
  {
   "cell_type": "markdown",
   "metadata": {},
   "source": [
    "## Load model"
   ]
  },
  {
   "cell_type": "code",
   "execution_count": 5,
   "metadata": {
    "ExecuteTime": {
     "end_time": "2019-11-23T19:58:38.041009Z",
     "start_time": "2019-11-23T19:58:35.098954Z"
    }
   },
   "outputs": [
    {
     "data": {
      "text/plain": [
       "'/Users/wazzie27/Documents/LOL_CSP/LOL/league_predict/deploy models/LRM_MODEL_LEAGUE.pkl'"
      ]
     },
     "execution_count": 5,
     "metadata": {},
     "output_type": "execute_result"
    }
   ],
   "source": [
    "from azureml.core import Workspace\n",
    "from azureml.core.model import Model\n",
    "import os\n",
    "model = Model(ws,'league-predict-final')\n",
    "model.download(target_dir=os.getcwd(), exist_ok=True)"
   ]
  },
  {
   "cell_type": "code",
   "execution_count": 6,
   "metadata": {
    "ExecuteTime": {
     "end_time": "2019-11-23T19:58:39.893916Z",
     "start_time": "2019-11-23T19:58:39.888401Z"
    }
   },
   "outputs": [
    {
     "data": {
      "text/plain": [
       "os.stat_result(st_mode=33188, st_ino=8637049954, st_dev=16777221, st_nlink=1, st_uid=501, st_gid=20, st_size=2039, st_atime=1574495558, st_mtime=1574495558, st_ctime=1574539118)"
      ]
     },
     "execution_count": 6,
     "metadata": {},
     "output_type": "execute_result"
    }
   ],
   "source": [
    "# verify the downloaded model file\n",
    "file_path = os.path.join(os.getcwd(), \"LRM_MODEL_LEAGUE.pkl\")\n",
    "os.stat(file_path)"
   ]
  },
  {
   "cell_type": "code",
   "execution_count": 7,
   "metadata": {
    "ExecuteTime": {
     "end_time": "2019-11-23T19:58:41.211706Z",
     "start_time": "2019-11-23T19:58:40.602591Z"
    }
   },
   "outputs": [
    {
     "name": "stderr",
     "output_type": "stream",
     "text": [
      "/Library/Frameworks/Python.framework/Versions/3.6/lib/python3.6/site-packages/sklearn/base.py:311: UserWarning: Trying to unpickle estimator LogisticRegression from version 0.18.1 when using version 0.19.2. This might lead to breaking code or invalid results. Use at your own risk.\n",
      "  UserWarning)\n"
     ]
    }
   ],
   "source": [
    "import pickle\n",
    "from sklearn.externals import joblib\n",
    "\n",
    "clf = joblib.load(os.path.join(os.getcwd(), 'LRM_MODEL_LEAGUE.pkl'))\n"
   ]
  },
  {
   "cell_type": "markdown",
   "metadata": {},
   "source": [
    "## Test load model"
   ]
  },
  {
   "cell_type": "code",
   "execution_count": 8,
   "metadata": {
    "ExecuteTime": {
     "end_time": "2019-11-23T19:58:42.833238Z",
     "start_time": "2019-11-23T19:58:42.701053Z"
    }
   },
   "outputs": [],
   "source": [
    "#Test X:\n",
    "## Test model\n",
    "X = [[3.3999999999999999,\n",
    " 2.96,\n",
    " 600,\n",
    " 0.65800000000000003,\n",
    " 0.30123123466163071,\n",
    " 0.18410751908212095,\n",
    " 410.41896510768584,\n",
    " 0.20030336243075295,\n",
    " 4318.9505277066619,\n",
    " 577.93912980363177,\n",
    " 5.88169164955616,\n",
    " 6.4849368084121393,\n",
    " 0.87315791039853485,\n",
    " 85,\n",
    " 0.5,\n",
    " 3.6000000000000001,\n",
    " 3.5,\n",
    " 125,\n",
    " 0.67500000000000004,\n",
    " 0.29395495195473942,\n",
    " 0.18082721278603589,\n",
    " 428.1462516784668,\n",
    " 0.27523314034832375,\n",
    " 5339.9380667550222,\n",
    " 876.91274588448664,\n",
    " 1.3226042890122958,\n",
    " 10.736147075891495,\n",
    " 0.8910377249121666,\n",
    " 95,\n",
    " 1.25,\n",
    " 3.5,\n",
    " 3.2999999999999998,\n",
    " 525,\n",
    " 0.625,\n",
    " 0.18612762048840523,\n",
    " 0.15140821814537048,\n",
    " 371.31947631835936,\n",
    " 0.19717768862843513,\n",
    " 4057.3041894531252,\n",
    " 515.45530517578129,\n",
    " 5.8118572425842281,\n",
    " 10.803230564594269,\n",
    " 0.72558078169822693,\n",
    " 90,\n",
    " 0.5,\n",
    " 3.7999999999999998,\n",
    " 1.5,\n",
    " 550,\n",
    " 0.625,\n",
    " 0.30310391941491294,\n",
    " 0.18624867213999524,\n",
    " 312.65827852136948,\n",
    " 0.10110246214796514,\n",
    " 2708.7886711569395,\n",
    " 475.83566373937271,\n",
    " 3.5872921891072216,\n",
    " 7.6833199192495911,\n",
    " 1.2895474451429703,\n",
    " 70,\n",
    " 0.5,\n",
    " 3.1000000000000001,\n",
    " 3.7000000000000002,\n",
    " 125,\n",
    " 0.67000000000000004,\n",
    " 0.16705459697792926,\n",
    " 0.12251654081046581,\n",
    " 417.44259134928387,\n",
    " 0.11999686559041341,\n",
    " 6065.4997151692705,\n",
    " 918.65012105305993,\n",
    " 7.4703183968861895,\n",
    " 2.1130569825569787,\n",
    " 0.92597708851099014,\n",
    " 98,\n",
    " 1.25,\n",
    " 3.5,\n",
    " 2.8799999999999999,\n",
    " 650,\n",
    " 0.625,\n",
    " 0.2884471829860441,\n",
    " 0.2071750845399595,\n",
    " 434.76928021830895,\n",
    " 0.23302403657186416,\n",
    " 4716.6966513356856,\n",
    " 565.37959732547881,\n",
    " 6.331517942490116,\n",
    " 2.7908577726733301,\n",
    " 0.86761901647813855,\n",
    " 91,\n",
    " 0.5,\n",
    " 3.0,\n",
    " 3.1000000000000001,\n",
    " 125,\n",
    " 0.66800000000000004,\n",
    " 0.19306321442127228,\n",
    " 0.18885373945037523,\n",
    " 477.09212917751734,\n",
    " 0.32337215708361733,\n",
    " 6416.0355902777774,\n",
    " 1045.743184407552,\n",
    " 1.8867053786913555,\n",
    " 14.824656274583605,\n",
    " 1.1542279124259949,\n",
    " 85,\n",
    " 1.25,\n",
    " 3.0,\n",
    " 3.0,\n",
    " 125,\n",
    " 0.68799999999999994,\n",
    " 0.23950819876044988,\n",
    " 0.23666293006390332,\n",
    " 440.17149810791017,\n",
    " 0.28653685580939053,\n",
    " 5432.2719482421871,\n",
    " 902.91927185058591,\n",
    " 5.999279800057411,\n",
    " 4.6739610195159909,\n",
    " 0.59105795547366147,\n",
    " 85,\n",
    " 1.25,\n",
    " 3.6000000000000001,\n",
    " 3.0,\n",
    " 125,\n",
    " 0.625,\n",
    " 0.37879374383815695,\n",
    " 0.15287592341857298,\n",
    " 288.61904907226562,\n",
    " 0.074509621597826481,\n",
    " 954.12706756591797,\n",
    " 469.37450463431225,\n",
    " 1.0979255070643765,\n",
    " 4.439345134156091,\n",
    " 1.9533485259328569,\n",
    " 87,\n",
    " 1.25,\n",
    " 4.0,\n",
    " 3.75,\n",
    " 125,\n",
    " 0.66500000000000004,\n",
    " 0.23968604059987947,\n",
    " 0.16368059843386473,\n",
    " 386.05426186009458,\n",
    " 0.17364957507111525,\n",
    " 4034.4771921258225,\n",
    " 874.51938267758021,\n",
    " 5.7301859338032575,\n",
    " 3.5375444214594993,\n",
    " 0.58668665509474904,\n",
    " 87,\n",
    " 1.25]]"
   ]
  },
  {
   "cell_type": "code",
   "execution_count": 9,
   "metadata": {
    "ExecuteTime": {
     "end_time": "2019-11-23T19:58:43.294042Z",
     "start_time": "2019-11-23T19:58:43.290976Z"
    }
   },
   "outputs": [],
   "source": [
    "y = [0]"
   ]
  },
  {
   "cell_type": "code",
   "execution_count": 10,
   "metadata": {
    "ExecuteTime": {
     "end_time": "2019-11-23T19:58:43.712252Z",
     "start_time": "2019-11-23T19:58:43.708280Z"
    }
   },
   "outputs": [
    {
     "data": {
      "text/plain": [
       "array([0], dtype=int32)"
      ]
     },
     "execution_count": 10,
     "metadata": {},
     "output_type": "execute_result"
    }
   ],
   "source": [
    "clf.predict(X)"
   ]
  },
  {
   "cell_type": "code",
   "execution_count": 11,
   "metadata": {
    "ExecuteTime": {
     "end_time": "2019-11-23T19:58:44.131561Z",
     "start_time": "2019-11-23T19:58:44.126381Z"
    }
   },
   "outputs": [
    {
     "data": {
      "text/plain": [
       "0.15653374959929353"
      ]
     },
     "execution_count": 11,
     "metadata": {},
     "output_type": "execute_result"
    }
   ],
   "source": [
    "clf.predict_proba(X)[0][1] #chance team 1 win\n"
   ]
  },
  {
   "cell_type": "markdown",
   "metadata": {},
   "source": [
    "## Deploy it on website"
   ]
  },
  {
   "cell_type": "code",
   "execution_count": 42,
   "metadata": {
    "ExecuteTime": {
     "end_time": "2019-11-23T21:08:04.820688Z",
     "start_time": "2019-11-23T21:08:04.815681Z"
    }
   },
   "outputs": [
    {
     "name": "stdout",
     "output_type": "stream",
     "text": [
      "Overwriting score.py\n"
     ]
    }
   ],
   "source": [
    "%%writefile score.py\n",
    "import json\n",
    "import numpy as np\n",
    "import os\n",
    "import pickle\n",
    "from sklearn.externals import joblib\n",
    "from sklearn.linear_model import LogisticRegression\n",
    "\n",
    "from azureml.core.model import Model\n",
    "\n",
    "def init():\n",
    "    global model\n",
    "    # retrieve the path to the model file using the model name\n",
    "    model_path = os.path.join(os.getenv('AZUREML_MODEL_DIR'), 'LRM_MODEL_LEAGUE.pkl')\n",
    "    model = joblib.load(model_path)\n",
    "\n",
    "def run(raw_data):\n",
    "    data = np.array(json.loads(raw_data)['data'])\n",
    "    # make prediction\n",
    "    y_hat = model.predict_proba(data).tolist()\n",
    "    # you can return any data type as long as it is JSON-serializable\n",
    "    return y_hat"
   ]
  },
  {
   "cell_type": "code",
   "execution_count": 43,
   "metadata": {
    "ExecuteTime": {
     "end_time": "2019-11-23T21:08:05.299055Z",
     "start_time": "2019-11-23T21:08:05.287186Z"
    }
   },
   "outputs": [],
   "source": [
    "from azureml.core.conda_dependencies import CondaDependencies \n",
    "\n",
    "myenv = CondaDependencies()\n",
    "myenv.add_conda_package(\"scikit-learn\")\n",
    "myenv.add_conda_package(\"matplotlib\")\n",
    "\n",
    "with open(\"myenv.yml\", \"w\") as f:\n",
    "    f.write(myenv.serialize_to_string())"
   ]
  },
  {
   "cell_type": "code",
   "execution_count": 44,
   "metadata": {
    "ExecuteTime": {
     "end_time": "2019-11-23T21:08:07.347551Z",
     "start_time": "2019-11-23T21:08:07.343716Z"
    }
   },
   "outputs": [],
   "source": [
    "from azureml.core.webservice import AciWebservice\n",
    "\n",
    "aciconfig = AciWebservice.deploy_configuration(cpu_cores=2, \n",
    "                                               memory_gb=4, \n",
    "                                               tags={\"data\": \"LRM_league_3\",  \n",
    "                                                     \"method\": \"sklearn\"},\n",
    "                                               description='Predict League with SKLearn')"
   ]
  },
  {
   "cell_type": "markdown",
   "metadata": {
    "ExecuteTime": {
     "end_time": "2019-11-23T07:06:32.948092Z",
     "start_time": "2019-11-23T07:06:32.939024Z"
    }
   },
   "source": [
    "Configure the image and deploy. The following code goes through these steps:\n",
    "\n",
    "- Build an image by using these files:\n",
    "    - The scoring file, score.py.\n",
    "    - The environment file, myenv.yml.\n",
    "    - The model file.\n",
    "- Register the image under the workspace.\n",
    "- Send the image to the Container Instances container.\n",
    "- Start up a container in Container Instances by using the image.\n",
    "- Get the web service HTTP endpoint."
   ]
  },
  {
   "cell_type": "code",
   "execution_count": 45,
   "metadata": {
    "ExecuteTime": {
     "end_time": "2019-11-23T21:10:55.339688Z",
     "start_time": "2019-11-23T21:08:11.866958Z"
    }
   },
   "outputs": [
    {
     "name": "stdout",
     "output_type": "stream",
     "text": [
      "Running..............................\n",
      "Succeeded\n",
      "ACI service creation operation finished, operation \"Succeeded\"\n",
      "CPU times: user 368 ms, sys: 60.5 ms, total: 428 ms\n",
      "Wall time: 2min 43s\n"
     ]
    }
   ],
   "source": [
    "%%time\n",
    "#deploy the model\n",
    "from azureml.core.webservice import Webservice\n",
    "from azureml.core.model import InferenceConfig\n",
    "\n",
    "inference_config = InferenceConfig(runtime= \"python\", \n",
    "                                   entry_script=\"score.py\",\n",
    "                                   conda_file=\"myenv.yml\")\n",
    "\n",
    "service = Model.deploy(workspace=ws, \n",
    "                       name='lrmpredictfinal6',\n",
    "                       models=[model], \n",
    "                       inference_config=inference_config,\n",
    "                       deployment_config=aciconfig)\n",
    "\n",
    "service.wait_for_deployment(show_output=True)"
   ]
  },
  {
   "cell_type": "code",
   "execution_count": null,
   "metadata": {},
   "outputs": [],
   "source": []
  }
 ],
 "metadata": {
  "kernelspec": {
   "display_name": "Python 3",
   "language": "python",
   "name": "python3"
  },
  "language_info": {
   "codemirror_mode": {
    "name": "ipython",
    "version": 3
   },
   "file_extension": ".py",
   "mimetype": "text/x-python",
   "name": "python",
   "nbconvert_exporter": "python",
   "pygments_lexer": "ipython3",
   "version": "3.6.4"
  },
  "toc": {
   "base_numbering": 1,
   "nav_menu": {},
   "number_sections": true,
   "sideBar": true,
   "skip_h1_title": false,
   "title_cell": "Table of Contents",
   "title_sidebar": "Contents",
   "toc_cell": false,
   "toc_position": {},
   "toc_section_display": true,
   "toc_window_display": false
  }
 },
 "nbformat": 4,
 "nbformat_minor": 2
}
